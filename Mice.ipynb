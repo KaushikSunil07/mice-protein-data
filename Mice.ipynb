{
 "cells": [
  {
   "cell_type": "code",
   "execution_count": 1,
   "metadata": {},
   "outputs": [],
   "source": [
    "#Importing pandas as pd and numpy as np\n",
    "import pandas as pd\n",
    "import numpy as np"
   ]
  },
  {
   "cell_type": "code",
   "execution_count": 2,
   "metadata": {},
   "outputs": [],
   "source": [
    "#Task 1 :Retrieving and Preparing the Data \n",
    "\n",
    "#Data Cleaning - Remove Extra whitespaces,Data entry errors,Handling missing values ,Checking Data types "
   ]
  },
  {
   "cell_type": "code",
   "execution_count": 3,
   "metadata": {},
   "outputs": [
    {
     "data": {
      "text/html": [
       "<div>\n",
       "<style scoped>\n",
       "    .dataframe tbody tr th:only-of-type {\n",
       "        vertical-align: middle;\n",
       "    }\n",
       "\n",
       "    .dataframe tbody tr th {\n",
       "        vertical-align: top;\n",
       "    }\n",
       "\n",
       "    .dataframe thead th {\n",
       "        text-align: right;\n",
       "    }\n",
       "</style>\n",
       "<table border=\"1\" class=\"dataframe\">\n",
       "  <thead>\n",
       "    <tr style=\"text-align: right;\">\n",
       "      <th></th>\n",
       "      <th>MouseID</th>\n",
       "      <th>DYRK1A_N</th>\n",
       "      <th>ITSN1_N</th>\n",
       "      <th>BDNF_N</th>\n",
       "      <th>NR1_N</th>\n",
       "      <th>NR2A_N</th>\n",
       "      <th>pAKT_N</th>\n",
       "      <th>pBRAF_N</th>\n",
       "      <th>pCAMKII_N</th>\n",
       "      <th>pCREB_N</th>\n",
       "      <th>...</th>\n",
       "      <th>pCFOS_N</th>\n",
       "      <th>SYP_N</th>\n",
       "      <th>H3AcK18_N</th>\n",
       "      <th>EGR1_N</th>\n",
       "      <th>H3MeK4_N</th>\n",
       "      <th>CaNA_N</th>\n",
       "      <th>Genotype</th>\n",
       "      <th>Treatment</th>\n",
       "      <th>Behavior</th>\n",
       "      <th>class</th>\n",
       "    </tr>\n",
       "  </thead>\n",
       "  <tbody>\n",
       "    <tr>\n",
       "      <th>0</th>\n",
       "      <td>309_1</td>\n",
       "      <td>0.503644</td>\n",
       "      <td>0.747193</td>\n",
       "      <td>0.430175</td>\n",
       "      <td>2.816329</td>\n",
       "      <td>5.990152</td>\n",
       "      <td>0.218830</td>\n",
       "      <td>0.177565</td>\n",
       "      <td>2.373744</td>\n",
       "      <td>0.232224</td>\n",
       "      <td>...</td>\n",
       "      <td>0.108336</td>\n",
       "      <td>0.427099</td>\n",
       "      <td>0.114783</td>\n",
       "      <td>0.131790</td>\n",
       "      <td>0.128186</td>\n",
       "      <td>1.675652</td>\n",
       "      <td>Control</td>\n",
       "      <td>Memantine</td>\n",
       "      <td>C/S</td>\n",
       "      <td>c-CS-m</td>\n",
       "    </tr>\n",
       "    <tr>\n",
       "      <th>1</th>\n",
       "      <td>309_2</td>\n",
       "      <td>0.514617</td>\n",
       "      <td>0.689064</td>\n",
       "      <td>0.411770</td>\n",
       "      <td>2.789514</td>\n",
       "      <td>5.685038</td>\n",
       "      <td>0.211636</td>\n",
       "      <td>0.172817</td>\n",
       "      <td>2.292150</td>\n",
       "      <td>0.226972</td>\n",
       "      <td>...</td>\n",
       "      <td>0.104315</td>\n",
       "      <td>0.441581</td>\n",
       "      <td>0.111974</td>\n",
       "      <td>0.135103</td>\n",
       "      <td>0.131119</td>\n",
       "      <td>1.743610</td>\n",
       "      <td>Control</td>\n",
       "      <td>Memantine</td>\n",
       "      <td>C/S</td>\n",
       "      <td>c-CS-m</td>\n",
       "    </tr>\n",
       "    <tr>\n",
       "      <th>2</th>\n",
       "      <td>309_3</td>\n",
       "      <td>0.509183</td>\n",
       "      <td>0.730247</td>\n",
       "      <td>0.418309</td>\n",
       "      <td>2.687201</td>\n",
       "      <td>5.622059</td>\n",
       "      <td>0.209011</td>\n",
       "      <td>0.175722</td>\n",
       "      <td>2.283337</td>\n",
       "      <td>0.230247</td>\n",
       "      <td>...</td>\n",
       "      <td>0.106219</td>\n",
       "      <td>0.435777</td>\n",
       "      <td>0.111883</td>\n",
       "      <td>0.133362</td>\n",
       "      <td>0.127431</td>\n",
       "      <td>1.926427</td>\n",
       "      <td>Control</td>\n",
       "      <td>Memantine</td>\n",
       "      <td>C/S</td>\n",
       "      <td>c-CS-m</td>\n",
       "    </tr>\n",
       "    <tr>\n",
       "      <th>3</th>\n",
       "      <td>309_4</td>\n",
       "      <td>0.442107</td>\n",
       "      <td>0.617076</td>\n",
       "      <td>0.358626</td>\n",
       "      <td>2.466947</td>\n",
       "      <td>4.979503</td>\n",
       "      <td>0.222886</td>\n",
       "      <td>0.176463</td>\n",
       "      <td>2.152301</td>\n",
       "      <td>0.207004</td>\n",
       "      <td>...</td>\n",
       "      <td>0.111262</td>\n",
       "      <td>0.391691</td>\n",
       "      <td>0.130405</td>\n",
       "      <td>0.147444</td>\n",
       "      <td>0.146901</td>\n",
       "      <td>1.700563</td>\n",
       "      <td>Control</td>\n",
       "      <td>Memantine</td>\n",
       "      <td>C/S</td>\n",
       "      <td>c-CS-m</td>\n",
       "    </tr>\n",
       "    <tr>\n",
       "      <th>4</th>\n",
       "      <td>309_5</td>\n",
       "      <td>0.434940</td>\n",
       "      <td>0.617430</td>\n",
       "      <td>0.358802</td>\n",
       "      <td>2.365785</td>\n",
       "      <td>4.718679</td>\n",
       "      <td>0.213106</td>\n",
       "      <td>0.173627</td>\n",
       "      <td>2.134014</td>\n",
       "      <td>0.192158</td>\n",
       "      <td>...</td>\n",
       "      <td>0.110694</td>\n",
       "      <td>0.434154</td>\n",
       "      <td>0.118481</td>\n",
       "      <td>0.140314</td>\n",
       "      <td>0.148380</td>\n",
       "      <td>1.839730</td>\n",
       "      <td>Control</td>\n",
       "      <td>Memantine</td>\n",
       "      <td>C/S</td>\n",
       "      <td>c-CS-m</td>\n",
       "    </tr>\n",
       "  </tbody>\n",
       "</table>\n",
       "<p>5 rows × 82 columns</p>\n",
       "</div>"
      ],
      "text/plain": [
       "  MouseID  DYRK1A_N   ITSN1_N    BDNF_N     NR1_N    NR2A_N    pAKT_N  \\\n",
       "0   309_1  0.503644  0.747193  0.430175  2.816329  5.990152  0.218830   \n",
       "1   309_2  0.514617  0.689064  0.411770  2.789514  5.685038  0.211636   \n",
       "2   309_3  0.509183  0.730247  0.418309  2.687201  5.622059  0.209011   \n",
       "3   309_4  0.442107  0.617076  0.358626  2.466947  4.979503  0.222886   \n",
       "4   309_5  0.434940  0.617430  0.358802  2.365785  4.718679  0.213106   \n",
       "\n",
       "    pBRAF_N  pCAMKII_N   pCREB_N  ...   pCFOS_N     SYP_N  H3AcK18_N  \\\n",
       "0  0.177565   2.373744  0.232224  ...  0.108336  0.427099   0.114783   \n",
       "1  0.172817   2.292150  0.226972  ...  0.104315  0.441581   0.111974   \n",
       "2  0.175722   2.283337  0.230247  ...  0.106219  0.435777   0.111883   \n",
       "3  0.176463   2.152301  0.207004  ...  0.111262  0.391691   0.130405   \n",
       "4  0.173627   2.134014  0.192158  ...  0.110694  0.434154   0.118481   \n",
       "\n",
       "     EGR1_N  H3MeK4_N    CaNA_N  Genotype  Treatment  Behavior   class  \n",
       "0  0.131790  0.128186  1.675652   Control  Memantine       C/S  c-CS-m  \n",
       "1  0.135103  0.131119  1.743610   Control  Memantine       C/S  c-CS-m  \n",
       "2  0.133362  0.127431  1.926427   Control  Memantine       C/S  c-CS-m  \n",
       "3  0.147444  0.146901  1.700563   Control  Memantine       C/S  c-CS-m  \n",
       "4  0.140314  0.148380  1.839730   Control  Memantine       C/S  c-CS-m  \n",
       "\n",
       "[5 rows x 82 columns]"
      ]
     },
     "execution_count": 3,
     "metadata": {},
     "output_type": "execute_result"
    }
   ],
   "source": [
    "#Importing the mice data \n",
    "mice = pd.read_csv('Data_Cortex_Nuclear.csv',sep=',',decimal='.')\n",
    "mice.head()"
   ]
  },
  {
   "cell_type": "code",
   "execution_count": 4,
   "metadata": {},
   "outputs": [
    {
     "data": {
      "text/plain": [
       "MouseID       object\n",
       "DYRK1A_N     float64\n",
       "ITSN1_N      float64\n",
       "BDNF_N       float64\n",
       "NR1_N        float64\n",
       "              ...   \n",
       "CaNA_N       float64\n",
       "Genotype      object\n",
       "Treatment     object\n",
       "Behavior      object\n",
       "class         object\n",
       "Length: 82, dtype: object"
      ]
     },
     "execution_count": 4,
     "metadata": {},
     "output_type": "execute_result"
    }
   ],
   "source": [
    "#check datatypes of columns \n",
    "mice_datatype = mice.dtypes\n",
    "mice_datatype"
   ]
  },
  {
   "cell_type": "code",
   "execution_count": 5,
   "metadata": {},
   "outputs": [
    {
     "data": {
      "text/plain": [
       "Control    570\n",
       "Ts65Dn     510\n",
       "Name: Genotype, dtype: int64"
      ]
     },
     "execution_count": 5,
     "metadata": {},
     "output_type": "execute_result"
    }
   ],
   "source": [
    "#Check extra whitespaces of Genotype column,generate frequency of Genotype column\n",
    "mice.Genotype.value_counts()"
   ]
  },
  {
   "cell_type": "code",
   "execution_count": 6,
   "metadata": {},
   "outputs": [
    {
     "data": {
      "text/plain": [
       "array(['Control', 'Ts65Dn'], dtype=object)"
      ]
     },
     "execution_count": 6,
     "metadata": {},
     "output_type": "execute_result"
    }
   ],
   "source": [
    "#Check the unique values in Genotype column\n",
    "mice.Genotype.unique()"
   ]
  },
  {
   "cell_type": "code",
   "execution_count": 7,
   "metadata": {},
   "outputs": [
    {
     "data": {
      "text/plain": [
       "Memantine    570\n",
       "Saline       510\n",
       "Name: Treatment, dtype: int64"
      ]
     },
     "execution_count": 7,
     "metadata": {},
     "output_type": "execute_result"
    }
   ],
   "source": [
    "#Check extra whitespaces of Treatment column, generate frequency of Treatment column\n",
    "mice.Treatment.value_counts()"
   ]
  },
  {
   "cell_type": "code",
   "execution_count": 8,
   "metadata": {},
   "outputs": [
    {
     "data": {
      "text/plain": [
       "array(['Memantine', 'Saline'], dtype=object)"
      ]
     },
     "execution_count": 8,
     "metadata": {},
     "output_type": "execute_result"
    }
   ],
   "source": [
    "#Check the unique values in Treatment column\n",
    "mice.Treatment.unique()"
   ]
  },
  {
   "cell_type": "code",
   "execution_count": 9,
   "metadata": {},
   "outputs": [
    {
     "data": {
      "text/plain": [
       "S/C    555\n",
       "C/S    525\n",
       "Name: Behavior, dtype: int64"
      ]
     },
     "execution_count": 9,
     "metadata": {},
     "output_type": "execute_result"
    }
   ],
   "source": [
    "#Check extra whitespaces of Behavior column,generate frequency of Behavior column\n",
    "mice.Behavior.value_counts()"
   ]
  },
  {
   "cell_type": "code",
   "execution_count": 10,
   "metadata": {},
   "outputs": [
    {
     "data": {
      "text/plain": [
       "array(['C/S', 'S/C'], dtype=object)"
      ]
     },
     "execution_count": 10,
     "metadata": {},
     "output_type": "execute_result"
    }
   ],
   "source": [
    "#Check the unique values in Behavior column\n",
    "mice.Behavior.unique()"
   ]
  },
  {
   "cell_type": "code",
   "execution_count": 11,
   "metadata": {},
   "outputs": [
    {
     "data": {
      "text/plain": [
       "c-SC-m    150\n",
       "c-CS-m    150\n",
       "c-SC-s    135\n",
       "t-SC-m    135\n",
       "t-CS-m    135\n",
       "t-SC-s    135\n",
       "c-CS-s    135\n",
       "t-CS-s    105\n",
       "Name: class, dtype: int64"
      ]
     },
     "execution_count": 11,
     "metadata": {},
     "output_type": "execute_result"
    }
   ],
   "source": [
    "#Check extra whitespaces of class column,generate frequency of class column\n",
    "mice['class'].value_counts()"
   ]
  },
  {
   "cell_type": "code",
   "execution_count": 12,
   "metadata": {},
   "outputs": [
    {
     "data": {
      "text/plain": [
       "array(['c-CS-m', 'c-SC-m', 'c-CS-s', 'c-SC-s', 't-CS-m', 't-SC-m',\n",
       "       't-CS-s', 't-SC-s'], dtype=object)"
      ]
     },
     "execution_count": 12,
     "metadata": {},
     "output_type": "execute_result"
    }
   ],
   "source": [
    "#Check the unique values in class column\n",
    "mice['class'].unique()"
   ]
  },
  {
   "cell_type": "code",
   "execution_count": 13,
   "metadata": {},
   "outputs": [
    {
     "data": {
      "text/html": [
       "<div>\n",
       "<style scoped>\n",
       "    .dataframe tbody tr th:only-of-type {\n",
       "        vertical-align: middle;\n",
       "    }\n",
       "\n",
       "    .dataframe tbody tr th {\n",
       "        vertical-align: top;\n",
       "    }\n",
       "\n",
       "    .dataframe thead th {\n",
       "        text-align: right;\n",
       "    }\n",
       "</style>\n",
       "<table border=\"1\" class=\"dataframe\">\n",
       "  <thead>\n",
       "    <tr style=\"text-align: right;\">\n",
       "      <th></th>\n",
       "      <th>MouseID</th>\n",
       "      <th>DYRK1A_N</th>\n",
       "      <th>ITSN1_N</th>\n",
       "      <th>BDNF_N</th>\n",
       "      <th>NR1_N</th>\n",
       "      <th>NR2A_N</th>\n",
       "      <th>pAKT_N</th>\n",
       "      <th>pBRAF_N</th>\n",
       "      <th>pCAMKII_N</th>\n",
       "      <th>pCREB_N</th>\n",
       "      <th>...</th>\n",
       "      <th>pCFOS_N</th>\n",
       "      <th>SYP_N</th>\n",
       "      <th>H3AcK18_N</th>\n",
       "      <th>EGR1_N</th>\n",
       "      <th>H3MeK4_N</th>\n",
       "      <th>CaNA_N</th>\n",
       "      <th>Genotype</th>\n",
       "      <th>Treatment</th>\n",
       "      <th>Behavior</th>\n",
       "      <th>class</th>\n",
       "    </tr>\n",
       "  </thead>\n",
       "  <tbody>\n",
       "    <tr>\n",
       "      <th>0</th>\n",
       "      <td>309_1</td>\n",
       "      <td>0.5036438839999999</td>\n",
       "      <td>0.7471932240000001</td>\n",
       "      <td>0.4301753</td>\n",
       "      <td>2.81632854</td>\n",
       "      <td>5.990151664</td>\n",
       "      <td>0.21883001800000002</td>\n",
       "      <td>0.17756549100000002</td>\n",
       "      <td>2.3737443369999998</td>\n",
       "      <td>0.23222375399999998</td>\n",
       "      <td>...</td>\n",
       "      <td>0.10833587199999999</td>\n",
       "      <td>0.42709919799999996</td>\n",
       "      <td>0.11478322699999999</td>\n",
       "      <td>0.131790029</td>\n",
       "      <td>0.128185603</td>\n",
       "      <td>1.67565235</td>\n",
       "      <td>CONTROL</td>\n",
       "      <td>MEMANTINE</td>\n",
       "      <td>C/S</td>\n",
       "      <td>C-CS-M</td>\n",
       "    </tr>\n",
       "    <tr>\n",
       "      <th>1</th>\n",
       "      <td>309_2</td>\n",
       "      <td>0.51461708</td>\n",
       "      <td>0.689063548</td>\n",
       "      <td>0.411770344</td>\n",
       "      <td>2.789514042</td>\n",
       "      <td>5.6850378610000005</td>\n",
       "      <td>0.211636155</td>\n",
       "      <td>0.17281702300000001</td>\n",
       "      <td>2.292149909</td>\n",
       "      <td>0.226972108</td>\n",
       "      <td>...</td>\n",
       "      <td>0.10431543</td>\n",
       "      <td>0.441581289</td>\n",
       "      <td>0.11197350699999999</td>\n",
       "      <td>0.13510297</td>\n",
       "      <td>0.1311187</td>\n",
       "      <td>1.743609645</td>\n",
       "      <td>CONTROL</td>\n",
       "      <td>MEMANTINE</td>\n",
       "      <td>C/S</td>\n",
       "      <td>C-CS-M</td>\n",
       "    </tr>\n",
       "    <tr>\n",
       "      <th>2</th>\n",
       "      <td>309_3</td>\n",
       "      <td>0.509183088</td>\n",
       "      <td>0.730246795</td>\n",
       "      <td>0.418308781</td>\n",
       "      <td>2.687201071</td>\n",
       "      <td>5.622058542</td>\n",
       "      <td>0.209010905</td>\n",
       "      <td>0.175722212</td>\n",
       "      <td>2.283336522</td>\n",
       "      <td>0.230246795</td>\n",
       "      <td>...</td>\n",
       "      <td>0.10621927800000001</td>\n",
       "      <td>0.435776875</td>\n",
       "      <td>0.11188288099999999</td>\n",
       "      <td>0.13336182900000002</td>\n",
       "      <td>0.127431075</td>\n",
       "      <td>1.926426587</td>\n",
       "      <td>CONTROL</td>\n",
       "      <td>MEMANTINE</td>\n",
       "      <td>C/S</td>\n",
       "      <td>C-CS-M</td>\n",
       "    </tr>\n",
       "    <tr>\n",
       "      <th>3</th>\n",
       "      <td>309_4</td>\n",
       "      <td>0.442106692</td>\n",
       "      <td>0.61707615</td>\n",
       "      <td>0.35862630700000003</td>\n",
       "      <td>2.466947197</td>\n",
       "      <td>4.97950319</td>\n",
       "      <td>0.222885842</td>\n",
       "      <td>0.176462604</td>\n",
       "      <td>2.152300801</td>\n",
       "      <td>0.207004208</td>\n",
       "      <td>...</td>\n",
       "      <td>0.111261965</td>\n",
       "      <td>0.391690992</td>\n",
       "      <td>0.13040526800000002</td>\n",
       "      <td>0.147444165</td>\n",
       "      <td>0.146901093</td>\n",
       "      <td>1.700563438</td>\n",
       "      <td>CONTROL</td>\n",
       "      <td>MEMANTINE</td>\n",
       "      <td>C/S</td>\n",
       "      <td>C-CS-M</td>\n",
       "    </tr>\n",
       "    <tr>\n",
       "      <th>4</th>\n",
       "      <td>309_5</td>\n",
       "      <td>0.434940244</td>\n",
       "      <td>0.617429838</td>\n",
       "      <td>0.358802202</td>\n",
       "      <td>2.36578488</td>\n",
       "      <td>4.718678663</td>\n",
       "      <td>0.213105949</td>\n",
       "      <td>0.173626964</td>\n",
       "      <td>2.134013697</td>\n",
       "      <td>0.192157916</td>\n",
       "      <td>...</td>\n",
       "      <td>0.11069392300000001</td>\n",
       "      <td>0.43415380299999995</td>\n",
       "      <td>0.118481435</td>\n",
       "      <td>0.14031428199999998</td>\n",
       "      <td>0.148379919</td>\n",
       "      <td>1.8397302180000001</td>\n",
       "      <td>CONTROL</td>\n",
       "      <td>MEMANTINE</td>\n",
       "      <td>C/S</td>\n",
       "      <td>C-CS-M</td>\n",
       "    </tr>\n",
       "    <tr>\n",
       "      <th>...</th>\n",
       "      <td>...</td>\n",
       "      <td>...</td>\n",
       "      <td>...</td>\n",
       "      <td>...</td>\n",
       "      <td>...</td>\n",
       "      <td>...</td>\n",
       "      <td>...</td>\n",
       "      <td>...</td>\n",
       "      <td>...</td>\n",
       "      <td>...</td>\n",
       "      <td>...</td>\n",
       "      <td>...</td>\n",
       "      <td>...</td>\n",
       "      <td>...</td>\n",
       "      <td>...</td>\n",
       "      <td>...</td>\n",
       "      <td>...</td>\n",
       "      <td>...</td>\n",
       "      <td>...</td>\n",
       "      <td>...</td>\n",
       "      <td>...</td>\n",
       "    </tr>\n",
       "    <tr>\n",
       "      <th>1075</th>\n",
       "      <td>J3295_11</td>\n",
       "      <td>0.254860375</td>\n",
       "      <td>0.463591375</td>\n",
       "      <td>0.254860375</td>\n",
       "      <td>2.092082008</td>\n",
       "      <td>2.600035348</td>\n",
       "      <td>0.21173559600000003</td>\n",
       "      <td>0.17126193</td>\n",
       "      <td>2.483739837</td>\n",
       "      <td>0.20731707300000002</td>\n",
       "      <td>...</td>\n",
       "      <td>0.183323975</td>\n",
       "      <td>0.374087591</td>\n",
       "      <td>0.31878158300000003</td>\n",
       "      <td>0.20466030300000002</td>\n",
       "      <td>0.328326783</td>\n",
       "      <td>1.364823133</td>\n",
       "      <td>TS65DN</td>\n",
       "      <td>SALINE</td>\n",
       "      <td>S/C</td>\n",
       "      <td>T-SC-S</td>\n",
       "    </tr>\n",
       "    <tr>\n",
       "      <th>1076</th>\n",
       "      <td>J3295_12</td>\n",
       "      <td>0.272197962</td>\n",
       "      <td>0.474163028</td>\n",
       "      <td>0.251637555</td>\n",
       "      <td>2.161390102</td>\n",
       "      <td>2.8014919939999996</td>\n",
       "      <td>0.25127365399999996</td>\n",
       "      <td>0.18249636100000002</td>\n",
       "      <td>2.512736536</td>\n",
       "      <td>0.216339156</td>\n",
       "      <td>...</td>\n",
       "      <td>0.17567380800000001</td>\n",
       "      <td>0.375259157</td>\n",
       "      <td>0.325639254</td>\n",
       "      <td>0.20041465100000003</td>\n",
       "      <td>0.293434692</td>\n",
       "      <td>1.3644782309999999</td>\n",
       "      <td>TS65DN</td>\n",
       "      <td>SALINE</td>\n",
       "      <td>S/C</td>\n",
       "      <td>T-SC-S</td>\n",
       "    </tr>\n",
       "    <tr>\n",
       "      <th>1077</th>\n",
       "      <td>J3295_13</td>\n",
       "      <td>0.228699552</td>\n",
       "      <td>0.39517937200000003</td>\n",
       "      <td>0.234118087</td>\n",
       "      <td>1.7331838569999998</td>\n",
       "      <td>2.220852018</td>\n",
       "      <td>0.220665172</td>\n",
       "      <td>0.161434978</td>\n",
       "      <td>1.9897234680000002</td>\n",
       "      <td>0.185164425</td>\n",
       "      <td>...</td>\n",
       "      <td>0.158295558</td>\n",
       "      <td>0.422121487</td>\n",
       "      <td>0.32130553</td>\n",
       "      <td>0.22919311</td>\n",
       "      <td>0.355213055</td>\n",
       "      <td>1.4308250230000001</td>\n",
       "      <td>TS65DN</td>\n",
       "      <td>SALINE</td>\n",
       "      <td>S/C</td>\n",
       "      <td>T-SC-S</td>\n",
       "    </tr>\n",
       "    <tr>\n",
       "      <th>1078</th>\n",
       "      <td>J3295_14</td>\n",
       "      <td>0.221242406</td>\n",
       "      <td>0.412894376</td>\n",
       "      <td>0.243974133</td>\n",
       "      <td>1.8763472469999998</td>\n",
       "      <td>2.384087791</td>\n",
       "      <td>0.208896727</td>\n",
       "      <td>0.17362335899999998</td>\n",
       "      <td>2.0860278269999997</td>\n",
       "      <td>0.19204389600000002</td>\n",
       "      <td>...</td>\n",
       "      <td>0.19629562399999997</td>\n",
       "      <td>0.397675685</td>\n",
       "      <td>0.335936081</td>\n",
       "      <td>0.251316506</td>\n",
       "      <td>0.365353187</td>\n",
       "      <td>1.4040312330000002</td>\n",
       "      <td>TS65DN</td>\n",
       "      <td>SALINE</td>\n",
       "      <td>S/C</td>\n",
       "      <td>T-SC-S</td>\n",
       "    </tr>\n",
       "    <tr>\n",
       "      <th>1079</th>\n",
       "      <td>J3295_15</td>\n",
       "      <td>0.302625723</td>\n",
       "      <td>0.46105919</td>\n",
       "      <td>0.256564308</td>\n",
       "      <td>2.092790387</td>\n",
       "      <td>2.59434802</td>\n",
       "      <td>0.251001335</td>\n",
       "      <td>0.191811304</td>\n",
       "      <td>2.361815754</td>\n",
       "      <td>0.22363150899999998</td>\n",
       "      <td>...</td>\n",
       "      <td>0.187555873</td>\n",
       "      <td>0.42034686200000004</td>\n",
       "      <td>0.33506168399999997</td>\n",
       "      <td>0.252994815</td>\n",
       "      <td>0.36527802600000003</td>\n",
       "      <td>1.370999464</td>\n",
       "      <td>TS65DN</td>\n",
       "      <td>SALINE</td>\n",
       "      <td>S/C</td>\n",
       "      <td>T-SC-S</td>\n",
       "    </tr>\n",
       "  </tbody>\n",
       "</table>\n",
       "<p>1080 rows × 82 columns</p>\n",
       "</div>"
      ],
      "text/plain": [
       "       MouseID            DYRK1A_N              ITSN1_N               BDNF_N  \\\n",
       "0        309_1  0.5036438839999999   0.7471932240000001            0.4301753   \n",
       "1        309_2          0.51461708          0.689063548          0.411770344   \n",
       "2        309_3         0.509183088          0.730246795          0.418308781   \n",
       "3        309_4         0.442106692           0.61707615  0.35862630700000003   \n",
       "4        309_5         0.434940244          0.617429838          0.358802202   \n",
       "...        ...                 ...                  ...                  ...   \n",
       "1075  J3295_11         0.254860375          0.463591375          0.254860375   \n",
       "1076  J3295_12         0.272197962          0.474163028          0.251637555   \n",
       "1077  J3295_13         0.228699552  0.39517937200000003          0.234118087   \n",
       "1078  J3295_14         0.221242406          0.412894376          0.243974133   \n",
       "1079  J3295_15         0.302625723           0.46105919          0.256564308   \n",
       "\n",
       "                   NR1_N              NR2A_N               pAKT_N  \\\n",
       "0             2.81632854         5.990151664  0.21883001800000002   \n",
       "1            2.789514042  5.6850378610000005          0.211636155   \n",
       "2            2.687201071         5.622058542          0.209010905   \n",
       "3            2.466947197          4.97950319          0.222885842   \n",
       "4             2.36578488         4.718678663          0.213105949   \n",
       "...                  ...                 ...                  ...   \n",
       "1075         2.092082008         2.600035348  0.21173559600000003   \n",
       "1076         2.161390102  2.8014919939999996  0.25127365399999996   \n",
       "1077  1.7331838569999998         2.220852018          0.220665172   \n",
       "1078  1.8763472469999998         2.384087791          0.208896727   \n",
       "1079         2.092790387          2.59434802          0.251001335   \n",
       "\n",
       "                  pBRAF_N           pCAMKII_N              pCREB_N  ...  \\\n",
       "0     0.17756549100000002  2.3737443369999998  0.23222375399999998  ...   \n",
       "1     0.17281702300000001         2.292149909          0.226972108  ...   \n",
       "2             0.175722212         2.283336522          0.230246795  ...   \n",
       "3             0.176462604         2.152300801          0.207004208  ...   \n",
       "4             0.173626964         2.134013697          0.192157916  ...   \n",
       "...                   ...                 ...                  ...  ...   \n",
       "1075           0.17126193         2.483739837  0.20731707300000002  ...   \n",
       "1076  0.18249636100000002         2.512736536          0.216339156  ...   \n",
       "1077          0.161434978  1.9897234680000002          0.185164425  ...   \n",
       "1078  0.17362335899999998  2.0860278269999997  0.19204389600000002  ...   \n",
       "1079          0.191811304         2.361815754  0.22363150899999998  ...   \n",
       "\n",
       "                  pCFOS_N                SYP_N            H3AcK18_N  \\\n",
       "0     0.10833587199999999  0.42709919799999996  0.11478322699999999   \n",
       "1              0.10431543          0.441581289  0.11197350699999999   \n",
       "2     0.10621927800000001          0.435776875  0.11188288099999999   \n",
       "3             0.111261965          0.391690992  0.13040526800000002   \n",
       "4     0.11069392300000001  0.43415380299999995          0.118481435   \n",
       "...                   ...                  ...                  ...   \n",
       "1075          0.183323975          0.374087591  0.31878158300000003   \n",
       "1076  0.17567380800000001          0.375259157          0.325639254   \n",
       "1077          0.158295558          0.422121487           0.32130553   \n",
       "1078  0.19629562399999997          0.397675685          0.335936081   \n",
       "1079          0.187555873  0.42034686200000004  0.33506168399999997   \n",
       "\n",
       "                   EGR1_N             H3MeK4_N              CaNA_N Genotype  \\\n",
       "0             0.131790029          0.128185603          1.67565235  CONTROL   \n",
       "1              0.13510297            0.1311187         1.743609645  CONTROL   \n",
       "2     0.13336182900000002          0.127431075         1.926426587  CONTROL   \n",
       "3             0.147444165          0.146901093         1.700563438  CONTROL   \n",
       "4     0.14031428199999998          0.148379919  1.8397302180000001  CONTROL   \n",
       "...                   ...                  ...                 ...      ...   \n",
       "1075  0.20466030300000002          0.328326783         1.364823133   TS65DN   \n",
       "1076  0.20041465100000003          0.293434692  1.3644782309999999   TS65DN   \n",
       "1077           0.22919311          0.355213055  1.4308250230000001   TS65DN   \n",
       "1078          0.251316506          0.365353187  1.4040312330000002   TS65DN   \n",
       "1079          0.252994815  0.36527802600000003         1.370999464   TS65DN   \n",
       "\n",
       "      Treatment Behavior   class  \n",
       "0     MEMANTINE      C/S  C-CS-M  \n",
       "1     MEMANTINE      C/S  C-CS-M  \n",
       "2     MEMANTINE      C/S  C-CS-M  \n",
       "3     MEMANTINE      C/S  C-CS-M  \n",
       "4     MEMANTINE      C/S  C-CS-M  \n",
       "...         ...      ...     ...  \n",
       "1075     SALINE      S/C  T-SC-S  \n",
       "1076     SALINE      S/C  T-SC-S  \n",
       "1077     SALINE      S/C  T-SC-S  \n",
       "1078     SALINE      S/C  T-SC-S  \n",
       "1079     SALINE      S/C  T-SC-S  \n",
       "\n",
       "[1080 rows x 82 columns]"
      ]
     },
     "execution_count": 13,
     "metadata": {},
     "output_type": "execute_result"
    }
   ],
   "source": [
    "#Converting the all the Text data to Upper case in data frame\n",
    "mice.apply(lambda x: x.astype(str).str.upper())"
   ]
  },
  {
   "cell_type": "code",
   "execution_count": 14,
   "metadata": {},
   "outputs": [
    {
     "data": {
      "text/plain": [
       "MouseID      0\n",
       "DYRK1A_N     3\n",
       "ITSN1_N      3\n",
       "BDNF_N       3\n",
       "NR1_N        3\n",
       "            ..\n",
       "CaNA_N       0\n",
       "Genotype     0\n",
       "Treatment    0\n",
       "Behavior     0\n",
       "class        0\n",
       "Length: 82, dtype: int64"
      ]
     },
     "execution_count": 14,
     "metadata": {},
     "output_type": "execute_result"
    }
   ],
   "source": [
    "#Missing values-Calculating the sum of null values in each colum\n",
    "mice.isna().sum()"
   ]
  },
  {
   "cell_type": "code",
   "execution_count": 15,
   "metadata": {},
   "outputs": [
    {
     "data": {
      "text/plain": [
       "0       1\n",
       "1       1\n",
       "2       1\n",
       "3       1\n",
       "4       1\n",
       "       ..\n",
       "1075    1\n",
       "1076    1\n",
       "1077    1\n",
       "1078    1\n",
       "1079    1\n",
       "Length: 1080, dtype: int64"
      ]
     },
     "execution_count": 15,
     "metadata": {},
     "output_type": "execute_result"
    }
   ],
   "source": [
    "#Calculating the sum of null values in each rows \n",
    "mice.isna().sum(axis=1)"
   ]
  },
  {
   "cell_type": "code",
   "execution_count": 16,
   "metadata": {},
   "outputs": [],
   "source": [
    "#We are replacing the missing values with 0 ,as it will not change the mean/avg values across all protien levels\n",
    "mice.fillna(0, inplace=True)"
   ]
  },
  {
   "cell_type": "code",
   "execution_count": 17,
   "metadata": {},
   "outputs": [
    {
     "data": {
      "text/plain": [
       "MouseID      0\n",
       "DYRK1A_N     0\n",
       "ITSN1_N      0\n",
       "BDNF_N       0\n",
       "NR1_N        0\n",
       "            ..\n",
       "CaNA_N       0\n",
       "Genotype     0\n",
       "Treatment    0\n",
       "Behavior     0\n",
       "class        0\n",
       "Length: 82, dtype: int64"
      ]
     },
     "execution_count": 17,
     "metadata": {},
     "output_type": "execute_result"
    }
   ],
   "source": [
    "#Validating the missing values column wise \n",
    "mice.isna().sum()"
   ]
  },
  {
   "cell_type": "code",
   "execution_count": 18,
   "metadata": {},
   "outputs": [
    {
     "data": {
      "text/plain": [
       "0       0\n",
       "1       0\n",
       "2       0\n",
       "3       0\n",
       "4       0\n",
       "       ..\n",
       "1075    0\n",
       "1076    0\n",
       "1077    0\n",
       "1078    0\n",
       "1079    0\n",
       "Length: 1080, dtype: int64"
      ]
     },
     "execution_count": 18,
     "metadata": {},
     "output_type": "execute_result"
    }
   ],
   "source": [
    "#Validating the missing values rows wise \n",
    "mice.isna().sum(axis=1)"
   ]
  },
  {
   "cell_type": "code",
   "execution_count": 19,
   "metadata": {},
   "outputs": [
    {
     "data": {
      "text/html": [
       "<div>\n",
       "<style scoped>\n",
       "    .dataframe tbody tr th:only-of-type {\n",
       "        vertical-align: middle;\n",
       "    }\n",
       "\n",
       "    .dataframe tbody tr th {\n",
       "        vertical-align: top;\n",
       "    }\n",
       "\n",
       "    .dataframe thead th {\n",
       "        text-align: right;\n",
       "    }\n",
       "</style>\n",
       "<table border=\"1\" class=\"dataframe\">\n",
       "  <thead>\n",
       "    <tr style=\"text-align: right;\">\n",
       "      <th></th>\n",
       "      <th>DYRK1A_N</th>\n",
       "      <th>ITSN1_N</th>\n",
       "      <th>BDNF_N</th>\n",
       "      <th>NR1_N</th>\n",
       "      <th>NR2A_N</th>\n",
       "      <th>pAKT_N</th>\n",
       "      <th>pBRAF_N</th>\n",
       "      <th>pCAMKII_N</th>\n",
       "      <th>pCREB_N</th>\n",
       "      <th>pELK_N</th>\n",
       "      <th>...</th>\n",
       "      <th>SHH_N</th>\n",
       "      <th>BAD_N</th>\n",
       "      <th>BCL2_N</th>\n",
       "      <th>pS6_N</th>\n",
       "      <th>pCFOS_N</th>\n",
       "      <th>SYP_N</th>\n",
       "      <th>H3AcK18_N</th>\n",
       "      <th>EGR1_N</th>\n",
       "      <th>H3MeK4_N</th>\n",
       "      <th>CaNA_N</th>\n",
       "    </tr>\n",
       "  </thead>\n",
       "  <tbody>\n",
       "    <tr>\n",
       "      <th>0</th>\n",
       "      <td>0.503644</td>\n",
       "      <td>0.747193</td>\n",
       "      <td>0.430175</td>\n",
       "      <td>2.816329</td>\n",
       "      <td>5.990152</td>\n",
       "      <td>0.218830</td>\n",
       "      <td>0.177565</td>\n",
       "      <td>2.373744</td>\n",
       "      <td>0.232224</td>\n",
       "      <td>1.750936</td>\n",
       "      <td>...</td>\n",
       "      <td>0.188852</td>\n",
       "      <td>0.122652</td>\n",
       "      <td>0.0</td>\n",
       "      <td>0.106305</td>\n",
       "      <td>0.108336</td>\n",
       "      <td>0.427099</td>\n",
       "      <td>0.114783</td>\n",
       "      <td>0.131790</td>\n",
       "      <td>0.128186</td>\n",
       "      <td>1.675652</td>\n",
       "    </tr>\n",
       "    <tr>\n",
       "      <th>1</th>\n",
       "      <td>0.514617</td>\n",
       "      <td>0.689064</td>\n",
       "      <td>0.411770</td>\n",
       "      <td>2.789514</td>\n",
       "      <td>5.685038</td>\n",
       "      <td>0.211636</td>\n",
       "      <td>0.172817</td>\n",
       "      <td>2.292150</td>\n",
       "      <td>0.226972</td>\n",
       "      <td>1.596377</td>\n",
       "      <td>...</td>\n",
       "      <td>0.200404</td>\n",
       "      <td>0.116682</td>\n",
       "      <td>0.0</td>\n",
       "      <td>0.106592</td>\n",
       "      <td>0.104315</td>\n",
       "      <td>0.441581</td>\n",
       "      <td>0.111974</td>\n",
       "      <td>0.135103</td>\n",
       "      <td>0.131119</td>\n",
       "      <td>1.743610</td>\n",
       "    </tr>\n",
       "    <tr>\n",
       "      <th>2</th>\n",
       "      <td>0.509183</td>\n",
       "      <td>0.730247</td>\n",
       "      <td>0.418309</td>\n",
       "      <td>2.687201</td>\n",
       "      <td>5.622059</td>\n",
       "      <td>0.209011</td>\n",
       "      <td>0.175722</td>\n",
       "      <td>2.283337</td>\n",
       "      <td>0.230247</td>\n",
       "      <td>1.561316</td>\n",
       "      <td>...</td>\n",
       "      <td>0.193685</td>\n",
       "      <td>0.118508</td>\n",
       "      <td>0.0</td>\n",
       "      <td>0.108303</td>\n",
       "      <td>0.106219</td>\n",
       "      <td>0.435777</td>\n",
       "      <td>0.111883</td>\n",
       "      <td>0.133362</td>\n",
       "      <td>0.127431</td>\n",
       "      <td>1.926427</td>\n",
       "    </tr>\n",
       "    <tr>\n",
       "      <th>3</th>\n",
       "      <td>0.442107</td>\n",
       "      <td>0.617076</td>\n",
       "      <td>0.358626</td>\n",
       "      <td>2.466947</td>\n",
       "      <td>4.979503</td>\n",
       "      <td>0.222886</td>\n",
       "      <td>0.176463</td>\n",
       "      <td>2.152301</td>\n",
       "      <td>0.207004</td>\n",
       "      <td>1.595086</td>\n",
       "      <td>...</td>\n",
       "      <td>0.192112</td>\n",
       "      <td>0.132781</td>\n",
       "      <td>0.0</td>\n",
       "      <td>0.103184</td>\n",
       "      <td>0.111262</td>\n",
       "      <td>0.391691</td>\n",
       "      <td>0.130405</td>\n",
       "      <td>0.147444</td>\n",
       "      <td>0.146901</td>\n",
       "      <td>1.700563</td>\n",
       "    </tr>\n",
       "    <tr>\n",
       "      <th>4</th>\n",
       "      <td>0.434940</td>\n",
       "      <td>0.617430</td>\n",
       "      <td>0.358802</td>\n",
       "      <td>2.365785</td>\n",
       "      <td>4.718679</td>\n",
       "      <td>0.213106</td>\n",
       "      <td>0.173627</td>\n",
       "      <td>2.134014</td>\n",
       "      <td>0.192158</td>\n",
       "      <td>1.504230</td>\n",
       "      <td>...</td>\n",
       "      <td>0.205604</td>\n",
       "      <td>0.129954</td>\n",
       "      <td>0.0</td>\n",
       "      <td>0.104784</td>\n",
       "      <td>0.110694</td>\n",
       "      <td>0.434154</td>\n",
       "      <td>0.118481</td>\n",
       "      <td>0.140314</td>\n",
       "      <td>0.148380</td>\n",
       "      <td>1.839730</td>\n",
       "    </tr>\n",
       "    <tr>\n",
       "      <th>...</th>\n",
       "      <td>...</td>\n",
       "      <td>...</td>\n",
       "      <td>...</td>\n",
       "      <td>...</td>\n",
       "      <td>...</td>\n",
       "      <td>...</td>\n",
       "      <td>...</td>\n",
       "      <td>...</td>\n",
       "      <td>...</td>\n",
       "      <td>...</td>\n",
       "      <td>...</td>\n",
       "      <td>...</td>\n",
       "      <td>...</td>\n",
       "      <td>...</td>\n",
       "      <td>...</td>\n",
       "      <td>...</td>\n",
       "      <td>...</td>\n",
       "      <td>...</td>\n",
       "      <td>...</td>\n",
       "      <td>...</td>\n",
       "      <td>...</td>\n",
       "    </tr>\n",
       "    <tr>\n",
       "      <th>1075</th>\n",
       "      <td>0.254860</td>\n",
       "      <td>0.463591</td>\n",
       "      <td>0.254860</td>\n",
       "      <td>2.092082</td>\n",
       "      <td>2.600035</td>\n",
       "      <td>0.211736</td>\n",
       "      <td>0.171262</td>\n",
       "      <td>2.483740</td>\n",
       "      <td>0.207317</td>\n",
       "      <td>1.057971</td>\n",
       "      <td>...</td>\n",
       "      <td>0.275547</td>\n",
       "      <td>0.190483</td>\n",
       "      <td>0.0</td>\n",
       "      <td>0.115806</td>\n",
       "      <td>0.183324</td>\n",
       "      <td>0.374088</td>\n",
       "      <td>0.318782</td>\n",
       "      <td>0.204660</td>\n",
       "      <td>0.328327</td>\n",
       "      <td>1.364823</td>\n",
       "    </tr>\n",
       "    <tr>\n",
       "      <th>1076</th>\n",
       "      <td>0.272198</td>\n",
       "      <td>0.474163</td>\n",
       "      <td>0.251638</td>\n",
       "      <td>2.161390</td>\n",
       "      <td>2.801492</td>\n",
       "      <td>0.251274</td>\n",
       "      <td>0.182496</td>\n",
       "      <td>2.512737</td>\n",
       "      <td>0.216339</td>\n",
       "      <td>1.081150</td>\n",
       "      <td>...</td>\n",
       "      <td>0.283207</td>\n",
       "      <td>0.190463</td>\n",
       "      <td>0.0</td>\n",
       "      <td>0.113614</td>\n",
       "      <td>0.175674</td>\n",
       "      <td>0.375259</td>\n",
       "      <td>0.325639</td>\n",
       "      <td>0.200415</td>\n",
       "      <td>0.293435</td>\n",
       "      <td>1.364478</td>\n",
       "    </tr>\n",
       "    <tr>\n",
       "      <th>1077</th>\n",
       "      <td>0.228700</td>\n",
       "      <td>0.395179</td>\n",
       "      <td>0.234118</td>\n",
       "      <td>1.733184</td>\n",
       "      <td>2.220852</td>\n",
       "      <td>0.220665</td>\n",
       "      <td>0.161435</td>\n",
       "      <td>1.989723</td>\n",
       "      <td>0.185164</td>\n",
       "      <td>0.884342</td>\n",
       "      <td>...</td>\n",
       "      <td>0.290843</td>\n",
       "      <td>0.216682</td>\n",
       "      <td>0.0</td>\n",
       "      <td>0.118948</td>\n",
       "      <td>0.158296</td>\n",
       "      <td>0.422121</td>\n",
       "      <td>0.321306</td>\n",
       "      <td>0.229193</td>\n",
       "      <td>0.355213</td>\n",
       "      <td>1.430825</td>\n",
       "    </tr>\n",
       "    <tr>\n",
       "      <th>1078</th>\n",
       "      <td>0.221242</td>\n",
       "      <td>0.412894</td>\n",
       "      <td>0.243974</td>\n",
       "      <td>1.876347</td>\n",
       "      <td>2.384088</td>\n",
       "      <td>0.208897</td>\n",
       "      <td>0.173623</td>\n",
       "      <td>2.086028</td>\n",
       "      <td>0.192044</td>\n",
       "      <td>0.922595</td>\n",
       "      <td>...</td>\n",
       "      <td>0.306701</td>\n",
       "      <td>0.222263</td>\n",
       "      <td>0.0</td>\n",
       "      <td>0.125295</td>\n",
       "      <td>0.196296</td>\n",
       "      <td>0.397676</td>\n",
       "      <td>0.335936</td>\n",
       "      <td>0.251317</td>\n",
       "      <td>0.365353</td>\n",
       "      <td>1.404031</td>\n",
       "    </tr>\n",
       "    <tr>\n",
       "      <th>1079</th>\n",
       "      <td>0.302626</td>\n",
       "      <td>0.461059</td>\n",
       "      <td>0.256564</td>\n",
       "      <td>2.092790</td>\n",
       "      <td>2.594348</td>\n",
       "      <td>0.251001</td>\n",
       "      <td>0.191811</td>\n",
       "      <td>2.361816</td>\n",
       "      <td>0.223632</td>\n",
       "      <td>1.064085</td>\n",
       "      <td>...</td>\n",
       "      <td>0.292330</td>\n",
       "      <td>0.227606</td>\n",
       "      <td>0.0</td>\n",
       "      <td>0.118899</td>\n",
       "      <td>0.187556</td>\n",
       "      <td>0.420347</td>\n",
       "      <td>0.335062</td>\n",
       "      <td>0.252995</td>\n",
       "      <td>0.365278</td>\n",
       "      <td>1.370999</td>\n",
       "    </tr>\n",
       "  </tbody>\n",
       "</table>\n",
       "<p>1080 rows × 77 columns</p>\n",
       "</div>"
      ],
      "text/plain": [
       "      DYRK1A_N   ITSN1_N    BDNF_N     NR1_N    NR2A_N    pAKT_N   pBRAF_N  \\\n",
       "0     0.503644  0.747193  0.430175  2.816329  5.990152  0.218830  0.177565   \n",
       "1     0.514617  0.689064  0.411770  2.789514  5.685038  0.211636  0.172817   \n",
       "2     0.509183  0.730247  0.418309  2.687201  5.622059  0.209011  0.175722   \n",
       "3     0.442107  0.617076  0.358626  2.466947  4.979503  0.222886  0.176463   \n",
       "4     0.434940  0.617430  0.358802  2.365785  4.718679  0.213106  0.173627   \n",
       "...        ...       ...       ...       ...       ...       ...       ...   \n",
       "1075  0.254860  0.463591  0.254860  2.092082  2.600035  0.211736  0.171262   \n",
       "1076  0.272198  0.474163  0.251638  2.161390  2.801492  0.251274  0.182496   \n",
       "1077  0.228700  0.395179  0.234118  1.733184  2.220852  0.220665  0.161435   \n",
       "1078  0.221242  0.412894  0.243974  1.876347  2.384088  0.208897  0.173623   \n",
       "1079  0.302626  0.461059  0.256564  2.092790  2.594348  0.251001  0.191811   \n",
       "\n",
       "      pCAMKII_N   pCREB_N    pELK_N  ...     SHH_N     BAD_N  BCL2_N  \\\n",
       "0      2.373744  0.232224  1.750936  ...  0.188852  0.122652     0.0   \n",
       "1      2.292150  0.226972  1.596377  ...  0.200404  0.116682     0.0   \n",
       "2      2.283337  0.230247  1.561316  ...  0.193685  0.118508     0.0   \n",
       "3      2.152301  0.207004  1.595086  ...  0.192112  0.132781     0.0   \n",
       "4      2.134014  0.192158  1.504230  ...  0.205604  0.129954     0.0   \n",
       "...         ...       ...       ...  ...       ...       ...     ...   \n",
       "1075   2.483740  0.207317  1.057971  ...  0.275547  0.190483     0.0   \n",
       "1076   2.512737  0.216339  1.081150  ...  0.283207  0.190463     0.0   \n",
       "1077   1.989723  0.185164  0.884342  ...  0.290843  0.216682     0.0   \n",
       "1078   2.086028  0.192044  0.922595  ...  0.306701  0.222263     0.0   \n",
       "1079   2.361816  0.223632  1.064085  ...  0.292330  0.227606     0.0   \n",
       "\n",
       "         pS6_N   pCFOS_N     SYP_N  H3AcK18_N    EGR1_N  H3MeK4_N    CaNA_N  \n",
       "0     0.106305  0.108336  0.427099   0.114783  0.131790  0.128186  1.675652  \n",
       "1     0.106592  0.104315  0.441581   0.111974  0.135103  0.131119  1.743610  \n",
       "2     0.108303  0.106219  0.435777   0.111883  0.133362  0.127431  1.926427  \n",
       "3     0.103184  0.111262  0.391691   0.130405  0.147444  0.146901  1.700563  \n",
       "4     0.104784  0.110694  0.434154   0.118481  0.140314  0.148380  1.839730  \n",
       "...        ...       ...       ...        ...       ...       ...       ...  \n",
       "1075  0.115806  0.183324  0.374088   0.318782  0.204660  0.328327  1.364823  \n",
       "1076  0.113614  0.175674  0.375259   0.325639  0.200415  0.293435  1.364478  \n",
       "1077  0.118948  0.158296  0.422121   0.321306  0.229193  0.355213  1.430825  \n",
       "1078  0.125295  0.196296  0.397676   0.335936  0.251317  0.365353  1.404031  \n",
       "1079  0.118899  0.187556  0.420347   0.335062  0.252995  0.365278  1.370999  \n",
       "\n",
       "[1080 rows x 77 columns]"
      ]
     },
     "execution_count": 19,
     "metadata": {},
     "output_type": "execute_result"
    }
   ],
   "source": [
    "#Creating the dataframe of all the protien value of mice data  \n",
    "protein_data =mice[mice.columns[1:78]]\n",
    "protein_data"
   ]
  },
  {
   "cell_type": "code",
   "execution_count": 20,
   "metadata": {},
   "outputs": [
    {
     "data": {
      "text/plain": [
       "0       c-CS-m\n",
       "1       c-CS-m\n",
       "2       c-CS-m\n",
       "3       c-CS-m\n",
       "4       c-CS-m\n",
       "         ...  \n",
       "1075    t-SC-s\n",
       "1076    t-SC-s\n",
       "1077    t-SC-s\n",
       "1078    t-SC-s\n",
       "1079    t-SC-s\n",
       "Name: class, Length: 1080, dtype: object"
      ]
     },
     "execution_count": 20,
     "metadata": {},
     "output_type": "execute_result"
    }
   ],
   "source": [
    "#Creating the dataframe of the class column\n",
    "class_data = mice['class']\n",
    "class_data"
   ]
  },
  {
   "cell_type": "code",
   "execution_count": 21,
   "metadata": {},
   "outputs": [
    {
     "data": {
      "text/plain": [
       "array(['c-CS-m', 'c-SC-m', 'c-CS-s', 'c-SC-s', 't-CS-m', 't-SC-m',\n",
       "       't-CS-s', 't-SC-s'], dtype=object)"
      ]
     },
     "execution_count": 21,
     "metadata": {},
     "output_type": "execute_result"
    }
   ],
   "source": [
    "#Checking the unique values of class columns \n",
    "class_data.unique()"
   ]
  },
  {
   "cell_type": "code",
   "execution_count": 22,
   "metadata": {},
   "outputs": [],
   "source": [
    "#Task 2 Data Exploration :\n",
    "\n",
    "# Exploring each column and provide the analysis of the exploration for that column \n",
    "\n",
    "#Explore the relationship between the pair of attributes and the analysis "
   ]
  },
  {
   "cell_type": "code",
   "execution_count": 23,
   "metadata": {},
   "outputs": [],
   "source": [
    "#Importing matplotlib.pyplot as plt and seaborn as sns for data visualization\n",
    "import matplotlib.pyplot as plt\n",
    "import seaborn as sns"
   ]
  },
  {
   "cell_type": "code",
   "execution_count": 24,
   "metadata": {},
   "outputs": [
    {
     "data": {
      "image/png": "[encoded data removed]",
      "text/plain": [
       "<Figure size 432x288 with 1 Axes>"
      ]
     },
     "metadata": {
      "needs_background": "light"
     },
     "output_type": "display_data"
    }
   ],
   "source": [
    "#Frequency table of Genotype column \n",
    "mice['Genotype'].value_counts().plot(kind='bar',color='y')\n",
    "plt.xlabel('GenoType')\n",
    "plt.ylabel('Frequency table of Genotype')\n",
    "plt.legend()\n",
    "plt.show()\n",
    "#Analysis of Genotype : From the above graph we can state that genotype of control mice is more compared to trisomic mice."
   ]
  },
  {
   "cell_type": "code",
   "execution_count": 25,
   "metadata": {},
   "outputs": [
    {
     "data": {
      "image/png": "[encoded data removed]",
      "text/plain": [
       "<Figure size 432x288 with 1 Axes>"
      ]
     },
     "metadata": {
      "needs_background": "light"
     },
     "output_type": "display_data"
    }
   ],
   "source": [
    "#Frequency table of Genotype column \n",
    "mice['Behavior'].value_counts().plot(kind='bar',color='b')\n",
    "plt.xlabel('Behavior Type')\n",
    "plt.ylabel('Frequency table of Behavior')\n",
    "plt.legend()\n",
    "plt.show()\n",
    "#Analysis of Behaviour : From the above graph we can state that according to behaviour less number of mice\n",
    "#were simulated to learn than those compared to be not simulated to learn "
   ]
  },
  {
   "cell_type": "code",
   "execution_count": 26,
   "metadata": {},
   "outputs": [
    {
     "data": {
      "image/png": "[encoded data removed]",
      "text/plain": [
       "<Figure size 432x288 with 1 Axes>"
      ]
     },
     "metadata": {
      "needs_background": "light"
     },
     "output_type": "display_data"
    }
   ],
   "source": [
    "#Frequency table of Treatment column \n",
    "mice['Treatment'].value_counts().plot(kind='bar',color='g')\n",
    "plt.xlabel('Treatment Type')\n",
    "plt.ylabel('Frequency table of Treatment')\n",
    "plt.legend()\n",
    "plt.show()\n",
    "#Analysis of Treatment:From the above graph we can state that according to treatment more number of mice\n",
    "#were injected with mematine drug than saline drug "
   ]
  },
  {
   "cell_type": "code",
   "execution_count": 27,
   "metadata": {},
   "outputs": [
    {
     "data": {
      "image/png": "[encoded data removed]",
      "text/plain": [
       "<Figure size 432x288 with 1 Axes>"
      ]
     },
     "metadata": {
      "needs_background": "light"
     },
     "output_type": "display_data"
    }
   ],
   "source": [
    "#Frequency table of class column \n",
    "mice['class'].value_counts().plot(kind='bar',color='r')\n",
    "plt.xlabel('Class Type')\n",
    "plt.ylabel('Frequency table of Class')\n",
    "plt.legend()\n",
    "plt.show()\n",
    "#Analysis of Class :From the above graph we can state that c-CS-s and c-CS-m had more subset of proteins  "
   ]
  },
  {
   "cell_type": "code",
   "execution_count": 28,
   "metadata": {},
   "outputs": [
    {
     "data": {
      "image/png": "[encoded data removed]",
      "text/plain": [
       "<Figure size 1224x1584 with 81 Axes>"
      ]
     },
     "metadata": {
      "needs_background": "light"
     },
     "output_type": "display_data"
    }
   ],
   "source": [
    "#histogram of Protein Expression levels of 77 proteins  \n",
    "protein_data.hist(figsize =(17,22))\n",
    "plt.show()\n",
    "#Anaylisis of Histogram of 77 protein levels :The histogram provides the distribution of the all 77 protein expression level and average expression\n",
    "#levels of proteins and the range where most of its datapoints lie ."
   ]
  },
  {
   "cell_type": "code",
   "execution_count": 29,
   "metadata": {},
   "outputs": [
    {
     "data": {
      "text/html": [
       "<div>\n",
       "<style scoped>\n",
       "    .dataframe tbody tr th:only-of-type {\n",
       "        vertical-align: middle;\n",
       "    }\n",
       "\n",
       "    .dataframe tbody tr th {\n",
       "        vertical-align: top;\n",
       "    }\n",
       "\n",
       "    .dataframe thead th {\n",
       "        text-align: right;\n",
       "    }\n",
       "</style>\n",
       "<table border=\"1\" class=\"dataframe\">\n",
       "  <thead>\n",
       "    <tr style=\"text-align: right;\">\n",
       "      <th></th>\n",
       "      <th>DYRK1A_N</th>\n",
       "      <th>ITSN1_N</th>\n",
       "      <th>BDNF_N</th>\n",
       "      <th>NR1_N</th>\n",
       "      <th>NR2A_N</th>\n",
       "      <th>pAKT_N</th>\n",
       "      <th>pBRAF_N</th>\n",
       "      <th>pCAMKII_N</th>\n",
       "      <th>pCREB_N</th>\n",
       "      <th>pELK_N</th>\n",
       "      <th>...</th>\n",
       "      <th>SHH_N</th>\n",
       "      <th>BAD_N</th>\n",
       "      <th>BCL2_N</th>\n",
       "      <th>pS6_N</th>\n",
       "      <th>pCFOS_N</th>\n",
       "      <th>SYP_N</th>\n",
       "      <th>H3AcK18_N</th>\n",
       "      <th>EGR1_N</th>\n",
       "      <th>H3MeK4_N</th>\n",
       "      <th>CaNA_N</th>\n",
       "    </tr>\n",
       "  </thead>\n",
       "  <tbody>\n",
       "    <tr>\n",
       "      <th>count</th>\n",
       "      <td>1080.000000</td>\n",
       "      <td>1080.000000</td>\n",
       "      <td>1080.000000</td>\n",
       "      <td>1080.000000</td>\n",
       "      <td>1080.000000</td>\n",
       "      <td>1080.000000</td>\n",
       "      <td>1080.000000</td>\n",
       "      <td>1080.000000</td>\n",
       "      <td>1080.000000</td>\n",
       "      <td>1080.000000</td>\n",
       "      <td>...</td>\n",
       "      <td>1080.000000</td>\n",
       "      <td>1080.000000</td>\n",
       "      <td>1080.000000</td>\n",
       "      <td>1080.000000</td>\n",
       "      <td>1080.000000</td>\n",
       "      <td>1080.000000</td>\n",
       "      <td>1080.000000</td>\n",
       "      <td>1080.000000</td>\n",
       "      <td>1080.000000</td>\n",
       "      <td>1080.000000</td>\n",
       "    </tr>\n",
       "    <tr>\n",
       "      <th>mean</th>\n",
       "      <td>0.424627</td>\n",
       "      <td>0.615388</td>\n",
       "      <td>0.318202</td>\n",
       "      <td>2.290888</td>\n",
       "      <td>3.833256</td>\n",
       "      <td>0.232520</td>\n",
       "      <td>0.181341</td>\n",
       "      <td>3.527284</td>\n",
       "      <td>0.211983</td>\n",
       "      <td>1.424713</td>\n",
       "      <td>...</td>\n",
       "      <td>0.226676</td>\n",
       "      <td>0.126770</td>\n",
       "      <td>0.099200</td>\n",
       "      <td>0.121521</td>\n",
       "      <td>0.121952</td>\n",
       "      <td>0.446073</td>\n",
       "      <td>0.141341</td>\n",
       "      <td>0.147525</td>\n",
       "      <td>0.154080</td>\n",
       "      <td>1.337784</td>\n",
       "    </tr>\n",
       "    <tr>\n",
       "      <th>std</th>\n",
       "      <td>0.250022</td>\n",
       "      <td>0.253382</td>\n",
       "      <td>0.052098</td>\n",
       "      <td>0.367300</td>\n",
       "      <td>0.953532</td>\n",
       "      <td>0.043351</td>\n",
       "      <td>0.028652</td>\n",
       "      <td>1.306709</td>\n",
       "      <td>0.034413</td>\n",
       "      <td>0.472284</td>\n",
       "      <td>...</td>\n",
       "      <td>0.028989</td>\n",
       "      <td>0.068206</td>\n",
       "      <td>0.063907</td>\n",
       "      <td>0.014276</td>\n",
       "      <td>0.040506</td>\n",
       "      <td>0.066432</td>\n",
       "      <td>0.083302</td>\n",
       "      <td>0.081074</td>\n",
       "      <td>0.101151</td>\n",
       "      <td>0.317126</td>\n",
       "    </tr>\n",
       "    <tr>\n",
       "      <th>min</th>\n",
       "      <td>0.000000</td>\n",
       "      <td>0.000000</td>\n",
       "      <td>0.000000</td>\n",
       "      <td>0.000000</td>\n",
       "      <td>0.000000</td>\n",
       "      <td>0.000000</td>\n",
       "      <td>0.000000</td>\n",
       "      <td>0.000000</td>\n",
       "      <td>0.000000</td>\n",
       "      <td>0.000000</td>\n",
       "      <td>...</td>\n",
       "      <td>0.155869</td>\n",
       "      <td>0.000000</td>\n",
       "      <td>0.000000</td>\n",
       "      <td>0.067254</td>\n",
       "      <td>0.000000</td>\n",
       "      <td>0.258626</td>\n",
       "      <td>0.000000</td>\n",
       "      <td>0.000000</td>\n",
       "      <td>0.000000</td>\n",
       "      <td>0.586479</td>\n",
       "    </tr>\n",
       "    <tr>\n",
       "      <th>25%</th>\n",
       "      <td>0.287847</td>\n",
       "      <td>0.472764</td>\n",
       "      <td>0.287112</td>\n",
       "      <td>2.056486</td>\n",
       "      <td>3.149320</td>\n",
       "      <td>0.205530</td>\n",
       "      <td>0.164411</td>\n",
       "      <td>2.471432</td>\n",
       "      <td>0.190489</td>\n",
       "      <td>1.202789</td>\n",
       "      <td>...</td>\n",
       "      <td>0.206395</td>\n",
       "      <td>0.121498</td>\n",
       "      <td>0.000000</td>\n",
       "      <td>0.110839</td>\n",
       "      <td>0.110337</td>\n",
       "      <td>0.398082</td>\n",
       "      <td>0.110493</td>\n",
       "      <td>0.136712</td>\n",
       "      <td>0.076340</td>\n",
       "      <td>1.081423</td>\n",
       "    </tr>\n",
       "    <tr>\n",
       "      <th>50%</th>\n",
       "      <td>0.366125</td>\n",
       "      <td>0.565494</td>\n",
       "      <td>0.316462</td>\n",
       "      <td>2.295648</td>\n",
       "      <td>3.738908</td>\n",
       "      <td>0.231082</td>\n",
       "      <td>0.182270</td>\n",
       "      <td>3.325505</td>\n",
       "      <td>0.210560</td>\n",
       "      <td>1.355423</td>\n",
       "      <td>...</td>\n",
       "      <td>0.224000</td>\n",
       "      <td>0.145587</td>\n",
       "      <td>0.119377</td>\n",
       "      <td>0.121626</td>\n",
       "      <td>0.124534</td>\n",
       "      <td>0.448459</td>\n",
       "      <td>0.144696</td>\n",
       "      <td>0.164866</td>\n",
       "      <td>0.174236</td>\n",
       "      <td>1.317441</td>\n",
       "    </tr>\n",
       "    <tr>\n",
       "      <th>75%</th>\n",
       "      <td>0.487574</td>\n",
       "      <td>0.697500</td>\n",
       "      <td>0.348039</td>\n",
       "      <td>2.528035</td>\n",
       "      <td>4.425107</td>\n",
       "      <td>0.257225</td>\n",
       "      <td>0.197226</td>\n",
       "      <td>4.480652</td>\n",
       "      <td>0.234558</td>\n",
       "      <td>1.560931</td>\n",
       "      <td>...</td>\n",
       "      <td>0.241655</td>\n",
       "      <td>0.167584</td>\n",
       "      <td>0.139331</td>\n",
       "      <td>0.131955</td>\n",
       "      <td>0.142427</td>\n",
       "      <td>0.490773</td>\n",
       "      <td>0.187174</td>\n",
       "      <td>0.196133</td>\n",
       "      <td>0.219242</td>\n",
       "      <td>1.585824</td>\n",
       "    </tr>\n",
       "    <tr>\n",
       "      <th>max</th>\n",
       "      <td>2.516367</td>\n",
       "      <td>2.602662</td>\n",
       "      <td>0.497160</td>\n",
       "      <td>3.757641</td>\n",
       "      <td>8.482553</td>\n",
       "      <td>0.539050</td>\n",
       "      <td>0.317066</td>\n",
       "      <td>7.464070</td>\n",
       "      <td>0.306247</td>\n",
       "      <td>6.113347</td>\n",
       "      <td>...</td>\n",
       "      <td>0.358289</td>\n",
       "      <td>0.282016</td>\n",
       "      <td>0.261506</td>\n",
       "      <td>0.158748</td>\n",
       "      <td>0.256529</td>\n",
       "      <td>0.759588</td>\n",
       "      <td>0.479763</td>\n",
       "      <td>0.360692</td>\n",
       "      <td>0.413903</td>\n",
       "      <td>2.129791</td>\n",
       "    </tr>\n",
       "  </tbody>\n",
       "</table>\n",
       "<p>8 rows × 77 columns</p>\n",
       "</div>"
      ],
      "text/plain": [
       "          DYRK1A_N      ITSN1_N       BDNF_N        NR1_N       NR2A_N  \\\n",
       "count  1080.000000  1080.000000  1080.000000  1080.000000  1080.000000   \n",
       "mean      0.424627     0.615388     0.318202     2.290888     3.833256   \n",
       "std       0.250022     0.253382     0.052098     0.367300     0.953532   \n",
       "min       0.000000     0.000000     0.000000     0.000000     0.000000   \n",
       "25%       0.287847     0.472764     0.287112     2.056486     3.149320   \n",
       "50%       0.366125     0.565494     0.316462     2.295648     3.738908   \n",
       "75%       0.487574     0.697500     0.348039     2.528035     4.425107   \n",
       "max       2.516367     2.602662     0.497160     3.757641     8.482553   \n",
       "\n",
       "            pAKT_N      pBRAF_N    pCAMKII_N      pCREB_N       pELK_N  ...  \\\n",
       "count  1080.000000  1080.000000  1080.000000  1080.000000  1080.000000  ...   \n",
       "mean      0.232520     0.181341     3.527284     0.211983     1.424713  ...   \n",
       "std       0.043351     0.028652     1.306709     0.034413     0.472284  ...   \n",
       "min       0.000000     0.000000     0.000000     0.000000     0.000000  ...   \n",
       "25%       0.205530     0.164411     2.471432     0.190489     1.202789  ...   \n",
       "50%       0.231082     0.182270     3.325505     0.210560     1.355423  ...   \n",
       "75%       0.257225     0.197226     4.480652     0.234558     1.560931  ...   \n",
       "max       0.539050     0.317066     7.464070     0.306247     6.113347  ...   \n",
       "\n",
       "             SHH_N        BAD_N       BCL2_N        pS6_N      pCFOS_N  \\\n",
       "count  1080.000000  1080.000000  1080.000000  1080.000000  1080.000000   \n",
       "mean      0.226676     0.126770     0.099200     0.121521     0.121952   \n",
       "std       0.028989     0.068206     0.063907     0.014276     0.040506   \n",
       "min       0.155869     0.000000     0.000000     0.067254     0.000000   \n",
       "25%       0.206395     0.121498     0.000000     0.110839     0.110337   \n",
       "50%       0.224000     0.145587     0.119377     0.121626     0.124534   \n",
       "75%       0.241655     0.167584     0.139331     0.131955     0.142427   \n",
       "max       0.358289     0.282016     0.261506     0.158748     0.256529   \n",
       "\n",
       "             SYP_N    H3AcK18_N       EGR1_N     H3MeK4_N       CaNA_N  \n",
       "count  1080.000000  1080.000000  1080.000000  1080.000000  1080.000000  \n",
       "mean      0.446073     0.141341     0.147525     0.154080     1.337784  \n",
       "std       0.066432     0.083302     0.081074     0.101151     0.317126  \n",
       "min       0.258626     0.000000     0.000000     0.000000     0.586479  \n",
       "25%       0.398082     0.110493     0.136712     0.076340     1.081423  \n",
       "50%       0.448459     0.144696     0.164866     0.174236     1.317441  \n",
       "75%       0.490773     0.187174     0.196133     0.219242     1.585824  \n",
       "max       0.759588     0.479763     0.360692     0.413903     2.129791  \n",
       "\n",
       "[8 rows x 77 columns]"
      ]
     },
     "execution_count": 29,
     "metadata": {},
     "output_type": "execute_result"
    }
   ],
   "source": [
    "#Descriptive statistcis of the Expression levels of all 77 protein features \n",
    "protein_data.describe()\n",
    "#It gives the mean ,median ,IQR values of the indivitual proteins "
   ]
  },
  {
   "cell_type": "code",
   "execution_count": 30,
   "metadata": {},
   "outputs": [
    {
     "data": {
      "text/plain": [
       "0       2.373744\n",
       "1       2.292150\n",
       "2       2.283337\n",
       "3       2.152301\n",
       "4       2.134014\n",
       "          ...   \n",
       "1075    2.483740\n",
       "1076    2.512737\n",
       "1077    1.989723\n",
       "1078    2.086028\n",
       "1079    2.361816\n",
       "Name: pCAMKII_N, Length: 1080, dtype: float64"
      ]
     },
     "execution_count": 30,
     "metadata": {},
     "output_type": "execute_result"
    }
   ],
   "source": [
    "protein_data['pCAMKII_N']"
   ]
  },
  {
   "cell_type": "code",
   "execution_count": 31,
   "metadata": {},
   "outputs": [
    {
     "name": "stdout",
     "output_type": "stream",
     "text": [
      "           DYRK1A_N   ITSN1_N    BDNF_N     NR1_N    NR2A_N    pAKT_N  \\\n",
      "DYRK1A_N   1.000000  0.959255  0.367778  0.306508  0.335411 -0.147453   \n",
      "ITSN1_N    0.959255  1.000000  0.473075  0.437863  0.440253 -0.104235   \n",
      "BDNF_N     0.367778  0.473075  1.000000  0.826391  0.762199  0.379601   \n",
      "NR1_N      0.306508  0.437863  0.826391  1.000000  0.876241  0.284832   \n",
      "NR2A_N     0.335411  0.440253  0.762199  0.876241  1.000000  0.163371   \n",
      "...             ...       ...       ...       ...       ...       ...   \n",
      "SYP_N     -0.045088  0.044856  0.433283  0.454020  0.395922  0.244467   \n",
      "H3AcK18_N -0.227613 -0.191353 -0.036878 -0.086095 -0.178156  0.126507   \n",
      "EGR1_N    -0.043643 -0.025779 -0.060561 -0.028069 -0.071078  0.045728   \n",
      "H3MeK4_N  -0.225390 -0.225843 -0.186493 -0.196479 -0.275716 -0.092510   \n",
      "CaNA_N     0.472178  0.510772  0.241898  0.187222  0.178642 -0.234543   \n",
      "\n",
      "            pBRAF_N  pCAMKII_N   pCREB_N    pELK_N  ...     SHH_N     BAD_N  \\\n",
      "DYRK1A_N  -0.058022  -0.164829  0.073716  0.792209  ... -0.193770 -0.003505   \n",
      "ITSN1_N   -0.028655  -0.112148  0.202193  0.785017  ... -0.192438  0.000154   \n",
      "BDNF_N     0.456188   0.277158  0.645409  0.473381  ... -0.060083 -0.102492   \n",
      "NR1_N      0.327402   0.328389  0.640559  0.440822  ... -0.116736 -0.075324   \n",
      "NR2A_N     0.173304   0.301790  0.431922  0.428873  ... -0.242211 -0.155982   \n",
      "...             ...        ...       ...       ...  ...       ...       ...   \n",
      "SYP_N      0.275350   0.245507  0.397587  0.042385  ...  0.056826 -0.020327   \n",
      "H3AcK18_N  0.070487   0.115514  0.092115 -0.209255  ...  0.171783  0.302934   \n",
      "EGR1_N     0.034515   0.044506 -0.078637 -0.053555  ...  0.100276  0.463356   \n",
      "H3MeK4_N  -0.107431   0.033492 -0.150653 -0.256167  ...  0.156744  0.489319   \n",
      "CaNA_N    -0.208196  -0.374794  0.030708  0.227569  ... -0.123215 -0.010575   \n",
      "\n",
      "             BCL2_N     pS6_N   pCFOS_N     SYP_N  H3AcK18_N    EGR1_N  \\\n",
      "DYRK1A_N   0.056659 -0.324413 -0.177847 -0.045088  -0.227613 -0.043643   \n",
      "ITSN1_N    0.048182 -0.253261 -0.202560  0.044856  -0.191353 -0.025779   \n",
      "BDNF_N    -0.019615  0.123811 -0.140422  0.433283  -0.036878 -0.060561   \n",
      "NR1_N     -0.095766  0.252425 -0.189127  0.454020  -0.086095 -0.028069   \n",
      "NR2A_N    -0.030124  0.258423 -0.245247  0.395922  -0.178156 -0.071078   \n",
      "...             ...       ...       ...       ...        ...       ...   \n",
      "SYP_N      0.044393  0.423405  0.058002  1.000000  -0.007940  0.070624   \n",
      "H3AcK18_N  0.199028 -0.060393 -0.061923 -0.007940   1.000000  0.194394   \n",
      "EGR1_N     0.263883  0.002038  0.065392  0.070624   0.194394  1.000000   \n",
      "H3MeK4_N   0.207895 -0.080104  0.087830 -0.179499   0.292259  0.204185   \n",
      "CaNA_N     0.033959 -0.344369 -0.254194  0.246107  -0.068643 -0.045902   \n",
      "\n",
      "           H3MeK4_N    CaNA_N  \n",
      "DYRK1A_N  -0.225390  0.472178  \n",
      "ITSN1_N   -0.225843  0.510772  \n",
      "BDNF_N    -0.186493  0.241898  \n",
      "NR1_N     -0.196479  0.187222  \n",
      "NR2A_N    -0.275716  0.178642  \n",
      "...             ...       ...  \n",
      "SYP_N     -0.179499  0.246107  \n",
      "H3AcK18_N  0.292259 -0.068643  \n",
      "EGR1_N     0.204185 -0.045902  \n",
      "H3MeK4_N   1.000000 -0.189644  \n",
      "CaNA_N    -0.189644  1.000000  \n",
      "\n",
      "[77 rows x 77 columns]\n"
     ]
    }
   ],
   "source": [
    "#Calculating the correlation matrix of the Expression levels of 77 protein dataframe\n",
    "corrMatrix = protein_data.corr()\n",
    "print (corrMatrix)"
   ]
  },
  {
   "cell_type": "code",
   "execution_count": 32,
   "metadata": {},
   "outputs": [
    {
     "data": {
      "image/png": "[encoded data removed]",
      "text/plain": [
       "<Figure size 432x288 with 2 Axes>"
      ]
     },
     "metadata": {
      "needs_background": "light"
     },
     "output_type": "display_data"
    }
   ],
   "source": [
    "#Heatmap in order to find any corelation between the protein columns \n",
    "sns.heatmap(corrMatrix)\n",
    "plt.title(\"Correlation between the attributes\")\n",
    "plt.show()\n",
    "#Since the volume of data is very high the heatmap and scatter matrix does not work in providing the correlation \n",
    "#between the columns "
   ]
  },
  {
   "cell_type": "code",
   "execution_count": 33,
   "metadata": {},
   "outputs": [],
   "source": [
    "#Exploring relationship between columns \n",
    "#We can visualize the distribution of Protein expression levels among different classes and also explore if any relationship \n",
    "#between the expression levels of protein columns "
   ]
  },
  {
   "cell_type": "code",
   "execution_count": 34,
   "metadata": {},
   "outputs": [],
   "source": [
    "#From the correlation matrix we can see that expression levels of DYRK1A_N protein and ITSN1_N protein had the positive correlation oefficient of 0.95 which \n",
    "#indicates they have the positive linear relation which means as one increases other increases too ."
   ]
  },
  {
   "cell_type": "code",
   "execution_count": 35,
   "metadata": {},
   "outputs": [
    {
     "data": {
      "image/png": "[encoded data removed]",
      "text/plain": [
       "<Figure size 432x288 with 1 Axes>"
      ]
     },
     "metadata": {
      "needs_background": "light"
     },
     "output_type": "display_data"
    }
   ],
   "source": [
    "#Scatter plot for DYRK1A_N protein and ITSN1_N protein\n",
    "protein_data.plot(kind='scatter',x=0,y=1) \n",
    "plt.title(\"Relationship between DYRK1A_N protein and ITSN1_N protein\")\n",
    "plt.show()\n",
    "#The graph depicts that the expression level of DYRK1A_N protein and ITSN1_N protein has the positive linear relationship between them."
   ]
  },
  {
   "cell_type": "code",
   "execution_count": 36,
   "metadata": {},
   "outputs": [],
   "source": [
    "#From the correlation matrix we can see that expression levels of NR2A_N  protein and NR1_N protein had the positive correlation oefficient of 0.87 which \n",
    "#indicates they have the positive linear relation between them  which means as one increases other increases too ."
   ]
  },
  {
   "cell_type": "code",
   "execution_count": 37,
   "metadata": {},
   "outputs": [
    {
     "data": {
      "image/png": "[encoded data removed]",
      "text/plain": [
       "<Figure size 432x288 with 1 Axes>"
      ]
     },
     "metadata": {
      "needs_background": "light"
     },
     "output_type": "display_data"
    }
   ],
   "source": [
    "#Scatter plot for  NR2A_N  protein and NR1_N protein\n",
    "protein_data.plot(kind='scatter',x=4,y=3) \n",
    "plt.title(\"Relationship between NR2A_N  protein and NR1_N protein\")\n",
    "plt.show()\n",
    "#The graph depicts that the expression level of NR2A_N  protein and NR1_N protein has the positive linear relationship between them."
   ]
  },
  {
   "cell_type": "code",
   "execution_count": 38,
   "metadata": {},
   "outputs": [],
   "source": [
    "#From the correlation matrix we can see that expression levels of CaNA_N  protein and pCAMKII_N protein has the negative correlation coefficient of -0.37 which \n",
    "#indicates they have the negative  relation which means as one increases other decreases  too ."
   ]
  },
  {
   "cell_type": "code",
   "execution_count": 39,
   "metadata": {},
   "outputs": [
    {
     "data": {
      "image/png": "[encoded data removed]",
      "text/plain": [
       "<Figure size 432x288 with 1 Axes>"
      ]
     },
     "metadata": {
      "needs_background": "light"
     },
     "output_type": "display_data"
    }
   ],
   "source": [
    "#Scatter plot for CaNA_N  protein and pCAMKII_N protein\n",
    "protein_data.plot(kind='scatter',x=7,y=76) \n",
    "plt.title(\"Relationship between CaNA_N  protein and pCAMKII_N protein\")\n",
    "plt.show()\n",
    "#The graph depicts that the expression level of NR2A_N  protein and NR1_N protein has the negative relationship.\n",
    "#but not strong negative relationship between them "
   ]
  },
  {
   "cell_type": "code",
   "execution_count": 40,
   "metadata": {},
   "outputs": [],
   "source": [
    "#Distirbution of proteins among the classes :\n",
    "#Hypothesis :We can assume that the control mices which are context-shock(stimulated to learn) injected to saline drug produce more amount of AKT_N protein than \n",
    "# mice which are shock-context(not stimulated to learn) injected to saline drug"
   ]
  },
  {
   "cell_type": "code",
   "execution_count": 41,
   "metadata": {},
   "outputs": [
    {
     "data": {
      "image/png": "[encoded data removed]",
      "text/plain": [
       "<Figure size 432x288 with 1 Axes>"
      ]
     },
     "metadata": {
      "needs_background": "light"
     },
     "output_type": "display_data"
    }
   ],
   "source": [
    "#Distribution of Protein expression levels of AKT_N protein among different classes \n",
    "AKT_N = mice[['AKT_N', 'class']].dropna()\n",
    "sns.boxplot(x='class', y='AKT_N', data=AKT_N ,hue ='class',dodge=False)\n",
    "plt.title(\"Relationship between AKT_N protein and class \")\n",
    "plt.legend(bbox_to_anchor=(1,1), loc=2, borderaxespad=0.)\n",
    "plt.show()\n",
    "  \n",
    "#Analyis:From the graph we can state that more than 50% of protein level measurements of AKT_N protein belonging to the control mice which was \n",
    "#not simulated to learn(Shock-context) injected with saline drug class has relatively high protein measurements than other classes ."
   ]
  },
  {
   "cell_type": "code",
   "execution_count": 42,
   "metadata": {},
   "outputs": [],
   "source": [
    "#Hypothesis :We can assume that the trisomy mices which are shock-context(not stimulated to learn) injected with saline drug produce more amount of Tau_N protein than \n",
    "# trisomy mice which are context-shock(stimulated to learn) injected with saline drug"
   ]
  },
  {
   "cell_type": "code",
   "execution_count": 43,
   "metadata": {},
   "outputs": [
    {
     "data": {
      "image/png": "[encoded data removed]",
      "text/plain": [
       "<Figure size 432x288 with 1 Axes>"
      ]
     },
     "metadata": {
      "needs_background": "light"
     },
     "output_type": "display_data"
    }
   ],
   "source": [
    "#Distribution of Protein expression levels of Tau_N protein among different classes \n",
    "Tau_N = mice[['Tau_N', 'class']].dropna()\n",
    "sns.boxplot(x='class',y='Tau_N',hue ='class',data=Tau_N,dodge=False)\n",
    "plt.title(\"Relationship between Tau_N protein protein and class \")\n",
    "plt.legend(bbox_to_anchor=(1,1), loc=2, borderaxespad=0.)\n",
    "plt.show()\n",
    "#Analyis:From the graph we can state that 75% of protein level measurements of Tau_N protein belonging to the trisomy mice which was \n",
    "#not simulated to learn(Shock-context) injected with saline drug class has relatively high protein measurements than other classes ."
   ]
  },
  {
   "cell_type": "code",
   "execution_count": 44,
   "metadata": {},
   "outputs": [],
   "source": [
    "\n",
    "#Hypothesis :We can assume that the trisomy mices which are context-shock(stimulated to learn) injected to mematine drug produce more amount of S6_N protein than \n",
    "# trisomy mice which are context-shock(stimulated to learn) injected to saline drug"
   ]
  },
  {
   "cell_type": "code",
   "execution_count": 45,
   "metadata": {},
   "outputs": [
    {
     "data": {
      "image/png": "[encoded data removed]",
      "text/plain": [
       "<Figure size 432x288 with 1 Axes>"
      ]
     },
     "metadata": {
      "needs_background": "light"
     },
     "output_type": "display_data"
    }
   ],
   "source": [
    "#Distribution of Protein expression levels of S6_N protein among different classes \n",
    "S6_N = mice[['S6_N', 'class']].dropna()\n",
    "sns.boxplot(x='class', y='S6_N', data=S6_N ,hue ='class',dodge=False)\n",
    "plt.title(\"Relationship between S6_N protein and class \")\n",
    "plt.legend(bbox_to_anchor=(1,1), loc=2, borderaxespad=0.)\n",
    "plt.show()\n",
    "  \n",
    "#Analyis:From the graph we can state that more than 50% of protein level measurements of S6_N protein belonging to the trisomy mice which was \n",
    "# simulated to learn(context-Shock) injected with saline drug class has relatively high protein measurements than other classes ."
   ]
  },
  {
   "cell_type": "code",
   "execution_count": 46,
   "metadata": {},
   "outputs": [],
   "source": [
    "#Hypothesis :We can assume that the control mices which are context-shock(stimulated to learn) injected to mematine drug produce more amount of SYP_N protein than \n",
    "# control mice which are context-shock(stimulated to learn) injected to saline drug"
   ]
  },
  {
   "cell_type": "code",
   "execution_count": 47,
   "metadata": {},
   "outputs": [
    {
     "data": {
      "image/png": "[encoded data removed]",
      "text/plain": [
       "<Figure size 432x288 with 1 Axes>"
      ]
     },
     "metadata": {
      "needs_background": "light"
     },
     "output_type": "display_data"
    }
   ],
   "source": [
    "#Distribution of Protein expression levels of SYP_N protein among different classes \n",
    "SYP_N = mice[['SYP_N', 'class']].dropna()\n",
    "sns.boxplot(x='class', y='SYP_N', data=SYP_N ,hue ='class',dodge=False)\n",
    "plt.title(\"Relationship between SYP_N protein and class \")\n",
    "plt.legend(bbox_to_anchor=(1,1), loc=2, borderaxespad=0.)\n",
    "plt.show()\n",
    "  \n",
    "#Analyis:From the graph we can state that more than 50% of protein level measurements of SYP_N protein belonging to the control mice which was \n",
    "# not simulated to learn(Shock-context) injected with saline drug class has relatively high protein measurements than other classes ."
   ]
  },
  {
   "cell_type": "code",
   "execution_count": 48,
   "metadata": {},
   "outputs": [],
   "source": [
    "#Hypothesis :We can assume that the mices which are of control genotype tend to produce more amount of P38_N protein than \n",
    "#trisomy mice  "
   ]
  },
  {
   "cell_type": "code",
   "execution_count": 49,
   "metadata": {},
   "outputs": [
    {
     "data": {
      "image/png": "[encoded data removed]",
      "text/plain": [
       "<Figure size 432x288 with 1 Axes>"
      ]
     },
     "metadata": {
      "needs_background": "light"
     },
     "output_type": "display_data"
    }
   ],
   "source": [
    "#Distribution of Protein expression levels of P38_N protein among different classes \n",
    "P38_N = mice[['P38_N', 'Genotype']].dropna()\n",
    "sns.boxplot(x='Genotype',y='P38_N',hue ='Genotype',data=P38_N,dodge=False)\n",
    "plt.title(\"Relationship between P38_N protein protein and class \")\n",
    "plt.legend(bbox_to_anchor=(1,1), loc=2, borderaxespad=0.)\n",
    "plt.show()\n",
    "#Analysis:From the graph we can say that the more than 50% of the control mice produces 0.5 expression level of P38_N protein  and more \n",
    "#than 50% of trisomy mice produces 0.4 expression level of P38_N protein.\n",
    "#Control mices induces more amount of P38_N protein than "
   ]
  },
  {
   "cell_type": "code",
   "execution_count": 50,
   "metadata": {},
   "outputs": [],
   "source": [
    "#Hypothesis:We can assume that the mices which are injected with mematine drug tend to produce more amount of pAKT_N protein \n",
    "#than the mices injected with saline drug  ."
   ]
  },
  {
   "cell_type": "code",
   "execution_count": 51,
   "metadata": {},
   "outputs": [
    {
     "data": {
      "image/png": "[encoded data removed]",
      "text/plain": [
       "<Figure size 432x288 with 1 Axes>"
      ]
     },
     "metadata": {
      "needs_background": "light"
     },
     "output_type": "display_data"
    }
   ],
   "source": [
    "#Distribution of Protein expression levels of pAKT_N protein among different classes \n",
    "pAKT_N = mice[['pAKT_N', 'Treatment']].dropna()\n",
    "sns.boxplot(x='Treatment',y='pAKT_N',hue ='Treatment',data=pAKT_N,dodge=False)\n",
    "plt.title(\"Relationship between pAKT_N protein protein and Treatment \")\n",
    "plt.legend(bbox_to_anchor=(1,1), loc=2, borderaxespad=0.)\n",
    "plt.show()\n",
    "#Analysis:From the graph we can say that the more than 50% of the mice injected with memantine drug induce more than 0.25 expression level \n",
    "#of pAKT_N protein  and more than 50% of trisomy mice produces around 0.25 expression level of P38_N protein.\n",
    "#Mice injected with Mematine drug produces more pAKT_N protein than mices injected with saline drug\n"
   ]
  },
  {
   "cell_type": "code",
   "execution_count": 52,
   "metadata": {},
   "outputs": [],
   "source": [
    "#Hypothesis :We can assume that the mices which are context shock(stimulated to learn) tend to produce more amount of ITSN1_N protein than \n",
    "#than the mices which are shock context(not stimulated to learn)"
   ]
  },
  {
   "cell_type": "code",
   "execution_count": 53,
   "metadata": {},
   "outputs": [
    {
     "data": {
      "image/png": "[encoded data removed]",
      "text/plain": [
       "<Figure size 432x288 with 1 Axes>"
      ]
     },
     "metadata": {
      "needs_background": "light"
     },
     "output_type": "display_data"
    }
   ],
   "source": [
    "#Distribution of Protein expression levels of ITSN1_N protein among different classes \n",
    "ITSN1_N = mice[['ITSN1_N', 'Behavior']].dropna()\n",
    "sns.boxplot(x='Behavior',y='ITSN1_N',hue ='Behavior',data=ITSN1_N,dodge=False)\n",
    "plt.title(\"Relationship between ITSN1_N protein protein and Behavior \")\n",
    "plt.legend(bbox_to_anchor=(1,1), loc=2, borderaxespad=0.)\n",
    "plt.show()\n",
    "#Analysis:From the graph we can say that the more than 50% of the mice which are context shock induce more than 0.75 expression level \n",
    "#of ITSN1_N protein  and more than 50% of mice produces which are shock contextinduces around 0.25 expression level of ITSN1_N protein.\n",
    "#Mices which are context-shock produce more amount of ITSN1_N than mices which are shock-context"
   ]
  },
  {
   "cell_type": "code",
   "execution_count": 54,
   "metadata": {},
   "outputs": [],
   "source": [
    "#since there are around 77 protein features it is very hard to explore relationship between all the protein features"
   ]
  },
  {
   "cell_type": "code",
   "execution_count": 55,
   "metadata": {},
   "outputs": [],
   "source": [
    "#Feature Engineering -Extracting the best features for the model from the 77 protein features"
   ]
  },
  {
   "cell_type": "code",
   "execution_count": 56,
   "metadata": {},
   "outputs": [],
   "source": [
    "#Importing decision tree classifier\n",
    "from sklearn.tree import DecisionTreeClassifier"
   ]
  },
  {
   "cell_type": "code",
   "execution_count": 57,
   "metadata": {},
   "outputs": [],
   "source": [
    "#Feature Selection using Simple hill climbing\n",
    "from sklearn.utils import shuffle \n",
    "from sklearn.model_selection import train_test_split"
   ]
  },
  {
   "cell_type": "code",
   "execution_count": 58,
   "metadata": {},
   "outputs": [],
   "source": [
    "new_Ind=[]  #new features\n",
    "cur_MaxScore=0.0 #current max score\n",
    "col_num=77   #all protein level columns\n",
    "col_Ind_Random=shuffle(range(0,col_num),random_state=1) #choose from col_num randomly"
   ]
  },
  {
   "cell_type": "code",
   "execution_count": 59,
   "metadata": {},
   "outputs": [
    {
     "name": "stdout",
     "output_type": "stream",
     "text": [
      "Score with 1 selected features: 0.12962962962962962\n",
      "Score with 2 selected features: 0.2777777777777778\n",
      "Score with 3 selected features: 0.2962962962962963\n",
      "Score with 3 selected features: 0.2777777777777778\n",
      "Score with 3 selected features: 0.2916666666666667\n",
      "Score with 3 selected features: 0.23148148148148148\n",
      "Score with 3 selected features: 0.2777777777777778\n",
      "Score with 3 selected features: 0.25925925925925924\n",
      "Score with 3 selected features: 0.2222222222222222\n",
      "Score with 4 selected features: 0.30092592592592593\n",
      "Score with 5 selected features: 0.3055555555555556\n",
      "Score with 6 selected features: 0.3287037037037037\n",
      "Score with 7 selected features: 0.4351851851851852\n",
      "Score with 8 selected features: 0.5324074074074074\n",
      "Score with 8 selected features: 0.5092592592592593\n",
      "Score with 8 selected features: 0.375\n",
      "Score with 9 selected features: 0.5879629629629629\n",
      "Score with 9 selected features: 0.47685185185185186\n",
      "Score with 9 selected features: 0.47685185185185186\n",
      "Score with 9 selected features: 0.5601851851851852\n",
      "Score with 10 selected features: 0.6481481481481481\n",
      "Score with 10 selected features: 0.5925925925925926\n",
      "Score with 10 selected features: 0.5972222222222222\n",
      "Score with 10 selected features: 0.5648148148148148\n",
      "Score with 10 selected features: 0.5740740740740741\n",
      "Score with 10 selected features: 0.5046296296296297\n",
      "Score with 10 selected features: 0.5787037037037037\n",
      "Score with 10 selected features: 0.5231481481481481\n",
      "Score with 10 selected features: 0.6018518518518519\n",
      "Score with 10 selected features: 0.5370370370370371\n",
      "Score with 10 selected features: 0.5\n",
      "Score with 10 selected features: 0.5509259259259259\n",
      "Score with 10 selected features: 0.5555555555555556\n",
      "Score with 10 selected features: 0.5555555555555556\n",
      "Score with 10 selected features: 0.5879629629629629\n",
      "Score with 10 selected features: 0.5092592592592593\n",
      "Score with 10 selected features: 0.5648148148148148\n",
      "Score with 10 selected features: 0.6064814814814815\n",
      "Score with 10 selected features: 0.6157407407407407\n",
      "Score with 10 selected features: 0.5185185185185185\n",
      "Score with 10 selected features: 0.6388888888888888\n",
      "Score with 10 selected features: 0.6064814814814815\n",
      "Score with 10 selected features: 0.6342592592592593\n",
      "Score with 10 selected features: 0.5879629629629629\n",
      "Score with 10 selected features: 0.5601851851851852\n",
      "Score with 10 selected features: 0.5046296296296297\n",
      "Score with 10 selected features: 0.5555555555555556\n",
      "Score with 10 selected features: 0.5833333333333334\n",
      "Score with 10 selected features: 0.5694444444444444\n",
      "Score with 11 selected features: 0.6851851851851852\n",
      "Score with 11 selected features: 0.6342592592592593\n",
      "Score with 11 selected features: 0.6018518518518519\n",
      "Score with 11 selected features: 0.6111111111111112\n",
      "Score with 11 selected features: 0.5740740740740741\n",
      "Score with 11 selected features: 0.6064814814814815\n",
      "Score with 11 selected features: 0.6064814814814815\n",
      "Score with 11 selected features: 0.6064814814814815\n",
      "Score with 11 selected features: 0.6018518518518519\n",
      "Score with 11 selected features: 0.5787037037037037\n",
      "Score with 11 selected features: 0.6018518518518519\n",
      "Score with 11 selected features: 0.6018518518518519\n",
      "Score with 11 selected features: 0.5925925925925926\n",
      "Score with 11 selected features: 0.6203703703703703\n",
      "Score with 11 selected features: 0.6111111111111112\n",
      "Score with 11 selected features: 0.6203703703703703\n",
      "Score with 11 selected features: 0.6018518518518519\n",
      "Score with 12 selected features: 0.6944444444444444\n",
      "Score with 12 selected features: 0.6712962962962963\n",
      "Score with 12 selected features: 0.6481481481481481\n",
      "Score with 12 selected features: 0.6759259259259259\n",
      "Score with 12 selected features: 0.6481481481481481\n",
      "Score with 12 selected features: 0.6342592592592593\n",
      "Score with 12 selected features: 0.6712962962962963\n",
      "Score with 12 selected features: 0.6620370370370371\n",
      "Score with 12 selected features: 0.6481481481481481\n",
      "Score with 12 selected features: 0.6018518518518519\n",
      "Score with 12 selected features: 0.6712962962962963\n"
     ]
    }
   ],
   "source": [
    "for cur_f in range(0, col_num): \n",
    "    new_Ind.append(col_Ind_Random[cur_f]) \n",
    "    newData = protein_data.iloc[:, new_Ind]  \n",
    "    X_train, X_test, y_train, y_test = train_test_split(newData,  #splitting the feature and target data into train and test\n",
    "   class_data, test_size=0.2, random_state=0)\n",
    "    clf=DecisionTreeClassifier(criterion='gini',splitter='random',max_depth=7,random_state=60, #Decison tree classifier \n",
    "                               min_samples_leaf=4,min_samples_split=7)\n",
    "    fit = clf.fit(X_train, y_train)  #fitting the train data \n",
    "    cur_Score = clf.score(X_test, y_test)   #getting the current score of model\n",
    "    if cur_Score < cur_MaxScore:\n",
    "        new_Ind.remove(col_Ind_Random[cur_f])  \n",
    "    else:\n",
    "        cur_MaxScore = cur_Score            #best featurees to be extracted \n",
    "    print(\"Score with \" + str(len(new_Ind)) + \" selected features: \" + str(cur_Score))\n"
   ]
  },
  {
   "cell_type": "code",
   "execution_count": 60,
   "metadata": {},
   "outputs": [
    {
     "name": "stdout",
     "output_type": "stream",
     "text": [
      "There are 12 features selected:\n"
     ]
    }
   ],
   "source": [
    "#Number of features extracted\n",
    "print(\"There are \" + str(len(new_Ind)) + \" features selected:\")"
   ]
  },
  {
   "cell_type": "code",
   "execution_count": 61,
   "metadata": {},
   "outputs": [
    {
     "name": "stdout",
     "output_type": "stream",
     "text": [
      "[31, 43, 26, 57, 10, 53, 34, 2, 46, 76, 32, 50]\n"
     ]
    }
   ],
   "source": [
    "#Index of features extracted from the Simple hill climbing\n",
    "print(new_Ind)"
   ]
  },
  {
   "cell_type": "code",
   "execution_count": 62,
   "metadata": {},
   "outputs": [
    {
     "data": {
      "text/html": [
       "<div>\n",
       "<style scoped>\n",
       "    .dataframe tbody tr th:only-of-type {\n",
       "        vertical-align: middle;\n",
       "    }\n",
       "\n",
       "    .dataframe tbody tr th {\n",
       "        vertical-align: top;\n",
       "    }\n",
       "\n",
       "    .dataframe thead th {\n",
       "        text-align: right;\n",
       "    }\n",
       "</style>\n",
       "<table border=\"1\" class=\"dataframe\">\n",
       "  <thead>\n",
       "    <tr style=\"text-align: right;\">\n",
       "      <th></th>\n",
       "      <th>Bcatenin_N</th>\n",
       "      <th>NUMB_N</th>\n",
       "      <th>JNK_N</th>\n",
       "      <th>GFAP_N</th>\n",
       "      <th>pERK_N</th>\n",
       "      <th>ARC_N</th>\n",
       "      <th>P38_N</th>\n",
       "      <th>BDNF_N</th>\n",
       "      <th>pPKCG_N</th>\n",
       "      <th>CaNA_N</th>\n",
       "      <th>SOD1_N</th>\n",
       "      <th>AcetylH3K9_N</th>\n",
       "    </tr>\n",
       "  </thead>\n",
       "  <tbody>\n",
       "    <tr>\n",
       "      <th>0</th>\n",
       "      <td>3.037621</td>\n",
       "      <td>0.182150</td>\n",
       "      <td>0.264526</td>\n",
       "      <td>0.115291</td>\n",
       "      <td>0.687906</td>\n",
       "      <td>0.106305</td>\n",
       "      <td>0.335336</td>\n",
       "      <td>0.430175</td>\n",
       "      <td>1.443091</td>\n",
       "      <td>1.675652</td>\n",
       "      <td>0.369510</td>\n",
       "      <td>0.170119</td>\n",
       "    </tr>\n",
       "    <tr>\n",
       "      <th>1</th>\n",
       "      <td>2.921882</td>\n",
       "      <td>0.182086</td>\n",
       "      <td>0.255727</td>\n",
       "      <td>0.118235</td>\n",
       "      <td>0.695006</td>\n",
       "      <td>0.106592</td>\n",
       "      <td>0.324835</td>\n",
       "      <td>0.411770</td>\n",
       "      <td>1.439460</td>\n",
       "      <td>1.743610</td>\n",
       "      <td>0.342279</td>\n",
       "      <td>0.171427</td>\n",
       "    </tr>\n",
       "    <tr>\n",
       "      <th>2</th>\n",
       "      <td>2.944136</td>\n",
       "      <td>0.184388</td>\n",
       "      <td>0.259614</td>\n",
       "      <td>0.117760</td>\n",
       "      <td>0.677348</td>\n",
       "      <td>0.108303</td>\n",
       "      <td>0.324852</td>\n",
       "      <td>0.418309</td>\n",
       "      <td>1.524364</td>\n",
       "      <td>1.926427</td>\n",
       "      <td>0.343696</td>\n",
       "      <td>0.185456</td>\n",
       "    </tr>\n",
       "    <tr>\n",
       "      <th>3</th>\n",
       "      <td>2.500204</td>\n",
       "      <td>0.161768</td>\n",
       "      <td>0.259536</td>\n",
       "      <td>0.117439</td>\n",
       "      <td>0.583277</td>\n",
       "      <td>0.103184</td>\n",
       "      <td>0.330121</td>\n",
       "      <td>0.358626</td>\n",
       "      <td>1.612382</td>\n",
       "      <td>1.700563</td>\n",
       "      <td>0.344509</td>\n",
       "      <td>0.159799</td>\n",
       "    </tr>\n",
       "    <tr>\n",
       "      <th>4</th>\n",
       "      <td>2.456560</td>\n",
       "      <td>0.160200</td>\n",
       "      <td>0.250705</td>\n",
       "      <td>0.116048</td>\n",
       "      <td>0.550960</td>\n",
       "      <td>0.104784</td>\n",
       "      <td>0.313415</td>\n",
       "      <td>0.358802</td>\n",
       "      <td>1.645807</td>\n",
       "      <td>1.839730</td>\n",
       "      <td>0.329126</td>\n",
       "      <td>0.164650</td>\n",
       "    </tr>\n",
       "    <tr>\n",
       "      <th>...</th>\n",
       "      <td>...</td>\n",
       "      <td>...</td>\n",
       "      <td>...</td>\n",
       "      <td>...</td>\n",
       "      <td>...</td>\n",
       "      <td>...</td>\n",
       "      <td>...</td>\n",
       "      <td>...</td>\n",
       "      <td>...</td>\n",
       "      <td>...</td>\n",
       "      <td>...</td>\n",
       "      <td>...</td>\n",
       "    </tr>\n",
       "    <tr>\n",
       "      <th>1075</th>\n",
       "      <td>1.828208</td>\n",
       "      <td>0.209433</td>\n",
       "      <td>0.236303</td>\n",
       "      <td>0.134896</td>\n",
       "      <td>0.265642</td>\n",
       "      <td>0.115806</td>\n",
       "      <td>0.320431</td>\n",
       "      <td>0.254860</td>\n",
       "      <td>2.630825</td>\n",
       "      <td>1.364823</td>\n",
       "      <td>0.820078</td>\n",
       "      <td>0.532987</td>\n",
       "    </tr>\n",
       "    <tr>\n",
       "      <th>1076</th>\n",
       "      <td>1.883370</td>\n",
       "      <td>0.194333</td>\n",
       "      <td>0.245451</td>\n",
       "      <td>0.130615</td>\n",
       "      <td>0.270378</td>\n",
       "      <td>0.113614</td>\n",
       "      <td>0.338246</td>\n",
       "      <td>0.251638</td>\n",
       "      <td>2.593227</td>\n",
       "      <td>1.364478</td>\n",
       "      <td>0.854258</td>\n",
       "      <td>0.546648</td>\n",
       "    </tr>\n",
       "    <tr>\n",
       "      <th>1077</th>\n",
       "      <td>1.494208</td>\n",
       "      <td>0.196736</td>\n",
       "      <td>0.216741</td>\n",
       "      <td>0.137081</td>\n",
       "      <td>0.255045</td>\n",
       "      <td>0.118948</td>\n",
       "      <td>0.309978</td>\n",
       "      <td>0.234118</td>\n",
       "      <td>2.628286</td>\n",
       "      <td>1.430825</td>\n",
       "      <td>0.661809</td>\n",
       "      <td>0.536899</td>\n",
       "    </tr>\n",
       "    <tr>\n",
       "      <th>1078</th>\n",
       "      <td>1.571820</td>\n",
       "      <td>0.197567</td>\n",
       "      <td>0.238095</td>\n",
       "      <td>0.149265</td>\n",
       "      <td>0.230649</td>\n",
       "      <td>0.125295</td>\n",
       "      <td>0.308446</td>\n",
       "      <td>0.243974</td>\n",
       "      <td>2.659706</td>\n",
       "      <td>1.404031</td>\n",
       "      <td>0.698413</td>\n",
       "      <td>0.538224</td>\n",
       "    </tr>\n",
       "    <tr>\n",
       "      <th>1079</th>\n",
       "      <td>1.742768</td>\n",
       "      <td>0.188807</td>\n",
       "      <td>0.287049</td>\n",
       "      <td>0.140533</td>\n",
       "      <td>0.276146</td>\n",
       "      <td>0.118899</td>\n",
       "      <td>0.339119</td>\n",
       "      <td>0.256564</td>\n",
       "      <td>2.654926</td>\n",
       "      <td>1.370999</td>\n",
       "      <td>0.786827</td>\n",
       "      <td>0.535312</td>\n",
       "    </tr>\n",
       "  </tbody>\n",
       "</table>\n",
       "<p>1080 rows × 12 columns</p>\n",
       "</div>"
      ],
      "text/plain": [
       "      Bcatenin_N    NUMB_N     JNK_N    GFAP_N    pERK_N     ARC_N     P38_N  \\\n",
       "0       3.037621  0.182150  0.264526  0.115291  0.687906  0.106305  0.335336   \n",
       "1       2.921882  0.182086  0.255727  0.118235  0.695006  0.106592  0.324835   \n",
       "2       2.944136  0.184388  0.259614  0.117760  0.677348  0.108303  0.324852   \n",
       "3       2.500204  0.161768  0.259536  0.117439  0.583277  0.103184  0.330121   \n",
       "4       2.456560  0.160200  0.250705  0.116048  0.550960  0.104784  0.313415   \n",
       "...          ...       ...       ...       ...       ...       ...       ...   \n",
       "1075    1.828208  0.209433  0.236303  0.134896  0.265642  0.115806  0.320431   \n",
       "1076    1.883370  0.194333  0.245451  0.130615  0.270378  0.113614  0.338246   \n",
       "1077    1.494208  0.196736  0.216741  0.137081  0.255045  0.118948  0.309978   \n",
       "1078    1.571820  0.197567  0.238095  0.149265  0.230649  0.125295  0.308446   \n",
       "1079    1.742768  0.188807  0.287049  0.140533  0.276146  0.118899  0.339119   \n",
       "\n",
       "        BDNF_N   pPKCG_N    CaNA_N    SOD1_N  AcetylH3K9_N  \n",
       "0     0.430175  1.443091  1.675652  0.369510      0.170119  \n",
       "1     0.411770  1.439460  1.743610  0.342279      0.171427  \n",
       "2     0.418309  1.524364  1.926427  0.343696      0.185456  \n",
       "3     0.358626  1.612382  1.700563  0.344509      0.159799  \n",
       "4     0.358802  1.645807  1.839730  0.329126      0.164650  \n",
       "...        ...       ...       ...       ...           ...  \n",
       "1075  0.254860  2.630825  1.364823  0.820078      0.532987  \n",
       "1076  0.251638  2.593227  1.364478  0.854258      0.546648  \n",
       "1077  0.234118  2.628286  1.430825  0.661809      0.536899  \n",
       "1078  0.243974  2.659706  1.404031  0.698413      0.538224  \n",
       "1079  0.256564  2.654926  1.370999  0.786827      0.535312  \n",
       "\n",
       "[1080 rows x 12 columns]"
      ]
     },
     "execution_count": 62,
     "metadata": {},
     "output_type": "execute_result"
    }
   ],
   "source": [
    "#Extracting the features to be selcted from the protein level columns \n",
    "protein_feature=protein_data.iloc[:,new_Ind]\n",
    "protein_feature"
   ]
  },
  {
   "cell_type": "code",
   "execution_count": 63,
   "metadata": {},
   "outputs": [
    {
     "data": {
      "text/plain": [
       "(1080, 12)"
      ]
     },
     "execution_count": 63,
     "metadata": {},
     "output_type": "execute_result"
    }
   ],
   "source": [
    "#Size and dimensions of the extracted feature data set\n",
    "protein_feature.shape"
   ]
  },
  {
   "cell_type": "code",
   "execution_count": 64,
   "metadata": {},
   "outputs": [],
   "source": [
    "#Data Modelling \n",
    "#We are choosing the 12 protein features extracted from simple hill climbing technique as the feature data \n",
    "#We are choosing the class feature from mice as the target data \n",
    "#We are chossing these data to predict the subsets of proteins that are discriminant between the classes."
   ]
  },
  {
   "cell_type": "code",
   "execution_count": 65,
   "metadata": {},
   "outputs": [],
   "source": [
    "#Importing the train_test_split to split the feature data and target data into train and test.\n",
    "from sklearn.model_selection import train_test_split\n",
    "X_train,X_test,y_train,y_test=train_test_split(protein_feature,class_data,test_size=0.20,random_state=0) #12 protein features"
   ]
  },
  {
   "cell_type": "code",
   "execution_count": 66,
   "metadata": {},
   "outputs": [
    {
     "data": {
      "text/plain": [
       "(864, 12)"
      ]
     },
     "execution_count": 66,
     "metadata": {},
     "output_type": "execute_result"
    }
   ],
   "source": [
    "#Size and dimension of the X train data \n",
    "X_train.shape"
   ]
  },
  {
   "cell_type": "code",
   "execution_count": 67,
   "metadata": {},
   "outputs": [
    {
     "data": {
      "text/plain": [
       "(864,)"
      ]
     },
     "execution_count": 67,
     "metadata": {},
     "output_type": "execute_result"
    }
   ],
   "source": [
    "#Size and dimension of the y train data \n",
    "y_train.shape"
   ]
  },
  {
   "cell_type": "code",
   "execution_count": 68,
   "metadata": {},
   "outputs": [
    {
     "data": {
      "text/plain": [
       "(216, 12)"
      ]
     },
     "execution_count": 68,
     "metadata": {},
     "output_type": "execute_result"
    }
   ],
   "source": [
    "#Size and dimension of the X test data \n",
    "X_test.shape"
   ]
  },
  {
   "cell_type": "code",
   "execution_count": 69,
   "metadata": {},
   "outputs": [
    {
     "data": {
      "text/plain": [
       "(216,)"
      ]
     },
     "execution_count": 69,
     "metadata": {},
     "output_type": "execute_result"
    }
   ],
   "source": [
    "#Size and dimension of the y test data \n",
    "y_test.shape"
   ]
  },
  {
   "cell_type": "code",
   "execution_count": 70,
   "metadata": {},
   "outputs": [],
   "source": [
    "#Importing decision tree classifier\n",
    "from sklearn.tree import DecisionTreeClassifier"
   ]
  },
  {
   "cell_type": "code",
   "execution_count": 71,
   "metadata": {},
   "outputs": [],
   "source": [
    "#Fitting the train data to Decision tree classifier with right tree constriants to avoid Overfitting and increase the accuracy score\n",
    "clf =DecisionTreeClassifier(criterion='gini',splitter='random',max_depth=7,random_state=60,min_samples_leaf=6,min_samples_split=7)\n",
    "fit =clf.fit(X_train,y_train)"
   ]
  },
  {
   "cell_type": "code",
   "execution_count": 72,
   "metadata": {},
   "outputs": [
    {
     "data": {
      "text/plain": [
       "array(['t-CS-s', 'c-CS-s', 't-CS-m', 't-SC-m', 'c-CS-s', 't-SC-s',\n",
       "       't-SC-s', 'c-SC-m', 'c-SC-s', 'c-SC-s', 't-CS-m', 't-CS-m',\n",
       "       'c-SC-s', 'c-CS-m', 't-CS-m', 'c-SC-s', 't-CS-m', 'c-SC-s',\n",
       "       't-SC-m', 'c-SC-s', 't-CS-s', 't-SC-s', 'c-SC-m', 't-SC-m',\n",
       "       'c-CS-m', 'c-CS-m', 'c-SC-s', 'c-CS-m', 'c-SC-m', 't-CS-s',\n",
       "       'c-SC-m', 't-SC-s', 'c-SC-m', 't-CS-m', 't-CS-s', 'c-CS-s',\n",
       "       'c-CS-m', 't-CS-m', 't-SC-m', 't-SC-m', 'c-CS-m', 't-CS-m',\n",
       "       'c-CS-m', 't-SC-m', 'c-SC-m', 't-CS-m', 't-CS-m', 'c-SC-m',\n",
       "       'c-CS-s', 't-SC-m', 't-CS-m', 'c-CS-m', 't-SC-m', 'c-SC-m',\n",
       "       't-CS-m', 'c-CS-s', 'c-CS-m', 't-CS-m', 't-SC-m', 'c-SC-s',\n",
       "       'c-SC-m', 'c-SC-m', 't-CS-m', 'c-SC-s', 'c-SC-m', 'c-CS-s',\n",
       "       'c-SC-m', 'c-CS-s', 'c-CS-s', 't-SC-s', 'c-CS-m', 't-SC-s',\n",
       "       'c-CS-m', 'c-CS-m', 'c-CS-m', 'c-CS-s', 'c-SC-m', 'c-CS-s',\n",
       "       't-SC-m', 'c-SC-s', 't-SC-s', 'c-SC-m', 't-SC-s', 'c-CS-m',\n",
       "       'c-CS-s', 'c-CS-s', 't-SC-s', 't-CS-m', 'c-CS-s', 'c-SC-s',\n",
       "       'c-CS-s', 'c-SC-m', 't-SC-s', 't-SC-m', 't-CS-m', 't-CS-m',\n",
       "       't-SC-m', 'c-CS-s', 'c-CS-m', 'c-SC-s', 'c-CS-s', 't-CS-s',\n",
       "       't-CS-m', 't-CS-m', 'c-SC-s', 'c-CS-m', 'c-CS-m', 'c-CS-s',\n",
       "       'c-SC-m', 'c-SC-s', 't-SC-s', 'c-CS-s', 't-CS-m', 'c-SC-s',\n",
       "       'c-SC-s', 'c-SC-m', 't-SC-s', 'c-SC-m', 't-CS-m', 'c-SC-s',\n",
       "       'c-CS-m', 'c-SC-m', 'c-SC-m', 'c-SC-s', 'c-SC-m', 'c-CS-m',\n",
       "       'c-SC-m', 'c-CS-s', 'c-CS-m', 't-CS-m', 't-SC-m', 't-CS-m',\n",
       "       'c-SC-m', 'c-SC-m', 't-CS-m', 't-CS-m', 't-SC-m', 't-SC-m',\n",
       "       't-SC-s', 'c-SC-m', 'c-SC-m', 'c-SC-s', 'c-SC-m', 'c-CS-s',\n",
       "       't-CS-m', 'c-CS-s', 't-CS-m', 't-CS-m', 'c-CS-s', 'c-CS-s',\n",
       "       'c-SC-s', 't-SC-s', 'c-CS-m', 't-SC-m', 't-CS-m', 'c-SC-m',\n",
       "       'c-CS-m', 't-CS-m', 'c-CS-s', 'c-SC-m', 't-SC-s', 'c-CS-m',\n",
       "       'c-SC-s', 'c-SC-m', 'c-CS-m', 'c-CS-m', 't-CS-s', 'c-CS-s',\n",
       "       'c-CS-s', 't-CS-m', 't-SC-m', 't-CS-s', 'c-CS-s', 't-CS-s',\n",
       "       'c-SC-s', 'c-SC-m', 'c-CS-m', 'c-CS-m', 'c-CS-s', 't-CS-m',\n",
       "       't-SC-s', 't-CS-m', 't-CS-m', 'c-CS-s', 'c-CS-s', 'c-SC-m',\n",
       "       't-SC-m', 't-SC-s', 'c-SC-m', 't-CS-s', 'c-CS-s', 'c-SC-m',\n",
       "       'c-CS-m', 't-SC-s', 't-CS-s', 't-SC-s', 't-CS-s', 't-SC-s',\n",
       "       'c-CS-m', 't-SC-s', 't-SC-s', 't-SC-m', 'c-SC-m', 'c-CS-s',\n",
       "       't-SC-m', 'c-CS-s', 't-SC-m', 't-SC-m', 't-CS-m', 't-CS-m',\n",
       "       't-CS-m', 'c-CS-s', 'c-CS-m', 'c-CS-s', 'c-SC-s', 't-SC-m'],\n",
       "      dtype=object)"
      ]
     },
     "execution_count": 72,
     "metadata": {},
     "output_type": "execute_result"
    }
   ],
   "source": [
    "#Predicting the unseen test data \n",
    "y_pre=fit.predict(X_test)\n",
    "y_pre"
   ]
  },
  {
   "cell_type": "code",
   "execution_count": 73,
   "metadata": {},
   "outputs": [
    {
     "data": {
      "text/plain": [
       "(216,)"
      ]
     },
     "execution_count": 73,
     "metadata": {},
     "output_type": "execute_result"
    }
   ],
   "source": [
    "#Size and dimension of the unseen test data \n",
    "y_pre.shape"
   ]
  },
  {
   "cell_type": "code",
   "execution_count": 74,
   "metadata": {},
   "outputs": [
    {
     "data": {
      "text/plain": [
       "array([[16,  2,  0,  0,  6,  0,  0,  0],\n",
       "       [ 8, 13,  1,  0,  5,  0,  0,  0],\n",
       "       [ 0,  0, 24,  0,  0,  0,  1,  0],\n",
       "       [ 0,  0,  3, 22,  0,  0,  6,  0],\n",
       "       [ 0, 12,  0,  0, 20,  0,  0,  0],\n",
       "       [ 3,  7,  0,  0,  6, 11,  0,  0],\n",
       "       [ 0,  0,  7,  1,  0,  0, 16,  0],\n",
       "       [ 3,  1,  0,  0,  0,  0,  0, 22]], dtype=int64)"
      ]
     },
     "execution_count": 74,
     "metadata": {},
     "output_type": "execute_result"
    }
   ],
   "source": [
    "#Importing the confusion matrix which describes the performance of classification model\n",
    "from sklearn.metrics import confusion_matrix\n",
    "cm=confusion_matrix(y_test,y_pre)\n",
    "cm"
   ]
  },
  {
   "cell_type": "code",
   "execution_count": 75,
   "metadata": {},
   "outputs": [],
   "source": [
    "#Importing classification report from metrics\n",
    "from sklearn.metrics import classification_report "
   ]
  },
  {
   "cell_type": "code",
   "execution_count": 76,
   "metadata": {},
   "outputs": [
    {
     "name": "stdout",
     "output_type": "stream",
     "text": [
      "              precision    recall  f1-score   support\n",
      "\n",
      "      c-CS-m       0.53      0.67      0.59        24\n",
      "      c-CS-s       0.37      0.48      0.42        27\n",
      "      c-SC-m       0.69      0.96      0.80        25\n",
      "      c-SC-s       0.96      0.71      0.81        31\n",
      "      t-CS-m       0.54      0.62      0.58        32\n",
      "      t-CS-s       1.00      0.41      0.58        27\n",
      "      t-SC-m       0.70      0.67      0.68        24\n",
      "      t-SC-s       1.00      0.85      0.92        26\n",
      "\n",
      "    accuracy                           0.67       216\n",
      "   macro avg       0.72      0.67      0.67       216\n",
      "weighted avg       0.73      0.67      0.67       216\n",
      "\n"
     ]
    }
   ],
   "source": [
    "#printing the classification report of the Decision tree model \n",
    "print(classification_report(y_test,y_pre)) "
   ]
  },
  {
   "cell_type": "code",
   "execution_count": 77,
   "metadata": {},
   "outputs": [
    {
     "data": {
      "text/plain": [
       "0.6666666666666666"
      ]
     },
     "execution_count": 77,
     "metadata": {},
     "output_type": "execute_result"
    }
   ],
   "source": [
    "#Accuracy score of Decision tree model\n",
    "from sklearn.metrics import accuracy_score\n",
    "accuracy_score(y_test,y_pre)"
   ]
  },
  {
   "cell_type": "code",
   "execution_count": 78,
   "metadata": {},
   "outputs": [
    {
     "name": "stdout",
     "output_type": "stream",
     "text": [
      "[Train/test split] score: 0.66667\n"
     ]
    }
   ],
   "source": [
    " print(\"[Train/test split] score: {:.5f}\".format(clf.score(X_test, y_test)))"
   ]
  },
  {
   "cell_type": "code",
   "execution_count": 79,
   "metadata": {},
   "outputs": [],
   "source": [
    "#Importing the KFold from sklearn and Validating the above score woth fold accuracy score \n",
    "from sklearn.model_selection import KFold\n",
    "kf=KFold(n_splits=5,shuffle =True)"
   ]
  },
  {
   "cell_type": "code",
   "execution_count": 80,
   "metadata": {},
   "outputs": [
    {
     "name": "stdout",
     "output_type": "stream",
     "text": [
      "TRAIN: [   0    1    2    3    7    8    9   10   11   12   14   16   18   19\n",
      "   20   21   22   24   25   26   27   28   29   30   31   32   33   35\n",
      "   36   37   38   39   40   43   44   45   48   49   50   51   52   53\n",
      "   54   55   56   57   58   59   60   62   63   64   67   68   71   72\n",
      "   73   75   77   78   80   81   82   83   84   85   86   87   88   89\n",
      "   90   92   93   95   97   98   99  100  102  103  104  105  106  107\n",
      "  108  109  110  111  112  113  114  116  117  118  119  120  121  122\n",
      "  123  124  125  126  127  128  129  130  131  132  133  136  138  139\n",
      "  140  141  142  146  147  148  149  150  152  153  155  156  157  158\n",
      "  159  160  161  162  163  164  165  166  167  168  170  171  173  174\n",
      "  176  177  179  180  181  182  183  185  186  189  190  193  194  196\n",
      "  197  198  199  201  202  203  205  206  208  209  210  212  213  214\n",
      "  215  216  217  218  219  220  221  223  224  225  226  227  228  229\n",
      "  230  231  233  234  235  236  240  241  243  244  245  246  247  248\n",
      "  249  251  252  253  254  255  256  257  258  259  260  261  263  264\n",
      "  265  267  268  270  271  272  273  274  275  276  277  278  279  280\n",
      "  281  282  283  284  285  287  288  289  290  291  292  294  296  298\n",
      "  299  300  301  302  303  304  305  306  307  308  309  311  313  314\n",
      "  315  316  317  318  319  321  322  324  325  327  328  330  331  332\n",
      "  333  334  336  337  338  339  341  343  344  346  347  348  349  350\n",
      "  351  352  353  354  355  356  357  358  359  360  362  363  364  365\n",
      "  367  368  369  370  372  373  374  375  376  377  378  379  380  381\n",
      "  383  384  386  387  388  390  392  393  395  396  398  399  400  401\n",
      "  402  403  404  405  406  407  408  410  411  412  413  414  416  418\n",
      "  419  420  421  422  425  426  427  429  431  433  434  436  437  438\n",
      "  439  441  442  443  445  446  447  448  449  450  451  452  453  454\n",
      "  455  456  457  458  459  460  464  465  466  468  470  471  472  474\n",
      "  475  476  477  478  479  480  481  482  483  484  485  487  488  489\n",
      "  490  492  493  494  495  496  497  498  499  500  501  502  503  504\n",
      "  505  506  507  508  509  510  511  512  513  515  516  517  518  519\n",
      "  521  522  523  525  526  530  531  532  533  534  535  536  537  538\n",
      "  539  540  541  542  548  549  550  551  552  553  554  556  557  558\n",
      "  559  560  561  562  563  564  565  566  567  568  569  570  571  572\n",
      "  573  574  575  576  577  578  579  581  582  583  584  585  586  587\n",
      "  588  589  590  591  594  596  597  599  603  604  605  606  607  608\n",
      "  609  610  611  612  613  614  615  616  619  620  621  622  623  624\n",
      "  627  629  630  632  633  634  635  636  637  638  639  640  642  643\n",
      "  645  646  647  649  650  651  653  654  655  656  657  658  660  661\n",
      "  662  663  664  665  666  667  669  670  671  672  673  674  675  676\n",
      "  677  678  679  680  681  682  684  685  686  687  688  690  691  692\n",
      "  693  694  696  697  698  699  701  702  704  705  707  708  709  710\n",
      "  711  713  714  715  717  718  719  720  721  722  723  725  729  730\n",
      "  731  732  733  734  735  736  737  738  739  740  741  742  743  745\n",
      "  746  747  748  750  751  752  754  755  756  757  758  759  761  762\n",
      "  763  764  765  766  767  768  769  771  772  773  774  775  776  777\n",
      "  779  780  782  783  784  785  786  788  789  792  793  794  795  796\n",
      "  798  799  800  801  802  804  805  807  808  810  811  812  814  815\n",
      "  817  818  819  820  821  822  823  824  825  826  828  830  831  832\n",
      "  833  834  835  837  839  840  842  843  845  846  847  848  849  851\n",
      "  852  854  855  856  858  861  862  864  867  869  871  872  873  874\n",
      "  875  876  878  879  880  881  884  885  886  887  888  889  890  892\n",
      "  893  895  896  897  898  899  900  901  902  903  904  905  907  908\n",
      "  910  911  912  913  914  915  916  917  918  919  921  923  924  925\n",
      "  926  927  928  929  930  932  934  935  936  937  938  939  940  941\n",
      "  942  943  944  945  946  947  951  952  953  954  955  956  957  959\n",
      "  960  962  963  964  966  968  969  970  971  972  974  975  976  977\n",
      "  978  979  980  982  983  984  985  986  987  988  989  991  992  993\n",
      "  994  995  996  998  999 1000 1001 1003 1004 1005 1006 1007 1008 1010\n",
      " 1011 1012 1014 1015 1016 1017 1018 1020 1021 1022 1023 1025 1026 1027\n",
      " 1028 1029 1030 1031 1033 1034 1035 1036 1037 1038 1040 1041 1042 1045\n",
      " 1046 1047 1048 1049 1050 1051 1054 1056 1057 1058 1059 1061 1062 1065\n",
      " 1068 1069 1070 1071 1072 1073 1075 1076 1077 1079] TEST: [   4    5    6   13   15   17   23   34   41   42   46   47   61   65\n",
      "   66   69   70   74   76   79   91   94   96  101  115  134  135  137\n",
      "  143  144  145  151  154  169  172  175  178  184  187  188  191  192\n",
      "  195  200  204  207  211  222  232  237  238  239  242  250  262  266\n",
      "  269  286  293  295  297  310  312  320  323  326  329  335  340  342\n",
      "  345  361  366  371  382  385  389  391  394  397  409  415  417  423\n",
      "  424  428  430  432  435  440  444  461  462  463  467  469  473  486\n",
      "  491  514  520  524  527  528  529  543  544  545  546  547  555  580\n",
      "  592  593  595  598  600  601  602  617  618  625  626  628  631  641\n",
      "  644  648  652  659  668  683  689  695  700  703  706  712  716  724\n",
      "  726  727  728  744  749  753  760  770  778  781  787  790  791  797\n",
      "  803  806  809  813  816  827  829  836  838  841  844  850  853  857\n",
      "  859  860  863  865  866  868  870  877  882  883  891  894  906  909\n",
      "  920  922  931  933  948  949  950  958  961  965  967  973  981  990\n",
      "  997 1002 1009 1013 1019 1024 1032 1039 1043 1044 1052 1053 1055 1060\n",
      " 1063 1064 1066 1067 1074 1078]\n",
      "TRAIN: [   0    1    2    3    4    5    6    7    8    9   10   11   12   13\n",
      "   14   15   16   17   19   20   21   23   24   25   26   27   28   29\n",
      "   32   33   34   36   37   38   39   41   42   43   45   46   47   50\n",
      "   53   55   56   57   58   59   60   61   62   64   65   66   67   69\n",
      "   70   71   72   73   74   76   78   79   80   81   83   84   85   86\n",
      "   87   88   89   90   91   92   93   94   96   97   98  100  101  102\n",
      "  103  104  105  106  107  108  109  111  113  114  115  116  117  118\n",
      "  119  120  121  122  123  124  125  126  127  128  129  130  132  133\n",
      "  134  135  136  137  138  139  140  141  142  143  144  145  146  147\n",
      "  148  149  150  151  152  154  155  156  158  159  160  161  162  163\n",
      "  164  165  167  168  169  170  172  174  175  176  177  178  179  180\n",
      "  181  182  183  184  185  186  187  188  189  190  191  192  193  194\n",
      "  195  196  197  198  199  200  203  204  205  206  207  209  210  211\n",
      "  212  213  214  215  216  217  218  219  221  222  223  224  225  226\n",
      "  227  229  230  232  233  234  236  237  238  239  240  241  242  243\n",
      "  244  245  246  247  249  250  251  254  255  256  257  258  259  261\n",
      "  262  263  264  266  268  269  271  272  274  276  277  278  279  280\n",
      "  281  282  284  285  286  287  288  289  291  293  295  296  297  299\n",
      "  300  303  304  305  306  307  308  310  311  312  313  314  315  316\n",
      "  317  318  319  320  322  323  324  326  327  328  329  330  331  334\n",
      "  335  336  340  341  342  343  344  345  346  347  348  350  351  352\n",
      "  353  354  355  356  357  359  360  361  362  363  364  366  369  370\n",
      "  371  372  373  375  376  377  378  379  380  381  382  383  384  385\n",
      "  386  387  388  389  391  392  393  394  397  400  403  404  405  406\n",
      "  407  408  409  410  411  412  413  414  415  417  418  419  420  421\n",
      "  422  423  424  427  428  429  430  431  432  433  434  435  436  438\n",
      "  439  440  444  445  446  447  448  449  451  452  453  454  456  458\n",
      "  460  461  462  463  464  465  467  468  469  471  472  473  475  476\n",
      "  477  478  479  480  481  482  483  484  486  489  491  492  494  496\n",
      "  497  498  499  500  502  503  505  507  508  509  510  513  514  516\n",
      "  517  519  520  521  523  524  526  527  528  529  530  531  532  533\n",
      "  534  535  536  537  539  540  541  542  543  544  545  546  547  549\n",
      "  550  551  552  555  557  558  559  560  561  562  565  566  567  568\n",
      "  572  575  576  577  578  580  581  582  583  585  586  587  588  589\n",
      "  591  592  593  595  596  597  598  600  601  602  603  605  606  607\n",
      "  609  610  611  612  614  615  616  617  618  619  620  621  622  623\n",
      "  624  625  626  627  628  629  630  631  632  633  635  636  637  638\n",
      "  639  640  641  642  644  645  646  647  648  649  650  651  652  654\n",
      "  658  659  661  662  663  664  666  668  669  670  671  672  673  674\n",
      "  675  676  678  679  680  681  682  683  684  686  687  688  689  690\n",
      "  691  692  693  694  695  696  698  699  700  701  702  703  706  707\n",
      "  708  709  711  712  714  715  716  718  719  720  721  722  723  724\n",
      "  725  726  727  728  729  730  731  732  733  735  736  737  738  739\n",
      "  740  741  742  743  744  745  748  749  750  751  752  753  755  756\n",
      "  758  759  760  761  762  764  767  768  769  770  771  772  773  775\n",
      "  777  778  780  781  782  783  784  786  787  790  791  792  793  795\n",
      "  796  797  798  799  800  801  802  803  804  806  807  809  810  811\n",
      "  813  815  816  818  820  821  822  823  824  826  827  829  830  831\n",
      "  832  834  835  836  837  838  841  842  844  846  847  848  849  850\n",
      "  851  852  853  856  857  858  859  860  863  864  865  866  867  868\n",
      "  870  871  872  875  876  877  878  881  882  883  884  885  887  888\n",
      "  890  891  892  893  894  895  897  898  899  901  903  906  907  909\n",
      "  911  912  914  915  916  917  918  920  922  923  924  925  926  927\n",
      "  928  930  931  933  935  936  937  938  939  940  941  942  943  945\n",
      "  946  947  948  949  950  952  953  954  955  957  958  960  961  962\n",
      "  963  964  965  966  967  970  971  973  974  976  977  978  979  980\n",
      "  981  982  983  985  986  988  989  990  993  995  997  998  999 1000\n",
      " 1001 1002 1004 1006 1007 1008 1009 1010 1011 1012 1013 1014 1017 1018\n",
      " 1019 1020 1021 1022 1023 1024 1027 1028 1029 1030 1031 1032 1035 1037\n",
      " 1038 1039 1040 1041 1042 1043 1044 1045 1046 1047 1048 1049 1051 1052\n",
      " 1053 1054 1055 1056 1057 1058 1059 1060 1062 1063 1064 1065 1066 1067\n",
      " 1068 1069 1071 1072 1073 1074 1075 1076 1077 1078] TEST: [  18   22   30   31   35   40   44   48   49   51   52   54   63   68\n",
      "   75   77   82   95   99  110  112  131  153  157  166  171  173  201\n",
      "  202  208  220  228  231  235  248  252  253  260  265  267  270  273\n",
      "  275  283  290  292  294  298  301  302  309  321  325  332  333  337\n",
      "  338  339  349  358  365  367  368  374  390  395  396  398  399  401\n",
      "  402  416  425  426  437  441  442  443  450  455  457  459  466  470\n",
      "  474  485  487  488  490  493  495  501  504  506  511  512  515  518\n",
      "  522  525  538  548  553  554  556  563  564  569  570  571  573  574\n",
      "  579  584  590  594  599  604  608  613  634  643  653  655  656  657\n",
      "  660  665  667  677  685  697  704  705  710  713  717  734  746  747\n",
      "  754  757  763  765  766  774  776  779  785  788  789  794  805  808\n",
      "  812  814  817  819  825  828  833  839  840  843  845  854  855  861\n",
      "  862  869  873  874  879  880  886  889  896  900  902  904  905  908\n",
      "  910  913  919  921  929  932  934  944  951  956  959  968  969  972\n",
      "  975  984  987  991  992  994  996 1003 1005 1015 1016 1025 1026 1033\n",
      " 1034 1036 1050 1061 1070 1079]\n",
      "TRAIN: [   0    1    3    4    5    6    7    8    9   11   13   15   17   18\n",
      "   19   20   22   23   24   25   26   28   29   30   31   32   33   34\n",
      "   35   38   39   40   41   42   44   46   47   48   49   51   52   54\n",
      "   55   58   59   61   62   63   65   66   68   69   70   71   72   74\n",
      "   75   76   77   78   79   80   82   83   84   87   88   89   90   91\n",
      "   94   95   96   97   99  100  101  102  103  104  106  110  111  112\n",
      "  113  114  115  116  118  119  120  121  124  125  126  130  131  132\n",
      "  134  135  137  140  141  142  143  144  145  146  147  148  149  150\n",
      "  151  153  154  155  157  158  159  161  162  165  166  169  170  171\n",
      "  172  173  175  176  177  178  180  181  182  183  184  185  186  187\n",
      "  188  189  190  191  192  195  196  197  198  199  200  201  202  203\n",
      "  204  205  206  207  208  209  210  211  213  215  216  217  219  220\n",
      "  221  222  223  224  226  227  228  229  231  232  233  234  235  236\n",
      "  237  238  239  240  241  242  245  246  247  248  250  251  252  253\n",
      "  254  256  259  260  261  262  264  265  266  267  268  269  270  271\n",
      "  273  275  276  278  281  283  284  285  286  287  288  290  291  292\n",
      "  293  294  295  296  297  298  299  300  301  302  305  307  308  309\n",
      "  310  311  312  316  317  318  319  320  321  323  325  326  328  329\n",
      "  330  331  332  333  335  336  337  338  339  340  341  342  343  345\n",
      "  346  348  349  351  353  354  355  356  357  358  359  360  361  363\n",
      "  364  365  366  367  368  369  370  371  372  373  374  375  377  378\n",
      "  382  383  384  385  386  387  388  389  390  391  393  394  395  396\n",
      "  397  398  399  401  402  404  405  407  408  409  414  415  416  417\n",
      "  418  419  420  421  422  423  424  425  426  427  428  429  430  431\n",
      "  432  434  435  436  437  439  440  441  442  443  444  445  447  448\n",
      "  449  450  452  453  454  455  456  457  459  461  462  463  464  465\n",
      "  466  467  469  470  472  473  474  475  476  478  480  481  482  483\n",
      "  484  485  486  487  488  489  490  491  492  493  494  495  496  497\n",
      "  498  499  500  501  502  503  504  506  507  508  509  510  511  512\n",
      "  513  514  515  516  517  518  519  520  521  522  523  524  525  527\n",
      "  528  529  530  531  532  533  536  537  538  539  540  542  543  544\n",
      "  545  546  547  548  550  552  553  554  555  556  557  558  559  561\n",
      "  562  563  564  565  567  568  569  570  571  572  573  574  575  578\n",
      "  579  580  581  582  583  584  585  586  588  590  591  592  593  594\n",
      "  595  596  597  598  599  600  601  602  604  605  606  607  608  609\n",
      "  610  611  613  614  616  617  618  619  620  621  622  623  625  626\n",
      "  628  631  632  633  634  636  637  638  639  640  641  642  643  644\n",
      "  645  646  647  648  649  650  651  652  653  654  655  656  657  659\n",
      "  660  662  663  664  665  666  667  668  669  670  672  673  674  675\n",
      "  676  677  678  679  680  681  682  683  684  685  688  689  691  692\n",
      "  693  694  695  696  697  698  700  703  704  705  706  709  710  711\n",
      "  712  713  714  715  716  717  718  719  720  723  724  725  726  727\n",
      "  728  729  731  733  734  736  737  738  739  740  741  742  744  745\n",
      "  746  747  748  749  750  752  753  754  756  757  758  760  761  762\n",
      "  763  765  766  767  769  770  771  773  774  775  776  777  778  779\n",
      "  780  781  783  785  786  787  788  789  790  791  792  793  794  795\n",
      "  796  797  798  800  802  803  805  806  807  808  809  811  812  813\n",
      "  814  815  816  817  819  821  822  823  824  825  826  827  828  829\n",
      "  833  834  835  836  838  839  840  841  842  843  844  845  846  847\n",
      "  850  851  852  853  854  855  856  857  859  860  861  862  863  864\n",
      "  865  866  867  868  869  870  872  873  874  875  877  879  880  881\n",
      "  882  883  885  886  888  889  891  893  894  895  896  897  898  900\n",
      "  901  902  903  904  905  906  908  909  910  912  913  915  916  918\n",
      "  919  920  921  922  924  925  926  928  929  930  931  932  933  934\n",
      "  935  936  937  938  940  941  943  944  946  948  949  950  951  955\n",
      "  956  957  958  959  961  965  966  967  968  969  970  972  973  974\n",
      "  975  977  980  981  983  984  985  986  987  989  990  991  992  993\n",
      "  994  996  997  998  999 1000 1001 1002 1003 1004 1005 1007 1009 1010\n",
      " 1011 1012 1013 1014 1015 1016 1018 1019 1021 1022 1023 1024 1025 1026\n",
      " 1027 1031 1032 1033 1034 1036 1037 1038 1039 1040 1042 1043 1044 1046\n",
      " 1050 1051 1052 1053 1054 1055 1058 1059 1060 1061 1062 1063 1064 1066\n",
      " 1067 1068 1069 1070 1073 1074 1075 1076 1078 1079] TEST: [   2   10   12   14   16   21   27   36   37   43   45   50   53   56\n",
      "   57   60   64   67   73   81   85   86   92   93   98  105  107  108\n",
      "  109  117  122  123  127  128  129  133  136  138  139  152  156  160\n",
      "  163  164  167  168  174  179  193  194  212  214  218  225  230  243\n",
      "  244  249  255  257  258  263  272  274  277  279  280  282  289  303\n",
      "  304  306  313  314  315  322  324  327  334  344  347  350  352  362\n",
      "  376  379  380  381  392  400  403  406  410  411  412  413  433  438\n",
      "  446  451  458  460  468  471  477  479  505  526  534  535  541  549\n",
      "  551  560  566  576  577  587  589  603  612  615  624  627  629  630\n",
      "  635  658  661  671  686  687  690  699  701  702  707  708  721  722\n",
      "  730  732  735  743  751  755  759  764  768  772  782  784  799  801\n",
      "  804  810  818  820  830  831  832  837  848  849  858  871  876  878\n",
      "  884  887  890  892  899  907  911  914  917  923  927  939  942  945\n",
      "  947  952  953  954  960  962  963  964  971  976  978  979  982  988\n",
      "  995 1006 1008 1017 1020 1028 1029 1030 1035 1041 1045 1047 1048 1049\n",
      " 1056 1057 1065 1071 1072 1077]\n",
      "TRAIN: [   0    2    4    5    6    7    9   10   11   12   13   14   15   16\n",
      "   17   18   20   21   22   23   26   27   29   30   31   34   35   36\n",
      "   37   38   39   40   41   42   43   44   45   46   47   48   49   50\n",
      "   51   52   53   54   55   56   57   59   60   61   63   64   65   66\n",
      "   67   68   69   70   73   74   75   76   77   78   79   80   81   82\n",
      "   83   84   85   86   87   89   91   92   93   94   95   96   98   99\n",
      "  100  101  103  105  107  108  109  110  112  114  115  117  118  119\n",
      "  120  122  123  124  125  126  127  128  129  131  133  134  135  136\n",
      "  137  138  139  140  141  143  144  145  150  151  152  153  154  155\n",
      "  156  157  159  160  161  162  163  164  166  167  168  169  170  171\n",
      "  172  173  174  175  176  177  178  179  181  182  183  184  185  187\n",
      "  188  191  192  193  194  195  199  200  201  202  204  207  208  209\n",
      "  211  212  214  215  217  218  220  221  222  223  225  226  228  230\n",
      "  231  232  235  236  237  238  239  242  243  244  245  247  248  249\n",
      "  250  252  253  255  256  257  258  259  260  262  263  265  266  267\n",
      "  268  269  270  271  272  273  274  275  277  279  280  282  283  284\n",
      "  285  286  288  289  290  292  293  294  295  297  298  299  301  302\n",
      "  303  304  305  306  307  308  309  310  311  312  313  314  315  316\n",
      "  317  320  321  322  323  324  325  326  327  328  329  332  333  334\n",
      "  335  337  338  339  340  342  343  344  345  347  349  350  352  353\n",
      "  354  356  357  358  360  361  362  363  365  366  367  368  371  373\n",
      "  374  376  377  378  379  380  381  382  383  384  385  387  388  389\n",
      "  390  391  392  393  394  395  396  397  398  399  400  401  402  403\n",
      "  405  406  407  408  409  410  411  412  413  414  415  416  417  422\n",
      "  423  424  425  426  427  428  429  430  432  433  435  436  437  438\n",
      "  439  440  441  442  443  444  445  446  447  449  450  451  455  457\n",
      "  458  459  460  461  462  463  466  467  468  469  470  471  472  473\n",
      "  474  475  476  477  479  480  481  482  483  484  485  486  487  488\n",
      "  489  490  491  492  493  494  495  496  499  501  502  504  505  506\n",
      "  507  508  509  510  511  512  514  515  516  518  520  522  523  524\n",
      "  525  526  527  528  529  532  534  535  536  538  541  542  543  544\n",
      "  545  546  547  548  549  551  552  553  554  555  556  557  559  560\n",
      "  561  563  564  566  567  568  569  570  571  573  574  575  576  577\n",
      "  579  580  581  582  584  586  587  589  590  592  593  594  595  596\n",
      "  598  599  600  601  602  603  604  606  608  609  610  611  612  613\n",
      "  614  615  616  617  618  621  624  625  626  627  628  629  630  631\n",
      "  634  635  638  639  640  641  643  644  645  647  648  649  650  651\n",
      "  652  653  655  656  657  658  659  660  661  663  664  665  667  668\n",
      "  669  671  672  673  676  677  681  683  685  686  687  688  689  690\n",
      "  692  695  696  697  699  700  701  702  703  704  705  706  707  708\n",
      "  709  710  711  712  713  715  716  717  718  721  722  723  724  726\n",
      "  727  728  730  732  734  735  738  739  740  743  744  745  746  747\n",
      "  748  749  751  753  754  755  756  757  759  760  762  763  764  765\n",
      "  766  767  768  770  771  772  774  775  776  777  778  779  780  781\n",
      "  782  783  784  785  787  788  789  790  791  792  794  796  797  799\n",
      "  801  802  803  804  805  806  808  809  810  812  813  814  816  817\n",
      "  818  819  820  823  825  827  828  829  830  831  832  833  835  836\n",
      "  837  838  839  840  841  843  844  845  846  848  849  850  851  852\n",
      "  853  854  855  856  857  858  859  860  861  862  863  865  866  867\n",
      "  868  869  870  871  873  874  876  877  878  879  880  882  883  884\n",
      "  886  887  889  890  891  892  893  894  896  897  899  900  902  903\n",
      "  904  905  906  907  908  909  910  911  913  914  915  916  917  918\n",
      "  919  920  921  922  923  924  925  927  928  929  931  932  933  934\n",
      "  935  937  938  939  941  942  943  944  945  946  947  948  949  950\n",
      "  951  952  953  954  955  956  957  958  959  960  961  962  963  964\n",
      "  965  967  968  969  970  971  972  973  975  976  977  978  979  980\n",
      "  981  982  984  985  987  988  989  990  991  992  993  994  995  996\n",
      "  997  998  999 1000 1002 1003 1005 1006 1007 1008 1009 1010 1013 1014\n",
      " 1015 1016 1017 1019 1020 1021 1023 1024 1025 1026 1028 1029 1030 1032\n",
      " 1033 1034 1035 1036 1037 1038 1039 1041 1043 1044 1045 1047 1048 1049\n",
      " 1050 1051 1052 1053 1055 1056 1057 1058 1060 1061 1063 1064 1065 1066\n",
      " 1067 1068 1069 1070 1071 1072 1074 1077 1078 1079] TEST: [   1    3    8   19   24   25   28   32   33   58   62   71   72   88\n",
      "   90   97  102  104  106  111  113  116  121  130  132  142  146  147\n",
      "  148  149  158  165  180  186  189  190  196  197  198  203  205  206\n",
      "  210  213  216  219  224  227  229  233  234  240  241  246  251  254\n",
      "  261  264  276  278  281  287  291  296  300  318  319  330  331  336\n",
      "  341  346  348  351  355  359  364  369  370  372  375  386  404  418\n",
      "  419  420  421  431  434  448  452  453  454  456  464  465  478  497\n",
      "  498  500  503  513  517  519  521  530  531  533  537  539  540  550\n",
      "  558  562  565  572  578  583  585  588  591  597  605  607  619  620\n",
      "  622  623  632  633  636  637  642  646  654  662  666  670  674  675\n",
      "  678  679  680  682  684  691  693  694  698  714  719  720  725  729\n",
      "  731  733  736  737  741  742  750  752  758  761  769  773  786  793\n",
      "  795  798  800  807  811  815  821  822  824  826  834  842  847  864\n",
      "  872  875  881  885  888  895  898  901  912  926  930  936  940  966\n",
      "  974  983  986 1001 1004 1011 1012 1018 1022 1027 1031 1040 1042 1046\n",
      " 1054 1059 1062 1073 1075 1076]\n",
      "TRAIN: [   1    2    3    4    5    6    8   10   12   13   14   15   16   17\n",
      "   18   19   21   22   23   24   25   27   28   30   31   32   33   34\n",
      "   35   36   37   40   41   42   43   44   45   46   47   48   49   50\n",
      "   51   52   53   54   56   57   58   60   61   62   63   64   65   66\n",
      "   67   68   69   70   71   72   73   74   75   76   77   79   81   82\n",
      "   85   86   88   90   91   92   93   94   95   96   97   98   99  101\n",
      "  102  104  105  106  107  108  109  110  111  112  113  115  116  117\n",
      "  121  122  123  127  128  129  130  131  132  133  134  135  136  137\n",
      "  138  139  142  143  144  145  146  147  148  149  151  152  153  154\n",
      "  156  157  158  160  163  164  165  166  167  168  169  171  172  173\n",
      "  174  175  178  179  180  184  186  187  188  189  190  191  192  193\n",
      "  194  195  196  197  198  200  201  202  203  204  205  206  207  208\n",
      "  210  211  212  213  214  216  218  219  220  222  224  225  227  228\n",
      "  229  230  231  232  233  234  235  237  238  239  240  241  242  243\n",
      "  244  246  248  249  250  251  252  253  254  255  257  258  260  261\n",
      "  262  263  264  265  266  267  269  270  272  273  274  275  276  277\n",
      "  278  279  280  281  282  283  286  287  289  290  291  292  293  294\n",
      "  295  296  297  298  300  301  302  303  304  306  309  310  312  313\n",
      "  314  315  318  319  320  321  322  323  324  325  326  327  329  330\n",
      "  331  332  333  334  335  336  337  338  339  340  341  342  344  345\n",
      "  346  347  348  349  350  351  352  355  358  359  361  362  364  365\n",
      "  366  367  368  369  370  371  372  374  375  376  379  380  381  382\n",
      "  385  386  389  390  391  392  394  395  396  397  398  399  400  401\n",
      "  402  403  404  406  409  410  411  412  413  415  416  417  418  419\n",
      "  420  421  423  424  425  426  428  430  431  432  433  434  435  437\n",
      "  438  440  441  442  443  444  446  448  450  451  452  453  454  455\n",
      "  456  457  458  459  460  461  462  463  464  465  466  467  468  469\n",
      "  470  471  473  474  477  478  479  485  486  487  488  490  491  493\n",
      "  495  497  498  500  501  503  504  505  506  511  512  513  514  515\n",
      "  517  518  519  520  521  522  524  525  526  527  528  529  530  531\n",
      "  533  534  535  537  538  539  540  541  543  544  545  546  547  548\n",
      "  549  550  551  553  554  555  556  558  560  562  563  564  565  566\n",
      "  569  570  571  572  573  574  576  577  578  579  580  583  584  585\n",
      "  587  588  589  590  591  592  593  594  595  597  598  599  600  601\n",
      "  602  603  604  605  607  608  612  613  615  617  618  619  620  622\n",
      "  623  624  625  626  627  628  629  630  631  632  633  634  635  636\n",
      "  637  641  642  643  644  646  648  652  653  654  655  656  657  658\n",
      "  659  660  661  662  665  666  667  668  670  671  674  675  677  678\n",
      "  679  680  682  683  684  685  686  687  689  690  691  693  694  695\n",
      "  697  698  699  700  701  702  703  704  705  706  707  708  710  712\n",
      "  713  714  716  717  719  720  721  722  724  725  726  727  728  729\n",
      "  730  731  732  733  734  735  736  737  741  742  743  744  746  747\n",
      "  749  750  751  752  753  754  755  757  758  759  760  761  763  764\n",
      "  765  766  768  769  770  772  773  774  776  778  779  781  782  784\n",
      "  785  786  787  788  789  790  791  793  794  795  797  798  799  800\n",
      "  801  803  804  805  806  807  808  809  810  811  812  813  814  815\n",
      "  816  817  818  819  820  821  822  824  825  826  827  828  829  830\n",
      "  831  832  833  834  836  837  838  839  840  841  842  843  844  845\n",
      "  847  848  849  850  853  854  855  857  858  859  860  861  862  863\n",
      "  864  865  866  868  869  870  871  872  873  874  875  876  877  878\n",
      "  879  880  881  882  883  884  885  886  887  888  889  890  891  892\n",
      "  894  895  896  898  899  900  901  902  904  905  906  907  908  909\n",
      "  910  911  912  913  914  917  919  920  921  922  923  926  927  929\n",
      "  930  931  932  933  934  936  939  940  942  944  945  947  948  949\n",
      "  950  951  952  953  954  956  958  959  960  961  962  963  964  965\n",
      "  966  967  968  969  971  972  973  974  975  976  978  979  981  982\n",
      "  983  984  986  987  988  990  991  992  994  995  996  997 1001 1002\n",
      " 1003 1004 1005 1006 1008 1009 1011 1012 1013 1015 1016 1017 1018 1019\n",
      " 1020 1022 1024 1025 1026 1027 1028 1029 1030 1031 1032 1033 1034 1035\n",
      " 1036 1039 1040 1041 1042 1043 1044 1045 1046 1047 1048 1049 1050 1052\n",
      " 1053 1054 1055 1056 1057 1059 1060 1061 1062 1063 1064 1065 1066 1067\n",
      " 1070 1071 1072 1073 1074 1075 1076 1077 1078 1079] TEST: [   0    7    9   11   20   26   29   38   39   55   59   78   80   83\n",
      "   84   87   89  100  103  114  118  119  120  124  125  126  140  141\n",
      "  150  155  159  161  162  170  176  177  181  182  183  185  199  209\n",
      "  215  217  221  223  226  236  245  247  256  259  268  271  284  285\n",
      "  288  299  305  307  308  311  316  317  328  343  353  354  356  357\n",
      "  360  363  373  377  378  383  384  387  388  393  405  407  408  414\n",
      "  422  427  429  436  439  445  447  449  472  475  476  480  481  482\n",
      "  483  484  489  492  494  496  499  502  507  508  509  510  516  523\n",
      "  532  536  542  552  557  559  561  567  568  575  581  582  586  596\n",
      "  606  609  610  611  614  616  621  638  639  640  645  647  649  650\n",
      "  651  663  664  669  672  673  676  681  688  692  696  709  711  715\n",
      "  718  723  738  739  740  745  748  756  762  767  771  775  777  780\n",
      "  783  792  796  802  823  835  846  851  852  856  867  893  897  903\n",
      "  915  916  918  924  925  928  935  937  938  941  943  946  955  957\n",
      "  970  977  980  985  989  993  998  999 1000 1007 1010 1014 1021 1023\n",
      " 1037 1038 1051 1058 1068 1069]\n"
     ]
    }
   ],
   "source": [
    "#Splitting the feature and the target columns into train and test data and printing their index\n",
    "for train_index, test_index in kf.split(protein_feature):\n",
    " \n",
    "    print(\"TRAIN:\", train_index, \"TEST:\", test_index)\n",
    " \n",
    "    X_train, X_test = protein_feature.iloc[train_index], protein_feature.iloc[test_index]\n",
    " \n",
    "    y_train, y_test = class_data.iloc[train_index], class_data.iloc[test_index]\n"
   ]
  },
  {
   "cell_type": "code",
   "execution_count": 81,
   "metadata": {},
   "outputs": [
    {
     "name": "stdout",
     "output_type": "stream",
     "text": [
      "[fold 0] score: 0.70833\n",
      "[fold 1] score: 0.63889\n",
      "[fold 2] score: 0.59722\n",
      "[fold 3] score: 0.53704\n",
      "[fold 4] score: 0.59722\n"
     ]
    }
   ],
   "source": [
    "#Calculating the accuracy score of all the kfold models\n",
    "for k, (train_index, test_index) in enumerate(kf.split(protein_feature)):\n",
    " \n",
    "    X_train, X_test = protein_feature.iloc[train_index], protein_feature.iloc[test_index]\n",
    "    y_train, y_test = class_data.iloc[train_index], class_data.iloc[test_index]\n",
    " \n",
    "    clf.fit(X_train, y_train)\n",
    "    print(\"[fold {0}] score: {1:.5f}\".format(k, clf.score(X_test, y_test))) "
   ]
  },
  {
   "cell_type": "code",
   "execution_count": 82,
   "metadata": {},
   "outputs": [
    {
     "data": {
      "text/plain": [
       "(1080, 12)"
      ]
     },
     "execution_count": 82,
     "metadata": {},
     "output_type": "execute_result"
    }
   ],
   "source": [
    "protein_feature.shape"
   ]
  },
  {
   "cell_type": "code",
   "execution_count": 83,
   "metadata": {},
   "outputs": [],
   "source": [
    "#Importing KNeighborsClassifier\n",
    "from sklearn.neighbors import KNeighborsClassifier"
   ]
  },
  {
   "cell_type": "code",
   "execution_count": 84,
   "metadata": {},
   "outputs": [],
   "source": [
    "#Splitting the feature and target data into train and test data \n",
    "X_train,X_test,y_train,y_test=train_test_split(protein_feature,class_data,test_size=0.20,random_state=0) #43 features"
   ]
  },
  {
   "cell_type": "code",
   "execution_count": 85,
   "metadata": {},
   "outputs": [
    {
     "data": {
      "text/plain": [
       "(864, 12)"
      ]
     },
     "execution_count": 85,
     "metadata": {},
     "output_type": "execute_result"
    }
   ],
   "source": [
    "#Size and dimension of the X train data \n",
    "X_train.shape"
   ]
  },
  {
   "cell_type": "code",
   "execution_count": 86,
   "metadata": {},
   "outputs": [
    {
     "data": {
      "text/plain": [
       "(864,)"
      ]
     },
     "execution_count": 86,
     "metadata": {},
     "output_type": "execute_result"
    }
   ],
   "source": [
    "#Size and dimension of the y train data \n",
    "y_train.shape"
   ]
  },
  {
   "cell_type": "code",
   "execution_count": 87,
   "metadata": {},
   "outputs": [
    {
     "data": {
      "text/plain": [
       "(216, 12)"
      ]
     },
     "execution_count": 87,
     "metadata": {},
     "output_type": "execute_result"
    }
   ],
   "source": [
    "#Size and dimension of the X test data \n",
    "X_test.shape"
   ]
  },
  {
   "cell_type": "code",
   "execution_count": 88,
   "metadata": {},
   "outputs": [
    {
     "data": {
      "text/plain": [
       "(216,)"
      ]
     },
     "execution_count": 88,
     "metadata": {},
     "output_type": "execute_result"
    }
   ],
   "source": [
    "#Size and dimension of the y test data \n",
    "y_test.shape"
   ]
  },
  {
   "cell_type": "code",
   "execution_count": 89,
   "metadata": {},
   "outputs": [],
   "source": [
    "#Fitting the train data to KNeighbors classifier with weight parameters and p value in order to increase the accuracy score of model\n",
    "clf_1 =KNeighborsClassifier(3, weights='distance', p=1)\n",
    "fit =clf_1.fit(X_train,y_train)"
   ]
  },
  {
   "cell_type": "code",
   "execution_count": 90,
   "metadata": {},
   "outputs": [
    {
     "data": {
      "text/plain": [
       "array(['t-CS-s', 't-CS-s', 't-CS-m', 'c-SC-s', 't-CS-s', 't-SC-s',\n",
       "       't-SC-s', 'c-SC-m', 'c-SC-s', 'c-SC-s', 't-CS-s', 't-CS-m',\n",
       "       'c-SC-s', 't-SC-s', 't-CS-m', 'c-SC-s', 'c-CS-s', 'c-SC-s',\n",
       "       'c-SC-s', 'c-SC-s', 't-CS-s', 'c-SC-m', 'c-SC-m', 't-SC-m',\n",
       "       'c-CS-m', 'c-CS-m', 'c-SC-s', 'c-CS-s', 't-SC-m', 't-CS-s',\n",
       "       'c-SC-m', 't-SC-s', 'c-SC-m', 't-CS-m', 't-CS-s', 't-CS-m',\n",
       "       'c-CS-m', 'c-CS-m', 't-SC-m', 'c-SC-s', 'c-CS-s', 'c-CS-s',\n",
       "       'c-CS-m', 't-SC-m', 'c-SC-m', 't-CS-s', 't-CS-m', 't-SC-m',\n",
       "       't-CS-m', 't-SC-m', 't-CS-m', 'c-CS-m', 'c-SC-s', 'c-SC-m',\n",
       "       't-CS-s', 't-CS-m', 'c-CS-m', 'c-CS-m', 'c-SC-s', 'c-SC-s',\n",
       "       'c-SC-m', 'c-SC-m', 'c-CS-s', 'c-SC-s', 't-SC-m', 't-CS-s',\n",
       "       'c-SC-m', 'c-CS-s', 'c-CS-s', 't-SC-s', 't-SC-s', 't-SC-s',\n",
       "       'c-CS-m', 't-CS-s', 'c-CS-m', 'c-CS-s', 'c-SC-m', 'c-CS-s',\n",
       "       't-SC-m', 'c-SC-s', 't-SC-s', 'c-SC-m', 't-SC-s', 'c-CS-m',\n",
       "       't-CS-m', 't-SC-s', 't-SC-s', 't-CS-m', 'c-CS-s', 'c-SC-s',\n",
       "       't-CS-m', 'c-SC-m', 't-SC-s', 't-SC-m', 't-CS-m', 't-CS-m',\n",
       "       't-SC-m', 'c-CS-s', 'c-CS-m', 'c-SC-s', 'c-CS-m', 't-CS-s',\n",
       "       't-CS-m', 'c-CS-s', 'c-SC-s', 'c-CS-m', 'c-CS-m', 't-CS-s',\n",
       "       'c-SC-m', 'c-SC-s', 't-SC-s', 'c-CS-m', 'c-CS-m', 'c-SC-s',\n",
       "       't-SC-m', 'c-SC-s', 't-SC-s', 't-CS-s', 't-CS-m', 'c-SC-s',\n",
       "       'c-CS-s', 'c-SC-m', 't-SC-m', 'c-SC-s', 'c-SC-m', 'c-CS-m',\n",
       "       'c-SC-m', 'c-CS-s', 'c-CS-m', 't-CS-m', 'c-SC-m', 't-CS-m',\n",
       "       't-SC-m', 'c-SC-m', 't-CS-m', 'c-CS-s', 't-SC-m', 't-SC-m',\n",
       "       't-SC-s', 'c-SC-m', 'c-SC-m', 'c-SC-s', 'c-SC-m', 'c-CS-s',\n",
       "       'c-CS-m', 'c-CS-s', 't-CS-m', 'c-CS-m', 't-CS-m', 'c-CS-m',\n",
       "       'c-SC-s', 't-SC-s', 't-CS-s', 't-SC-m', 't-CS-m', 'c-SC-m',\n",
       "       'c-CS-s', 't-CS-m', 't-CS-m', 'c-SC-m', 't-SC-s', 't-CS-s',\n",
       "       'c-SC-s', 't-SC-m', 'c-CS-s', 'c-CS-s', 't-CS-s', 't-CS-s',\n",
       "       't-CS-m', 't-CS-m', 't-SC-m', 't-CS-s', 't-CS-m', 't-CS-s',\n",
       "       'c-SC-s', 'c-SC-m', 'c-CS-m', 't-SC-s', 'c-CS-s', 't-CS-m',\n",
       "       't-SC-s', 't-CS-m', 't-CS-s', 't-CS-s', 't-CS-m', 'c-SC-s',\n",
       "       't-SC-m', 't-SC-s', 'c-SC-m', 't-CS-s', 't-CS-s', 'c-SC-m',\n",
       "       'c-CS-m', 't-SC-s', 't-CS-s', 't-SC-s', 't-CS-s', 't-SC-s',\n",
       "       'c-CS-s', 't-SC-s', 't-SC-s', 't-SC-m', 'c-SC-s', 'c-CS-s',\n",
       "       't-SC-m', 'c-CS-s', 't-SC-m', 'c-SC-s', 't-CS-m', 't-CS-m',\n",
       "       't-CS-s', 't-CS-s', 'c-CS-m', 't-CS-s', 'c-SC-s', 'c-SC-m'],\n",
       "      dtype=object)"
      ]
     },
     "execution_count": 90,
     "metadata": {},
     "output_type": "execute_result"
    }
   ],
   "source": [
    "#Predicting the unseen test data \n",
    "y_pre_1=fit.predict(X_test)\n",
    "y_pre_1"
   ]
  },
  {
   "cell_type": "code",
   "execution_count": 91,
   "metadata": {},
   "outputs": [
    {
     "data": {
      "text/plain": [
       "(216,)"
      ]
     },
     "execution_count": 91,
     "metadata": {},
     "output_type": "execute_result"
    }
   ],
   "source": [
    "#Size and dimension of the unseen test data \n",
    "y_pre_1.shape"
   ]
  },
  {
   "cell_type": "code",
   "execution_count": 92,
   "metadata": {},
   "outputs": [
    {
     "data": {
      "text/plain": [
       "array([[16,  2,  0,  0,  6,  0,  0,  0],\n",
       "       [ 8, 13,  1,  0,  5,  0,  0,  0],\n",
       "       [ 0,  0, 24,  0,  0,  0,  1,  0],\n",
       "       [ 0,  0,  3, 22,  0,  0,  6,  0],\n",
       "       [ 0, 12,  0,  0, 20,  0,  0,  0],\n",
       "       [ 3,  7,  0,  0,  6, 11,  0,  0],\n",
       "       [ 0,  0,  7,  1,  0,  0, 16,  0],\n",
       "       [ 3,  1,  0,  0,  0,  0,  0, 22]], dtype=int64)"
      ]
     },
     "execution_count": 92,
     "metadata": {},
     "output_type": "execute_result"
    }
   ],
   "source": [
    "#confusion matrix of the KNN model\n",
    "cm_1=confusion_matrix(y_test,y_pre)\n",
    "cm_1"
   ]
  },
  {
   "cell_type": "code",
   "execution_count": 93,
   "metadata": {},
   "outputs": [
    {
     "name": "stdout",
     "output_type": "stream",
     "text": [
      "              precision    recall  f1-score   support\n",
      "\n",
      "      c-CS-m       0.92      0.96      0.94        24\n",
      "      c-CS-s       1.00      0.89      0.94        27\n",
      "      c-SC-m       0.86      0.96      0.91        25\n",
      "      c-SC-s       1.00      1.00      1.00        31\n",
      "      t-CS-m       0.94      0.94      0.94        32\n",
      "      t-CS-s       0.90      0.96      0.93        27\n",
      "      t-SC-m       0.95      0.88      0.91        24\n",
      "      t-SC-s       1.00      0.96      0.98        26\n",
      "\n",
      "    accuracy                           0.94       216\n",
      "   macro avg       0.95      0.94      0.94       216\n",
      "weighted avg       0.95      0.94      0.94       216\n",
      "\n"
     ]
    }
   ],
   "source": [
    "#classification report of the KNN model\n",
    "print(classification_report(y_test,y_pre_1)) "
   ]
  },
  {
   "cell_type": "code",
   "execution_count": 94,
   "metadata": {},
   "outputs": [
    {
     "data": {
      "text/plain": [
       "0.9444444444444444"
      ]
     },
     "execution_count": 94,
     "metadata": {},
     "output_type": "execute_result"
    }
   ],
   "source": [
    "#Accuracy of KNN model\n",
    "accuracy_score(y_test,y_pre_1)"
   ]
  },
  {
   "cell_type": "code",
   "execution_count": 95,
   "metadata": {},
   "outputs": [
    {
     "name": "stdout",
     "output_type": "stream",
     "text": [
      "[Train/test split] score: 0.94444\n"
     ]
    }
   ],
   "source": [
    "print(\"[Train/test split] score: {:.5f}\".format(clf_1.score(X_test, y_test)))"
   ]
  },
  {
   "cell_type": "code",
   "execution_count": 96,
   "metadata": {},
   "outputs": [],
   "source": [
    "# validating the above accuracy score with the kfold accuracy scores \n",
    "kf=KFold(n_splits=5,shuffle =True)"
   ]
  },
  {
   "cell_type": "code",
   "execution_count": 97,
   "metadata": {},
   "outputs": [
    {
     "name": "stdout",
     "output_type": "stream",
     "text": [
      "TRAIN: [   0    1    4    5    6    7    8    9   11   13   14   15   16   18\n",
      "   19   20   21   22   23   24   25   26   27   28   31   33   34   35\n",
      "   36   37   38   39   40   41   43   44   45   46   47   48   50   52\n",
      "   53   54   55   56   57   58   59   60   61   62   63   64   65   66\n",
      "   67   68   69   70   72   73   74   75   76   77   78   79   80   81\n",
      "   82   83   84   85   86   87   88   90   91   92   93   96   97   98\n",
      "  100  101  102  103  104  105  107  110  111  112  113  115  116  117\n",
      "  118  119  120  121  122  124  125  126  127  129  130  131  132  133\n",
      "  135  136  137  139  140  141  142  143  144  146  151  152  153  154\n",
      "  155  156  158  159  160  161  162  164  165  166  167  169  170  171\n",
      "  172  173  174  175  176  178  179  180  181  182  184  185  186  187\n",
      "  188  189  190  191  192  193  194  196  198  199  200  201  203  204\n",
      "  205  206  207  210  211  212  214  215  217  218  219  220  222  223\n",
      "  225  226  227  228  229  230  231  232  233  234  235  237  238  239\n",
      "  240  241  242  243  244  245  246  247  248  249  250  251  252  253\n",
      "  254  255  256  257  258  259  260  262  263  264  265  266  267  268\n",
      "  269  270  272  273  274  275  276  279  281  283  288  289  290  294\n",
      "  295  297  298  299  300  301  302  303  305  306  307  308  310  311\n",
      "  312  313  314  315  316  317  318  319  320  321  322  323  324  325\n",
      "  326  327  328  330  331  332  333  335  336  337  339  341  342  343\n",
      "  345  347  348  350  352  353  355  358  359  360  361  362  363  364\n",
      "  365  366  368  370  371  372  373  374  375  376  377  378  379  381\n",
      "  383  387  388  389  390  391  393  395  397  398  400  401  403  404\n",
      "  406  408  409  410  411  413  414  415  416  418  419  420  422  423\n",
      "  425  426  428  430  431  434  435  436  437  438  439  440  441  442\n",
      "  443  444  446  447  449  450  451  452  453  454  455  457  458  459\n",
      "  460  461  462  463  465  466  467  468  469  470  471  472  473  474\n",
      "  476  478  479  480  481  482  483  484  486  487  489  490  492  493\n",
      "  494  495  497  498  499  500  501  503  504  505  506  508  510  511\n",
      "  512  513  514  515  516  517  518  520  521  522  524  525  526  527\n",
      "  529  530  531  534  535  536  537  538  539  540  541  542  543  544\n",
      "  546  548  549  550  551  552  553  555  557  558  559  561  562  563\n",
      "  564  565  566  567  568  569  570  572  573  575  576  577  578  579\n",
      "  580  582  584  585  586  587  588  589  590  591  593  594  595  596\n",
      "  599  600  601  602  603  605  606  607  608  609  612  613  614  617\n",
      "  618  620  621  622  623  624  625  627  628  630  632  634  635  636\n",
      "  637  639  640  641  643  644  645  646  647  648  649  652  654  655\n",
      "  656  657  658  659  661  662  665  668  669  670  671  673  674  675\n",
      "  676  677  678  680  681  682  683  684  686  687  688  689  690  691\n",
      "  692  693  694  695  696  697  700  701  702  703  704  705  706  707\n",
      "  708  709  710  711  713  714  715  717  719  720  721  722  723  725\n",
      "  726  727  728  729  730  731  732  733  735  737  739  740  742  744\n",
      "  745  746  747  748  749  750  751  752  753  754  756  757  758  759\n",
      "  760  761  765  766  767  768  769  770  771  772  773  774  775  777\n",
      "  778  779  780  781  782  784  785  786  787  788  789  790  791  792\n",
      "  793  794  795  797  798  799  800  801  802  803  804  807  808  809\n",
      "  810  812  813  814  816  817  818  819  820  821  822  823  824  825\n",
      "  826  827  828  829  831  832  833  834  835  836  838  840  841  842\n",
      "  843  844  845  846  847  848  849  850  851  852  853  854  855  856\n",
      "  857  858  859  860  861  863  865  866  867  868  869  870  871  872\n",
      "  873  875  876  877  879  880  881  883  884  885  887  888  889  890\n",
      "  891  892  893  894  895  896  897  898  899  900  901  902  904  905\n",
      "  906  907  908  909  910  911  912  913  914  916  917  918  920  921\n",
      "  923  924  929  930  932  933  934  935  936  937  938  939  940  941\n",
      "  942  944  945  946  948  949  950  951  954  955  958  959  960  961\n",
      "  962  963  964  967  968  969  970  971  972  974  975  976  977  978\n",
      "  979  981  983  984  985  986  987  988  990  991  992  993  994  996\n",
      "  997  998 1000 1001 1003 1004 1006 1007 1008 1009 1010 1011 1012 1014\n",
      " 1015 1016 1018 1019 1020 1021 1022 1023 1024 1025 1027 1028 1030 1031\n",
      " 1032 1033 1034 1035 1036 1037 1038 1041 1042 1044 1045 1046 1047 1048\n",
      " 1050 1051 1052 1053 1055 1056 1058 1059 1060 1061 1062 1063 1064 1065\n",
      " 1066 1067 1068 1070 1071 1072 1073 1074 1078 1079] TEST: [   2    3   10   12   17   29   30   32   42   49   51   71   89   94\n",
      "   95   99  106  108  109  114  123  128  134  138  145  147  148  149\n",
      "  150  157  163  168  177  183  195  197  202  208  209  213  216  221\n",
      "  224  236  261  271  277  278  280  282  284  285  286  287  291  292\n",
      "  293  296  304  309  329  334  338  340  344  346  349  351  354  356\n",
      "  357  367  369  380  382  384  385  386  392  394  396  399  402  405\n",
      "  407  412  417  421  424  427  429  432  433  445  448  456  464  475\n",
      "  477  485  488  491  496  502  507  509  519  523  528  532  533  545\n",
      "  547  554  556  560  571  574  581  583  592  597  598  604  610  611\n",
      "  615  616  619  626  629  631  633  638  642  650  651  653  660  663\n",
      "  664  666  667  672  679  685  698  699  712  716  718  724  734  736\n",
      "  738  741  743  755  762  763  764  776  783  796  805  806  811  815\n",
      "  830  837  839  862  864  874  878  882  886  903  915  919  922  925\n",
      "  926  927  928  931  943  947  952  953  956  957  965  966  973  980\n",
      "  982  989  995  999 1002 1005 1013 1017 1026 1029 1039 1040 1043 1049\n",
      " 1054 1057 1069 1075 1076 1077]\n",
      "TRAIN: [   0    1    2    3    4    5    6    7    8    9   10   11   12   14\n",
      "   15   17   18   19   20   21   23   24   25   26   27   28   29   30\n",
      "   32   33   34   36   38   39   40   41   42   44   45   46   47   48\n",
      "   49   50   51   52   54   55   56   57   58   60   61   62   63   64\n",
      "   66   67   68   69   71   72   73   75   76   78   79   80   81   82\n",
      "   83   85   86   87   89   92   93   94   95   97   98   99  100  101\n",
      "  102  103  104  105  106  107  108  109  110  111  112  113  114  115\n",
      "  117  119  120  121  123  126  128  129  130  131  132  134  135  137\n",
      "  138  139  140  141  143  144  145  146  147  148  149  150  151  153\n",
      "  154  155  156  157  158  159  160  161  162  163  164  165  166  168\n",
      "  169  170  171  172  173  174  175  177  179  180  181  183  184  185\n",
      "  186  187  188  189  190  191  193  194  195  196  197  198  199  200\n",
      "  201  202  203  204  205  206  208  209  210  211  212  213  214  215\n",
      "  216  217  218  219  220  221  222  224  226  227  229  230  232  234\n",
      "  235  236  237  238  239  240  241  242  243  244  245  248  249  250\n",
      "  251  252  253  254  255  256  257  258  259  260  261  262  264  267\n",
      "  268  269  270  271  273  274  276  277  278  279  280  281  282  283\n",
      "  284  285  286  287  288  289  290  291  292  293  294  295  296  297\n",
      "  299  301  302  303  304  305  306  307  308  309  310  311  312  313\n",
      "  314  316  317  319  321  322  323  324  325  326  327  328  329  331\n",
      "  332  334  335  337  338  339  340  343  344  346  349  351  353  354\n",
      "  356  357  358  359  360  361  362  364  365  366  367  368  369  372\n",
      "  373  374  379  380  381  382  383  384  385  386  387  388  389  390\n",
      "  391  392  394  396  397  398  399  400  402  403  405  406  407  408\n",
      "  410  412  413  415  416  417  418  419  421  422  423  424  425  426\n",
      "  427  428  429  430  431  432  433  435  436  437  438  440  441  443\n",
      "  444  445  446  448  452  455  456  458  460  461  462  463  464  465\n",
      "  466  469  470  471  472  474  475  476  477  478  479  480  481  482\n",
      "  484  485  486  488  490  491  492  494  495  496  497  498  499  500\n",
      "  501  502  505  506  507  508  509  510  513  514  517  518  519  521\n",
      "  522  523  525  526  527  528  529  532  533  534  535  536  539  541\n",
      "  542  543  544  545  546  547  548  549  552  553  554  556  557  559\n",
      "  560  561  564  565  567  568  569  570  571  574  575  576  578  579\n",
      "  580  581  582  583  584  585  587  588  590  591  592  595  596  597\n",
      "  598  599  600  602  603  604  605  606  607  608  610  611  614  615\n",
      "  616  617  618  619  620  624  625  626  627  628  629  630  631  633\n",
      "  634  638  639  640  642  643  644  645  646  647  648  649  650  651\n",
      "  652  653  654  656  657  658  659  660  661  662  663  664  665  666\n",
      "  667  668  669  670  671  672  673  674  675  676  677  678  679  680\n",
      "  681  682  683  684  685  689  691  692  693  695  696  697  698  699\n",
      "  700  703  705  706  707  708  709  710  712  713  715  716  717  718\n",
      "  720  722  723  724  725  727  728  729  733  734  735  736  737  738\n",
      "  739  740  741  743  744  745  746  747  748  749  751  752  754  755\n",
      "  756  758  759  760  761  762  763  764  766  767  768  769  770  771\n",
      "  772  775  776  777  778  779  781  783  784  785  786  787  789  790\n",
      "  791  792  794  795  796  797  798  799  800  801  802  804  805  806\n",
      "  807  808  809  810  811  812  814  815  816  817  818  819  820  821\n",
      "  822  823  824  826  827  828  829  830  832  833  834  835  836  837\n",
      "  838  839  841  842  843  845  846  847  848  849  851  852  854  855\n",
      "  856  857  858  859  860  861  862  863  864  865  867  868  869  870\n",
      "  872  873  874  875  876  877  878  880  881  882  883  886  887  890\n",
      "  892  893  894  895  896  897  898  899  901  902  903  904  905  906\n",
      "  907  909  910  911  912  913  915  916  917  918  919  921  922  923\n",
      "  924  925  926  927  928  929  931  932  933  934  935  936  937  938\n",
      "  942  943  944  945  947  948  949  950  951  952  953  954  955  956\n",
      "  957  958  960  961  965  966  967  969  970  972  973  974  975  976\n",
      "  978  979  980  981  982  984  986  987  988  989  990  993  994  995\n",
      "  998  999 1000 1001 1002 1005 1006 1007 1008 1009 1011 1012 1013 1015\n",
      " 1016 1017 1018 1020 1021 1023 1025 1026 1028 1029 1030 1031 1032 1034\n",
      " 1035 1036 1037 1038 1039 1040 1041 1042 1043 1044 1046 1047 1049 1050\n",
      " 1051 1052 1053 1054 1056 1057 1058 1059 1061 1063 1064 1065 1066 1067\n",
      " 1068 1069 1071 1072 1073 1074 1075 1076 1077 1078] TEST: [  13   16   22   31   35   37   43   53   59   65   70   74   77   84\n",
      "   88   90   91   96  116  118  122  124  125  127  133  136  142  152\n",
      "  167  176  178  182  192  207  223  225  228  231  233  246  247  263\n",
      "  265  266  272  275  298  300  315  318  320  330  333  336  341  342\n",
      "  345  347  348  350  352  355  363  370  371  375  376  377  378  393\n",
      "  395  401  404  409  411  414  420  434  439  442  447  449  450  451\n",
      "  453  454  457  459  467  468  473  483  487  489  493  503  504  511\n",
      "  512  515  516  520  524  530  531  537  538  540  550  551  555  558\n",
      "  562  563  566  572  573  577  586  589  593  594  601  609  612  613\n",
      "  621  622  623  632  635  636  637  641  655  686  687  688  690  694\n",
      "  701  702  704  711  714  719  721  726  730  731  732  742  750  753\n",
      "  757  765  773  774  780  782  788  793  803  813  825  831  840  844\n",
      "  850  853  866  871  879  884  885  888  889  891  900  908  914  920\n",
      "  930  939  940  941  946  959  962  963  964  968  971  977  983  985\n",
      "  991  992  996  997 1003 1004 1010 1014 1019 1022 1024 1027 1033 1045\n",
      " 1048 1055 1060 1062 1070 1079]\n",
      "TRAIN: [   0    1    2    3    4    5    7    8   10   11   12   13   15   16\n",
      "   17   18   22   24   25   26   27   29   30   31   32   33   34   35\n",
      "   36   37   40   41   42   43   44   45   48   49   51   53   58   59\n",
      "   60   63   64   65   66   69   70   71   73   74   77   78   79   81\n",
      "   83   84   86   87   88   89   90   91   92   94   95   96   97   98\n",
      "   99  100  101  102  103  104  105  106  107  108  109  110  111  112\n",
      "  113  114  116  117  118  119  121  122  123  124  125  127  128  130\n",
      "  131  132  133  134  136  137  138  139  141  142  144  145  146  147\n",
      "  148  149  150  152  154  155  156  157  158  160  162  163  164  165\n",
      "  166  167  168  169  171  173  176  177  178  179  181  182  183  185\n",
      "  189  190  192  193  194  195  196  197  198  199  201  202  203  204\n",
      "  206  207  208  209  210  211  212  213  214  215  216  218  220  221\n",
      "  222  223  224  225  226  227  228  229  230  231  233  234  235  236\n",
      "  238  239  240  241  242  244  245  246  247  248  249  250  252  254\n",
      "  255  256  257  259  260  261  262  263  264  265  266  269  270  271\n",
      "  272  273  274  275  276  277  278  280  281  282  284  285  286  287\n",
      "  289  290  291  292  293  294  296  297  298  299  300  302  303  304\n",
      "  306  307  308  309  310  311  315  316  317  318  319  320  323  324\n",
      "  327  329  330  332  333  334  336  337  338  339  340  341  342  344\n",
      "  345  346  347  348  349  350  351  352  354  355  356  357  358  359\n",
      "  362  363  364  367  368  369  370  371  373  375  376  377  378  379\n",
      "  380  381  382  384  385  386  389  390  392  393  394  395  396  397\n",
      "  398  399  401  402  404  405  407  408  409  410  411  412  414  415\n",
      "  416  417  418  420  421  422  423  424  426  427  429  430  431  432\n",
      "  433  434  436  438  439  441  442  443  444  445  446  447  448  449\n",
      "  450  451  452  453  454  456  457  458  459  460  462  463  464  466\n",
      "  467  468  469  470  471  473  474  475  476  477  478  479  480  483\n",
      "  485  486  487  488  489  490  491  492  493  495  496  497  498  499\n",
      "  500  502  503  504  505  506  507  509  510  511  512  513  514  515\n",
      "  516  517  518  519  520  522  523  524  525  527  528  530  531  532\n",
      "  533  534  535  536  537  538  539  540  541  542  543  544  545  547\n",
      "  548  549  550  551  552  554  555  556  558  559  560  562  563  564\n",
      "  565  566  567  568  569  571  572  573  574  575  576  577  579  581\n",
      "  582  583  585  586  588  589  590  591  592  593  594  596  597  598\n",
      "  600  601  602  603  604  606  608  609  610  611  612  613  614  615\n",
      "  616  617  619  620  621  622  623  624  625  626  628  629  630  631\n",
      "  632  633  634  635  636  637  638  639  640  641  642  645  646  649\n",
      "  650  651  652  653  654  655  656  660  661  662  663  664  665  666\n",
      "  667  668  671  672  674  676  678  679  680  683  684  685  686  687\n",
      "  688  690  691  694  696  697  698  699  701  702  703  704  705  706\n",
      "  707  708  709  710  711  712  713  714  715  716  717  718  719  721\n",
      "  723  724  726  728  729  730  731  732  733  734  735  736  737  738\n",
      "  739  740  741  742  743  744  745  747  748  749  750  753  754  755\n",
      "  756  757  758  759  760  761  762  763  764  765  766  768  769  771\n",
      "  772  773  774  775  776  778  779  780  781  782  783  784  785  787\n",
      "  788  789  791  792  793  794  796  797  798  799  800  801  802  803\n",
      "  804  805  806  807  808  809  811  813  814  815  817  818  819  822\n",
      "  823  824  825  827  828  829  830  831  832  834  836  837  838  839\n",
      "  840  842  843  844  849  850  851  852  853  854  855  856  857  858\n",
      "  862  863  864  865  866  867  870  871  873  874  876  877  878  879\n",
      "  880  882  884  885  886  887  888  889  890  891  893  894  896  897\n",
      "  898  899  900  901  903  904  906  907  908  910  912  913  914  915\n",
      "  916  918  919  920  921  922  923  925  926  927  928  929  930  931\n",
      "  936  937  939  940  941  943  944  945  946  947  949  950  951  952\n",
      "  953  954  955  956  957  958  959  961  962  963  964  965  966  968\n",
      "  969  971  973  974  976  977  978  979  980  981  982  983  985  987\n",
      "  988  989  990  991  992  993  994  995  996  997  999 1000 1002 1003\n",
      " 1004 1005 1006 1007 1008 1010 1011 1012 1013 1014 1015 1016 1017 1018\n",
      " 1019 1020 1021 1022 1024 1025 1026 1027 1028 1029 1030 1031 1032 1033\n",
      " 1034 1036 1037 1038 1039 1040 1042 1043 1044 1045 1046 1048 1049 1051\n",
      " 1052 1054 1055 1057 1058 1059 1060 1061 1062 1063 1064 1065 1066 1068\n",
      " 1069 1070 1071 1072 1073 1075 1076 1077 1078 1079] TEST: [   6    9   14   19   20   21   23   28   38   39   46   47   50   52\n",
      "   54   55   56   57   61   62   67   68   72   75   76   80   82   85\n",
      "   93  115  120  126  129  135  140  143  151  153  159  161  170  172\n",
      "  174  175  180  184  186  187  188  191  200  205  217  219  232  237\n",
      "  243  251  253  258  267  268  279  283  288  295  301  305  312  313\n",
      "  314  321  322  325  326  328  331  335  343  353  360  361  365  366\n",
      "  372  374  383  387  388  391  400  403  406  413  419  425  428  435\n",
      "  437  440  455  461  465  472  481  482  484  494  501  508  521  526\n",
      "  529  546  553  557  561  570  578  580  584  587  595  599  605  607\n",
      "  618  627  643  644  647  648  657  658  659  669  670  673  675  677\n",
      "  681  682  689  692  693  695  700  720  722  725  727  746  751  752\n",
      "  767  770  777  786  790  795  810  812  816  820  821  826  833  835\n",
      "  841  845  846  847  848  859  860  861  868  869  872  875  881  883\n",
      "  892  895  902  905  909  911  917  924  932  933  934  935  938  942\n",
      "  948  960  967  970  972  975  984  986  998 1001 1009 1023 1035 1041\n",
      " 1047 1050 1053 1056 1067 1074]\n",
      "TRAIN: [   1    2    3    6    7    8    9   10   11   12   13   14   15   16\n",
      "   17   19   20   21   22   23   27   28   29   30   31   32   33   35\n",
      "   37   38   39   41   42   43   44   45   46   47   49   50   51   52\n",
      "   53   54   55   56   57   58   59   61   62   63   64   65   66   67\n",
      "   68   70   71   72   74   75   76   77   80   81   82   83   84   85\n",
      "   88   89   90   91   92   93   94   95   96   99  100  101  102  104\n",
      "  106  107  108  109  111  112  113  114  115  116  117  118  120  121\n",
      "  122  123  124  125  126  127  128  129  133  134  135  136  138  140\n",
      "  142  143  144  145  146  147  148  149  150  151  152  153  154  155\n",
      "  157  159  160  161  163  164  167  168  170  171  172  174  175  176\n",
      "  177  178  180  181  182  183  184  185  186  187  188  191  192  193\n",
      "  195  196  197  198  199  200  201  202  203  204  205  207  208  209\n",
      "  210  211  213  214  215  216  217  219  220  221  223  224  225  226\n",
      "  228  229  230  231  232  233  234  235  236  237  239  240  241  243\n",
      "  244  245  246  247  248  250  251  253  257  258  260  261  262  263\n",
      "  264  265  266  267  268  269  271  272  274  275  277  278  279  280\n",
      "  282  283  284  285  286  287  288  290  291  292  293  295  296  298\n",
      "  300  301  303  304  305  306  308  309  311  312  313  314  315  316\n",
      "  317  318  319  320  321  322  323  325  326  328  329  330  331  333\n",
      "  334  335  336  337  338  340  341  342  343  344  345  346  347  348\n",
      "  349  350  351  352  353  354  355  356  357  358  359  360  361  362\n",
      "  363  365  366  367  368  369  370  371  372  374  375  376  377  378\n",
      "  379  380  381  382  383  384  385  386  387  388  389  391  392  393\n",
      "  394  395  396  397  399  400  401  402  403  404  405  406  407  408\n",
      "  409  410  411  412  413  414  416  417  418  419  420  421  422  424\n",
      "  425  426  427  428  429  430  432  433  434  435  436  437  439  440\n",
      "  442  445  447  448  449  450  451  453  454  455  456  457  459  461\n",
      "  464  465  466  467  468  469  470  472  473  475  477  478  479  481\n",
      "  482  483  484  485  487  488  489  490  491  493  494  495  496  498\n",
      "  499  501  502  503  504  506  507  508  509  510  511  512  513  515\n",
      "  516  519  520  521  523  524  525  526  528  529  530  531  532  533\n",
      "  534  537  538  540  541  542  544  545  546  547  548  550  551  552\n",
      "  553  554  555  556  557  558  560  561  562  563  565  566  568  570\n",
      "  571  572  573  574  576  577  578  580  581  583  584  585  586  587\n",
      "  588  589  591  592  593  594  595  597  598  599  601  602  604  605\n",
      "  606  607  608  609  610  611  612  613  614  615  616  617  618  619\n",
      "  620  621  622  623  624  625  626  627  629  630  631  632  633  634\n",
      "  635  636  637  638  641  642  643  644  645  647  648  650  651  653\n",
      "  654  655  656  657  658  659  660  662  663  664  665  666  667  668\n",
      "  669  670  671  672  673  674  675  676  677  679  681  682  684  685\n",
      "  686  687  688  689  690  692  693  694  695  697  698  699  700  701\n",
      "  702  704  705  708  709  710  711  712  714  716  718  719  720  721\n",
      "  722  723  724  725  726  727  728  729  730  731  732  733  734  735\n",
      "  736  737  738  741  742  743  744  746  747  750  751  752  753  754\n",
      "  755  756  757  760  762  763  764  765  767  768  770  771  772  773\n",
      "  774  776  777  780  781  782  783  785  786  787  788  790  792  793\n",
      "  795  796  800  802  803  805  806  807  810  811  812  813  814  815\n",
      "  816  817  820  821  822  823  825  826  827  828  829  830  831  832\n",
      "  833  835  837  838  839  840  841  842  844  845  846  847  848  849\n",
      "  850  851  852  853  855  857  859  860  861  862  864  866  868  869\n",
      "  871  872  874  875  876  878  879  880  881  882  883  884  885  886\n",
      "  887  888  889  891  892  894  895  899  900  902  903  904  905  908\n",
      "  909  911  912  913  914  915  917  919  920  921  922  923  924  925\n",
      "  926  927  928  930  931  932  933  934  935  936  938  939  940  941\n",
      "  942  943  944  945  946  947  948  949  951  952  953  954  956  957\n",
      "  959  960  961  962  963  964  965  966  967  968  970  971  972  973\n",
      "  974  975  977  980  981  982  983  984  985  986  987  989  991  992\n",
      "  993  994  995  996  997  998  999 1000 1001 1002 1003 1004 1005 1007\n",
      " 1009 1010 1011 1012 1013 1014 1015 1016 1017 1019 1022 1023 1024 1026\n",
      " 1027 1028 1029 1030 1031 1033 1035 1036 1039 1040 1041 1042 1043 1045\n",
      " 1047 1048 1049 1050 1052 1053 1054 1055 1056 1057 1060 1062 1064 1066\n",
      " 1067 1068 1069 1070 1074 1075 1076 1077 1078 1079] TEST: [   0    4    5   18   24   25   26   34   36   40   48   60   69   73\n",
      "   78   79   86   87   97   98  103  105  110  119  130  131  132  137\n",
      "  139  141  156  158  162  165  166  169  173  179  189  190  194  206\n",
      "  212  218  222  227  238  242  249  252  254  255  256  259  270  273\n",
      "  276  281  289  294  297  299  302  307  310  324  327  332  339  364\n",
      "  373  390  398  415  423  431  438  441  443  444  446  452  458  460\n",
      "  462  463  471  474  476  480  486  492  497  500  505  514  517  518\n",
      "  522  527  535  536  539  543  549  559  564  567  569  575  579  582\n",
      "  590  596  600  603  628  639  640  646  649  652  661  678  680  683\n",
      "  691  696  703  706  707  713  715  717  739  740  745  748  749  758\n",
      "  759  761  766  769  775  778  779  784  789  791  794  797  798  799\n",
      "  801  804  808  809  818  819  824  834  836  843  854  856  858  863\n",
      "  865  867  870  873  877  890  893  896  897  898  901  906  907  910\n",
      "  916  918  929  937  950  955  958  969  976  978  979  988  990 1006\n",
      " 1008 1018 1020 1021 1025 1032 1034 1037 1038 1044 1046 1051 1058 1059\n",
      " 1061 1063 1065 1071 1072 1073]\n",
      "TRAIN: [   0    2    3    4    5    6    9   10   12   13   14   16   17   18\n",
      "   19   20   21   22   23   24   25   26   28   29   30   31   32   34\n",
      "   35   36   37   38   39   40   42   43   46   47   48   49   50   51\n",
      "   52   53   54   55   56   57   59   60   61   62   65   67   68   69\n",
      "   70   71   72   73   74   75   76   77   78   79   80   82   84   85\n",
      "   86   87   88   89   90   91   93   94   95   96   97   98   99  103\n",
      "  105  106  108  109  110  114  115  116  118  119  120  122  123  124\n",
      "  125  126  127  128  129  130  131  132  133  134  135  136  137  138\n",
      "  139  140  141  142  143  145  147  148  149  150  151  152  153  156\n",
      "  157  158  159  161  162  163  165  166  167  168  169  170  172  173\n",
      "  174  175  176  177  178  179  180  182  183  184  186  187  188  189\n",
      "  190  191  192  194  195  197  200  202  205  206  207  208  209  212\n",
      "  213  216  217  218  219  221  222  223  224  225  227  228  231  232\n",
      "  233  236  237  238  242  243  246  247  249  251  252  253  254  255\n",
      "  256  258  259  261  263  265  266  267  268  270  271  272  273  275\n",
      "  276  277  278  279  280  281  282  283  284  285  286  287  288  289\n",
      "  291  292  293  294  295  296  297  298  299  300  301  302  304  305\n",
      "  307  309  310  312  313  314  315  318  320  321  322  324  325  326\n",
      "  327  328  329  330  331  332  333  334  335  336  338  339  340  341\n",
      "  342  343  344  345  346  347  348  349  350  351  352  353  354  355\n",
      "  356  357  360  361  363  364  365  366  367  369  370  371  372  373\n",
      "  374  375  376  377  378  380  382  383  384  385  386  387  388  390\n",
      "  391  392  393  394  395  396  398  399  400  401  402  403  404  405\n",
      "  406  407  409  411  412  413  414  415  417  419  420  421  423  424\n",
      "  425  427  428  429  431  432  433  434  435  437  438  439  440  441\n",
      "  442  443  444  445  446  447  448  449  450  451  452  453  454  455\n",
      "  456  457  458  459  460  461  462  463  464  465  467  468  471  472\n",
      "  473  474  475  476  477  480  481  482  483  484  485  486  487  488\n",
      "  489  491  492  493  494  496  497  500  501  502  503  504  505  507\n",
      "  508  509  511  512  514  515  516  517  518  519  520  521  522  523\n",
      "  524  526  527  528  529  530  531  532  533  535  536  537  538  539\n",
      "  540  543  545  546  547  549  550  551  553  554  555  556  557  558\n",
      "  559  560  561  562  563  564  566  567  569  570  571  572  573  574\n",
      "  575  577  578  579  580  581  582  583  584  586  587  589  590  592\n",
      "  593  594  595  596  597  598  599  600  601  603  604  605  607  609\n",
      "  610  611  612  613  615  616  618  619  621  622  623  626  627  628\n",
      "  629  631  632  633  635  636  637  638  639  640  641  642  643  644\n",
      "  646  647  648  649  650  651  652  653  655  657  658  659  660  661\n",
      "  663  664  666  667  669  670  672  673  675  677  678  679  680  681\n",
      "  682  683  685  686  687  688  689  690  691  692  693  694  695  696\n",
      "  698  699  700  701  702  703  704  706  707  711  712  713  714  715\n",
      "  716  717  718  719  720  721  722  724  725  726  727  730  731  732\n",
      "  734  736  738  739  740  741  742  743  745  746  748  749  750  751\n",
      "  752  753  755  757  758  759  761  762  763  764  765  766  767  769\n",
      "  770  773  774  775  776  777  778  779  780  782  783  784  786  788\n",
      "  789  790  791  793  794  795  796  797  798  799  801  803  804  805\n",
      "  806  808  809  810  811  812  813  815  816  818  819  820  821  824\n",
      "  825  826  830  831  833  834  835  836  837  839  840  841  843  844\n",
      "  845  846  847  848  850  853  854  856  858  859  860  861  862  863\n",
      "  864  865  866  867  868  869  870  871  872  873  874  875  877  878\n",
      "  879  881  882  883  884  885  886  888  889  890  891  892  893  895\n",
      "  896  897  898  900  901  902  903  905  906  907  908  909  910  911\n",
      "  914  915  916  917  918  919  920  922  924  925  926  927  928  929\n",
      "  930  931  932  933  934  935  937  938  939  940  941  942  943  946\n",
      "  947  948  950  952  953  955  956  957  958  959  960  962  963  964\n",
      "  965  966  967  968  969  970  971  972  973  975  976  977  978  979\n",
      "  980  982  983  984  985  986  988  989  990  991  992  995  996  997\n",
      "  998  999 1001 1002 1003 1004 1005 1006 1008 1009 1010 1013 1014 1017\n",
      " 1018 1019 1020 1021 1022 1023 1024 1025 1026 1027 1029 1032 1033 1034\n",
      " 1035 1037 1038 1039 1040 1041 1043 1044 1045 1046 1047 1048 1049 1050\n",
      " 1051 1053 1054 1055 1056 1057 1058 1059 1060 1061 1062 1063 1065 1067\n",
      " 1069 1070 1071 1072 1073 1074 1075 1076 1077 1079] TEST: [   1    7    8   11   15   27   33   41   44   45   58   63   64   66\n",
      "   81   83   92  100  101  102  104  107  111  112  113  117  121  144\n",
      "  146  154  155  160  164  171  181  185  193  196  198  199  201  203\n",
      "  204  210  211  214  215  220  226  229  230  234  235  239  240  241\n",
      "  244  245  248  250  257  260  262  264  269  274  290  303  306  308\n",
      "  311  316  317  319  323  337  358  359  362  368  379  381  389  397\n",
      "  408  410  416  418  422  426  430  436  466  469  470  478  479  490\n",
      "  495  498  499  506  510  513  525  534  541  542  544  548  552  565\n",
      "  568  576  585  588  591  602  606  608  614  617  620  624  625  630\n",
      "  634  645  654  656  662  665  668  671  674  676  684  697  705  708\n",
      "  709  710  723  728  729  733  735  737  744  747  754  756  760  768\n",
      "  771  772  781  785  787  792  800  802  807  814  817  822  823  827\n",
      "  828  829  832  838  842  849  851  852  855  857  876  880  887  894\n",
      "  899  904  912  913  921  923  936  944  945  949  951  954  961  974\n",
      "  981  987  993  994 1000 1007 1011 1012 1015 1016 1028 1030 1031 1036\n",
      " 1042 1052 1064 1066 1068 1078]\n"
     ]
    }
   ],
   "source": [
    "#Splitting the feature and the target columns into train and test data and printing their index\n",
    "for train_index, test_index in kf.split(protein_feature):\n",
    " \n",
    "    print(\"TRAIN:\", train_index, \"TEST:\", test_index)\n",
    " \n",
    "    X_train, X_test = protein_feature.iloc[train_index], protein_feature.iloc[test_index]\n",
    " \n",
    "    y_train, y_test = class_data.iloc[train_index], class_data.iloc[test_index]"
   ]
  },
  {
   "cell_type": "code",
   "execution_count": 98,
   "metadata": {},
   "outputs": [
    {
     "name": "stdout",
     "output_type": "stream",
     "text": [
      "[fold 0] score: 0.95370\n",
      "[fold 1] score: 0.93981\n",
      "[fold 2] score: 0.97222\n",
      "[fold 3] score: 0.98611\n",
      "[fold 4] score: 0.97685\n"
     ]
    }
   ],
   "source": [
    "#Calculating the accuracy score of all the kfold models\n",
    "for k, (train_index, test_index) in enumerate(kf.split(protein_feature)):\n",
    " \n",
    "    X_train, X_test = protein_feature.iloc[train_index], protein_feature.iloc[test_index]\n",
    "    y_train, y_test = class_data.iloc[train_index], class_data.iloc[test_index]\n",
    " \n",
    "    clf_1.fit(X_train, y_train)\n",
    "    print(\"[fold {0}] score: {1:.5f}\".format(k, clf_1.score(X_test, y_test))) "
   ]
  },
  {
   "cell_type": "code",
   "execution_count": 99,
   "metadata": {},
   "outputs": [],
   "source": [
    "#Comparing the Models \n",
    "#After checking the accuracy score of both the models ,we can recommend KNearest Neighbor Classifiers over the Decision tree \n",
    "#Classifier as the accuracy score and the classification report of the KNN model is higher than that of Decision tree model\n",
    "#As most of the data in the mice dataset is numerical ,KNN Model works better over Decision tree model ."
   ]
  },
  {
   "cell_type": "code",
   "execution_count": null,
   "metadata": {},
   "outputs": [],
   "source": [
    "\n"
   ]
  }
 ],
 "metadata": {
  "kernelspec": {
   "display_name": "Python 3",
   "language": "python",
   "name": "python3"
  },
  "language_info": {
   "codemirror_mode": {
    "name": "ipython",
    "version": 3
   },
   "file_extension": ".py",
   "mimetype": "text/x-python",
   "name": "python",
   "nbconvert_exporter": "python",
   "pygments_lexer": "ipython3",
   "version": "3.7.6"
  }
 },
 "nbformat": 4,
 "nbformat_minor": 4
}
